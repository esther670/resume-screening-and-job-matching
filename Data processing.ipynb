{
 "cells": [
  {
   "cell_type": "code",
   "execution_count": null,
   "id": "54ed8953",
   "metadata": {},
   "outputs": [
    {
     "name": "stderr",
     "output_type": "stream",
     "text": [
      "c:\\Users\\Esther\\miniconda3\\envs\\tf_env\\lib\\site-packages\\tqdm\\auto.py:21: TqdmWarning: IProgress not found. Please update jupyter and ipywidgets. See https://ipywidgets.readthedocs.io/en/stable/user_install.html\n",
      "  from .autonotebook import tqdm as notebook_tqdm\n"
     ]
    },
    {
     "name": "stdout",
     "output_type": "stream",
     "text": [
      "WARNING:tensorflow:From c:\\Users\\Esther\\miniconda3\\envs\\tf_env\\lib\\site-packages\\tf_keras\\src\\losses.py:2976: The name tf.losses.sparse_softmax_cross_entropy is deprecated. Please use tf.compat.v1.losses.sparse_softmax_cross_entropy instead.\n",
      "\n"
     ]
    }
   ],
   "source": [
    "# Import libraries\n",
    "import numpy as np\n",
    "import pandas as pd\n",
    "from bs4 import BeautifulSoup\n",
    "import requests\n",
    "import json\n",
    "import http.client\n",
    "\n",
    "# Data exploration and preprocessing\n",
    "import spacy\n",
    "import re\n",
    "import nltk\n",
    "import seaborn as sns\n",
    "import matplotlib.pyplot as plt\n",
    "\n",
    "# Build and train models\n",
    "import keras_tuner as kt\n",
    "from collections import Counter\n",
    "from transformers import BertTokenizer, TFBertForSequenceClassification\n",
    "import faiss\n",
    "from sentence_transformers import SentenceTransformer\n",
    "import voyageai\n",
    "from voyageai import Client\n",
    "import os\n",
    "from tqdm import tqdm"
   ]
  },
  {
   "cell_type": "markdown",
   "id": "1b8a55a3",
   "metadata": {},
   "source": [
    "## 1. Scraping of job listings from Adzuna API"
   ]
  },
  {
   "cell_type": "code",
   "execution_count": null,
   "id": "8b969f6b",
   "metadata": {},
   "outputs": [
    {
     "name": "stdout",
     "output_type": "stream",
     "text": [
      "Saved jobs to adzuna_jobs.csv\n"
     ]
    }
   ],
   "source": [
    "# Adzuna API credentials and base URL\n",
    "APP_ID = \"ee5e2937\"\n",
    "APP_KEY = \"b85d8687343a341fcf5bf76131a48ad2\"\n",
    "BASE_URL = \"https://api.adzuna.com/v1/api/jobs/us/search/{}\"\n",
    "\n",
    "all_jobs = []\n",
    "\n",
    "# Loop through first 10 pages\n",
    "for page in range(1, 11):  # pages 1 to 11\n",
    "    url = BASE_URL.format(page)\n",
    "    params = {\n",
    "        \"app_id\": APP_ID,\n",
    "        \"app_key\": APP_KEY,\n",
    "        \"results_per_page\": 50,\n",
    "    }\n",
    "\n",
    "    response = requests.get(url, params=params)\n",
    "\n",
    "    if response.status_code == 200:\n",
    "        data = response.json()\n",
    "        for job in data.get(\"results\", []):\n",
    "            all_jobs.append({\n",
    "            \"id\": job.get(\"id\"),\n",
    "            \"title\": job.get(\"title\"),\n",
    "            \"company\": job.get(\"company\", {}).get(\"display_name\"),\n",
    "            \"location\": job.get(\"location\", {}).get(\"display_name\"),\n",
    "            \"category\": job.get(\"category\", {}).get(\"label\"),\n",
    "            \"created\": job.get(\"created\"),\n",
    "            \"url\": job.get(\"redirect_url\"),\n",
    "            \"description\": job.get(\"description\"),\n",
    "            \"salary_min\": job.get(\"salary_min\"),\n",
    "            \"salary_max\": job.get(\"salary_max\"),\n",
    "            \"contract_type\": job.get(\"contract_type\"),\n",
    "            \"contract_time\": job.get(\"contract_time\"),\n",
    "            })\n",
    "    else:\n",
    "        print(f\"Failed on page {page}: {response.status_code}\")\n",
    "        print(response.text)\n",
    "\n",
    "# Save all jobs to CSV\n",
    "df = pd.DataFrame(all_jobs)\n",
    "df.to_csv(\"adzuna_jobs.csv\", index=False)\n",
    "print(\"Saved jobs to adzuna_jobs.csv\")\n"
   ]
  },
  {
   "cell_type": "code",
   "execution_count": null,
   "id": "f9107472",
   "metadata": {},
   "outputs": [
    {
     "name": "stdout",
     "output_type": "stream",
     "text": [
      "Saved jobs to adzuna_jobs_gb.csv\n"
     ]
    }
   ],
   "source": [
    "# Adzuna API credentials and base URL for UK jobs\n",
    "APP_ID = \"ee5e2937\"\n",
    "APP_KEY = \"b85d8687343a341fcf5bf76131a48ad2\"\n",
    "BASE_URL = \"https://api.adzuna.com/v1/api/jobs/gb/search/{}\"\n",
    "\n",
    "all_jobs = []\n",
    "\n",
    "# Loop through first 10 pages\n",
    "for page in range(1, 11):  # pages 1 to 11\n",
    "    url = BASE_URL.format(page)\n",
    "    params = {\n",
    "        \"app_id\": APP_ID,\n",
    "        \"app_key\": APP_KEY,\n",
    "        \"results_per_page\": 50,\n",
    "    }\n",
    "\n",
    "    response = requests.get(url, params=params)\n",
    "\n",
    "    if response.status_code == 200:\n",
    "        data = response.json()\n",
    "        for job in data.get(\"results\", []):\n",
    "            all_jobs.append({\n",
    "            \"id\": job.get(\"id\"),\n",
    "            \"title\": job.get(\"title\"),\n",
    "            \"company\": job.get(\"company\", {}).get(\"display_name\"),\n",
    "            \"location\": job.get(\"location\", {}).get(\"display_name\"),\n",
    "            \"category\": job.get(\"category\", {}).get(\"label\"),\n",
    "            \"created\": job.get(\"created\"),\n",
    "            \"url\": job.get(\"redirect_url\"),\n",
    "            \"description\": job.get(\"description\"),\n",
    "            \"salary_min\": job.get(\"salary_min\"),\n",
    "            \"salary_max\": job.get(\"salary_max\"),\n",
    "            \"contract_type\": job.get(\"contract_type\"),\n",
    "            \"contract_time\": job.get(\"contract_time\"),\n",
    "            })\n",
    "    else:\n",
    "        print(f\"Failed on page {page}: {response.status_code}\")\n",
    "        print(response.text)\n",
    "\n",
    "# Save all jobs to CSV\n",
    "df = pd.DataFrame(all_jobs)\n",
    "df.to_csv(\"adzuna_jobs_gb.csv\", index=False)\n",
    "print(\"Saved jobs to adzuna_jobs_gb.csv\")"
   ]
  },
  {
   "cell_type": "markdown",
   "id": "0dd7dafb",
   "metadata": {},
   "source": [
    "## 2. Loading of the jobs and resume dataset"
   ]
  },
  {
   "cell_type": "code",
   "execution_count": 57,
   "id": "a0f6d156",
   "metadata": {},
   "outputs": [
    {
     "data": {
      "application/vnd.microsoft.datawrangler.viewer.v0+json": {
       "columns": [
        {
         "name": "index",
         "rawType": "int64",
         "type": "integer"
        },
        {
         "name": "id",
         "rawType": "int64",
         "type": "integer"
        },
        {
         "name": "title",
         "rawType": "object",
         "type": "string"
        },
        {
         "name": "company",
         "rawType": "object",
         "type": "string"
        },
        {
         "name": "location",
         "rawType": "object",
         "type": "string"
        },
        {
         "name": "category",
         "rawType": "object",
         "type": "string"
        },
        {
         "name": "created",
         "rawType": "object",
         "type": "string"
        },
        {
         "name": "url",
         "rawType": "object",
         "type": "string"
        },
        {
         "name": "description",
         "rawType": "object",
         "type": "string"
        },
        {
         "name": "salary_min",
         "rawType": "float64",
         "type": "float"
        },
        {
         "name": "salary_max",
         "rawType": "float64",
         "type": "float"
        },
        {
         "name": "contract_type",
         "rawType": "object",
         "type": "unknown"
        },
        {
         "name": "contract_time",
         "rawType": "object",
         "type": "unknown"
        }
       ],
       "conversionMethod": "pd.DataFrame",
       "ref": "5fe6c4d3-ed0c-4069-af3c-efd5d3220f44",
       "rows": [
        [
         "0",
         "5185229320",
         "Early Years Educator Nursery",
         "Partou",
         "Ware, Hertfordshire",
         "Teaching Jobs",
         "2025-05-07T14:32:36Z",
         "https://www.adzuna.co.uk/jobs/details/5185229320?utm_medium=api&utm_source=ee5e2937",
         "Join Partou, where we put children in the lead! We're seeking dedicated and qualified Level 3 early years practitioners to join our Sucklings Yard Day Nusery & Pre School. Part tine 20 hours a week and a competitive salary £27,600 (pro rata) At Partou, we are committed to providing exceptional care, compassion, and continuous learning. These values guide our interactions with children, families, and team members, ensuring a nurturing and supportive environment. Some of the benefits of working a…",
         "27600.0",
         "27600.0",
         "permanent",
         "part_time"
        ],
        [
         "1",
         "5172986638",
         "Housekeeping Assistant - Bank - Care Home",
         "Barchester Healthcare",
         "Melbourn, Royston",
         "Domestic help & Cleaning Jobs",
         "2025-05-01T13:32:39Z",
         "https://www.adzuna.co.uk/jobs/details/5172986638?utm_medium=api&utm_source=ee5e2937",
         "ABOUT THE ROLE As a Bank Housekeeping Assistant at a Barchester care home, you'll help to create a warm and homely environment that enables us to meet each resident's unique needs. Keeping the home clean and safe is no small task, which is why the role of a Bank Housekeeping Assistant is so important. The variety of housekeeping and cleaning tasks you carry out will ensure everyone can enjoy a clean, tidy and welcoming environment. This means you'll have a direct impact on our residents, their …",
         "29619.0",
         "29619.0",
         null,
         null
        ],
        [
         "2",
         "5190346944",
         "Care Home Administrator",
         "Barchester Healthcare",
         "Harlow Green, Gateshead",
         "Admin Jobs",
         "2025-05-09T13:37:28Z",
         "https://www.adzuna.co.uk/jobs/details/5190346944?utm_medium=api&utm_source=ee5e2937",
         "Barchester Healthcare are looking for an experienced and dedicated Administrator to join our team and play a pivotal role within the home's management team. Providing the General Manager with the support needed to ensure the efficient running of a high quality home, this varied position encompasses managing Customer Experience elements alongside, HR, Recruitment, Payroll, Finance and the supervision of junior members of the administration team. You'll need to be a self-sufficient and profession…",
         "28000.0",
         "28000.0",
         "permanent",
         null
        ],
        [
         "3",
         "5149584869",
         "Care Assistant - Bank - Care Home",
         "Barchester Healthcare",
         "Wilton, Salisbury",
         "Healthcare & Nursing Jobs",
         "2025-04-17T13:30:03Z",
         "https://www.adzuna.co.uk/jobs/details/5149584869?utm_medium=api&utm_source=ee5e2937",
         "ABOUT THE ROLE As a Bank Care Assistant at a Barchester care home, you'll help residents enjoy each day by making sure they get the quality care and support they deserve. You'll assist with daily living, providing support and companionship and sharing great moments and memories too. It's a chance to bring your dedication and compassion to a fulfilling environment. Every day will be different, so you can expect to undertake work that's as varied as it is rewarding. As a Bank Care Assistant, you …",
         "33342.0",
         "33342.0",
         null,
         null
        ],
        [
         "4",
         "5172986642",
         "Activities Assistant - Care Home",
         "Barchester Healthcare",
         "Badgeworth, Cheltenham",
         "Hospitality & Catering Jobs",
         "2025-05-01T13:32:39Z",
         "https://www.adzuna.co.uk/jobs/details/5172986642?utm_medium=api&utm_source=ee5e2937",
         "ABOUT THE ROLE As an Activities Assistant at a Barchester care home, you'll deliver imaginative, fun and varied activities to ensure our residents can enjoy an environment that is motivational and fulfilling. We want to make sure each individual can pursue the interests they most enjoy and that means you'll have a real impact on our residents' lives. The Activities Assistant role involves helping us to deliver an entertainment and activities programme that covers a wide range of pastimes, socia…",
         "26436.0",
         "26436.0",
         "permanent",
         null
        ]
       ],
       "shape": {
        "columns": 12,
        "rows": 5
       }
      },
      "text/html": [
       "<div>\n",
       "<style scoped>\n",
       "    .dataframe tbody tr th:only-of-type {\n",
       "        vertical-align: middle;\n",
       "    }\n",
       "\n",
       "    .dataframe tbody tr th {\n",
       "        vertical-align: top;\n",
       "    }\n",
       "\n",
       "    .dataframe thead th {\n",
       "        text-align: right;\n",
       "    }\n",
       "</style>\n",
       "<table border=\"1\" class=\"dataframe\">\n",
       "  <thead>\n",
       "    <tr style=\"text-align: right;\">\n",
       "      <th></th>\n",
       "      <th>id</th>\n",
       "      <th>title</th>\n",
       "      <th>company</th>\n",
       "      <th>location</th>\n",
       "      <th>category</th>\n",
       "      <th>created</th>\n",
       "      <th>url</th>\n",
       "      <th>description</th>\n",
       "      <th>salary_min</th>\n",
       "      <th>salary_max</th>\n",
       "      <th>contract_type</th>\n",
       "      <th>contract_time</th>\n",
       "    </tr>\n",
       "  </thead>\n",
       "  <tbody>\n",
       "    <tr>\n",
       "      <th>0</th>\n",
       "      <td>5185229320</td>\n",
       "      <td>Early Years Educator Nursery</td>\n",
       "      <td>Partou</td>\n",
       "      <td>Ware, Hertfordshire</td>\n",
       "      <td>Teaching Jobs</td>\n",
       "      <td>2025-05-07T14:32:36Z</td>\n",
       "      <td>https://www.adzuna.co.uk/jobs/details/51852293...</td>\n",
       "      <td>Join Partou, where we put children in the lead...</td>\n",
       "      <td>27600.0</td>\n",
       "      <td>27600.0</td>\n",
       "      <td>permanent</td>\n",
       "      <td>part_time</td>\n",
       "    </tr>\n",
       "    <tr>\n",
       "      <th>1</th>\n",
       "      <td>5172986638</td>\n",
       "      <td>Housekeeping Assistant - Bank - Care Home</td>\n",
       "      <td>Barchester Healthcare</td>\n",
       "      <td>Melbourn, Royston</td>\n",
       "      <td>Domestic help &amp; Cleaning Jobs</td>\n",
       "      <td>2025-05-01T13:32:39Z</td>\n",
       "      <td>https://www.adzuna.co.uk/jobs/details/51729866...</td>\n",
       "      <td>ABOUT THE ROLE As a Bank Housekeeping Assistan...</td>\n",
       "      <td>29619.0</td>\n",
       "      <td>29619.0</td>\n",
       "      <td>NaN</td>\n",
       "      <td>NaN</td>\n",
       "    </tr>\n",
       "    <tr>\n",
       "      <th>2</th>\n",
       "      <td>5190346944</td>\n",
       "      <td>Care Home Administrator</td>\n",
       "      <td>Barchester Healthcare</td>\n",
       "      <td>Harlow Green, Gateshead</td>\n",
       "      <td>Admin Jobs</td>\n",
       "      <td>2025-05-09T13:37:28Z</td>\n",
       "      <td>https://www.adzuna.co.uk/jobs/details/51903469...</td>\n",
       "      <td>Barchester Healthcare are looking for an exper...</td>\n",
       "      <td>28000.0</td>\n",
       "      <td>28000.0</td>\n",
       "      <td>permanent</td>\n",
       "      <td>NaN</td>\n",
       "    </tr>\n",
       "    <tr>\n",
       "      <th>3</th>\n",
       "      <td>5149584869</td>\n",
       "      <td>Care Assistant - Bank - Care Home</td>\n",
       "      <td>Barchester Healthcare</td>\n",
       "      <td>Wilton, Salisbury</td>\n",
       "      <td>Healthcare &amp; Nursing Jobs</td>\n",
       "      <td>2025-04-17T13:30:03Z</td>\n",
       "      <td>https://www.adzuna.co.uk/jobs/details/51495848...</td>\n",
       "      <td>ABOUT THE ROLE As a Bank Care Assistant at a B...</td>\n",
       "      <td>33342.0</td>\n",
       "      <td>33342.0</td>\n",
       "      <td>NaN</td>\n",
       "      <td>NaN</td>\n",
       "    </tr>\n",
       "    <tr>\n",
       "      <th>4</th>\n",
       "      <td>5172986642</td>\n",
       "      <td>Activities Assistant - Care Home</td>\n",
       "      <td>Barchester Healthcare</td>\n",
       "      <td>Badgeworth, Cheltenham</td>\n",
       "      <td>Hospitality &amp; Catering Jobs</td>\n",
       "      <td>2025-05-01T13:32:39Z</td>\n",
       "      <td>https://www.adzuna.co.uk/jobs/details/51729866...</td>\n",
       "      <td>ABOUT THE ROLE As an Activities Assistant at a...</td>\n",
       "      <td>26436.0</td>\n",
       "      <td>26436.0</td>\n",
       "      <td>permanent</td>\n",
       "      <td>NaN</td>\n",
       "    </tr>\n",
       "  </tbody>\n",
       "</table>\n",
       "</div>"
      ],
      "text/plain": [
       "           id                                      title  \\\n",
       "0  5185229320               Early Years Educator Nursery   \n",
       "1  5172986638  Housekeeping Assistant - Bank - Care Home   \n",
       "2  5190346944                    Care Home Administrator   \n",
       "3  5149584869          Care Assistant - Bank - Care Home   \n",
       "4  5172986642           Activities Assistant - Care Home   \n",
       "\n",
       "                 company                 location  \\\n",
       "0                 Partou      Ware, Hertfordshire   \n",
       "1  Barchester Healthcare        Melbourn, Royston   \n",
       "2  Barchester Healthcare  Harlow Green, Gateshead   \n",
       "3  Barchester Healthcare        Wilton, Salisbury   \n",
       "4  Barchester Healthcare   Badgeworth, Cheltenham   \n",
       "\n",
       "                        category               created  \\\n",
       "0                  Teaching Jobs  2025-05-07T14:32:36Z   \n",
       "1  Domestic help & Cleaning Jobs  2025-05-01T13:32:39Z   \n",
       "2                     Admin Jobs  2025-05-09T13:37:28Z   \n",
       "3      Healthcare & Nursing Jobs  2025-04-17T13:30:03Z   \n",
       "4    Hospitality & Catering Jobs  2025-05-01T13:32:39Z   \n",
       "\n",
       "                                                 url  \\\n",
       "0  https://www.adzuna.co.uk/jobs/details/51852293...   \n",
       "1  https://www.adzuna.co.uk/jobs/details/51729866...   \n",
       "2  https://www.adzuna.co.uk/jobs/details/51903469...   \n",
       "3  https://www.adzuna.co.uk/jobs/details/51495848...   \n",
       "4  https://www.adzuna.co.uk/jobs/details/51729866...   \n",
       "\n",
       "                                         description  salary_min  salary_max  \\\n",
       "0  Join Partou, where we put children in the lead...     27600.0     27600.0   \n",
       "1  ABOUT THE ROLE As a Bank Housekeeping Assistan...     29619.0     29619.0   \n",
       "2  Barchester Healthcare are looking for an exper...     28000.0     28000.0   \n",
       "3  ABOUT THE ROLE As a Bank Care Assistant at a B...     33342.0     33342.0   \n",
       "4  ABOUT THE ROLE As an Activities Assistant at a...     26436.0     26436.0   \n",
       "\n",
       "  contract_type contract_time  \n",
       "0     permanent     part_time  \n",
       "1           NaN           NaN  \n",
       "2     permanent           NaN  \n",
       "3           NaN           NaN  \n",
       "4     permanent           NaN  "
      ]
     },
     "execution_count": 57,
     "metadata": {},
     "output_type": "execute_result"
    }
   ],
   "source": [
    "jobs_gb = pd.read_csv('adzuna_jobs_gb.csv')\n",
    "jobs_gb.head()"
   ]
  },
  {
   "cell_type": "code",
   "execution_count": 45,
   "id": "1f19011c",
   "metadata": {},
   "outputs": [
    {
     "data": {
      "application/vnd.microsoft.datawrangler.viewer.v0+json": {
       "columns": [
        {
         "name": "index",
         "rawType": "int64",
         "type": "integer"
        },
        {
         "name": "ID",
         "rawType": "int64",
         "type": "integer"
        },
        {
         "name": "Resume_str",
         "rawType": "object",
         "type": "string"
        },
        {
         "name": "Resume_html",
         "rawType": "object",
         "type": "string"
        },
        {
         "name": "Category",
         "rawType": "object",
         "type": "string"
        }
       ],
       "conversionMethod": "pd.DataFrame",
       "ref": "6086907b-7922-46ba-b924-9d85d3e6aa32",
       "rows": [
        [
         "0",
         "16852973",
         "         HR ADMINISTRATOR/MARKETING ASSOCIATE\n\nHR ADMINISTRATOR       Summary     Dedicated Customer Service Manager with 15+ years of experience in Hospitality and Customer Service Management.   Respected builder and leader of customer-focused teams; strives to instill a shared, enthusiastic commitment to customer service.         Highlights         Focused on customer satisfaction  Team management  Marketing savvy  Conflict resolution techniques     Training and development  Skilled multi-tasker  Client relations specialist           Accomplishments      Missouri DOT Supervisor Training Certification  Certified by IHG in Customer Loyalty and Marketing by Segment   Hilton Worldwide General Manager Training Certification  Accomplished Trainer for cross server hospitality systems such as    Hilton OnQ  ,   Micros    Opera PMS   , Fidelio    OPERA    Reservation System (ORS) ,   Holidex    Completed courses and seminars in customer service, sales strategies, inventory control, loss prevention, safety, time management, leadership and performance assessment.        Experience      HR Administrator/Marketing Associate\n\nHR Administrator     Dec 2013   to   Current      Company Name   －   City  ,   State     Helps to develop policies, directs and coordinates activities such as employment, compensation, labor relations, benefits, training, and employee services.  Prepares employee separation notices and related documentation  Keeps records of benefits plans participation such as insurance and pension plan, personnel transactions such as hires, promotions, transfers, performance reviews, and terminations, and employee statistics for government reporting.  Advises management in appropriate resolution of employee relations issues.  Administers benefits programs such as life, health, dental, insurance, pension plans, vacation, sick leave, leave of absence, and employee assistance.     Marketing Associate     Designed and created marketing collateral for sales meetings, trade shows and company executives.  Managed the in-house advertising program consisting of print and media collateral pieces.  Assisted in the complete design and launch of the company's website in 2 months.  Created an official company page on Facebook to facilitate interaction with customers.  Analyzed ratings and programming features of competitors to evaluate the effectiveness of marketing strategies.         Advanced Medical Claims Analyst     Mar 2012   to   Dec 2013      Company Name   －   City  ,   State     Reviewed medical bills for the accuracy of the treatments, tests, and hospital stays prior to sanctioning the claims.  Trained to interpret the codes (ICD-9, CPT) and terminology commonly used in medical billing to fully understand the paperwork that is submitted by healthcare providers.  Required to have organizational and analytical skills as well as computer skills, knowledge of medical terminology and procedures, statistics, billing standards, data analysis and laws regarding medical billing.         Assistant General Manager     Jun 2010   to   Dec 2010      Company Name   －   City  ,   State     Performed duties including but not limited to, budgeting and financial management, accounting, human resources, payroll and purchasing.  Established and maintained close working relationships with all departments of the hotel to ensure maximum operation, productivity, morale and guest service.  Handled daily operations and reported directly to the corporate office.  Hired and trained staff on overall objectives and goals with an emphasis on high customer service.  Marketing and Advertising, working on public relations with the media, government and local businesses and Chamber of Commerce.         Executive Support / Marketing Assistant     Jul 2007   to   Jun 2010      Company Name   －   City  ,   State     Provided assistance to various department heads - Executive, Marketing, Customer Service, Human Resources.  Managed front-end operations to ensure friendly and efficient transactions.  Ensured the swift resolution of customer issues to preserve customer loyalty while complying with company policies.  Exemplified the second-to-none customer service delivery in all interactions with customers and potential clients.         Reservation & Front Office Manager     Jun 2004   to   Jul 2007      Company Name   －   City  ,   State          Owner/ Partner     Dec 2001   to   May 2004      Company Name   －   City  ,   State          Price Integrity Coordinator     Aug 1999   to   Dec 2001      Company Name   －   City  ,   State          Education      N/A  ,   Business Administration   1999     Jefferson College   －   City  ,   State       Business Administration  Marketing / Advertising         High School Diploma  ,   College Prep. studies   1998     Sainte Genevieve Senior High   －   City  ,   State       Awarded American Shrubel Leadership Scholarship to Jefferson College         Skills     Accounting, ads, advertising, analytical skills, benefits, billing, budgeting, clients, Customer Service, data analysis, delivery, documentation, employee relations, financial management, government relations, Human Resources, insurance, labor relations, layout, Marketing, marketing collateral, medical billing, medical terminology, office, organizational, payroll, performance reviews, personnel, policies, posters, presentations, public relations, purchasing, reporting, statistics, website.    ",
         "<div class=\"fontsize fontface vmargins hmargins linespacing pagesize\" id=\"document\"> <div class=\"section firstsection\" id=\"SECTION_NAME500375979\" style=\"\n      padding-top:0px;\n    \"> <div class=\"paragraph PARAGRAPH_NAME firstparagraph\" id=\"PARAGRAPH_500375979_1_326506904\" style=\"\n      padding-top:0px;\n    \"> <div class=\"name\" itemprop=\"name\"> <span class=\"field fName\" id=\"500375979FNAM1\"> </span> <span> </span> <span class=\"field\" id=\"500375979LNAM1\"> HR ADMINISTRATOR/MARKETING ASSOCIATE\n\nHR ADMINISTRATOR</span> </div> </div> </div> <div class=\"section\" id=\"SECTION_SUMM500375981\" style=\"\n      padding-top:0px;\n    \"> <div class=\"heading bottomborder\"> <div class=\"sectiontitle\" id=\"SECTNAME_SUMM500375981\"> Summary</div> </div> <div class=\"paragraph firstparagraph\" id=\"PARAGRAPH_500375981_1_326506917\" style=\"\n      padding-top:0px;\n    \"> <div class=\"field singlecolumn\" id=\"500375981FRFM1\"> <p align=\"LEFT\"> Dedicated Customer Service Manager with 15+ years of experience in Hospitality and Customer Service Management. </p> <p align=\"LEFT\"> Respected builder and leader of customer-focused teams; strives to instill a shared, enthusiastic commitment to customer service.  </p> </div> </div> </div> <div class=\"section\" id=\"SECTION_HILT500375982\" style=\"\n      padding-top:0px;\n    \"> <div class=\"heading bottomborder\"> <div class=\"sectiontitle\" id=\"SECTNAME_HILT500375982\"> Highlights</div> </div> <div class=\"paragraph firstparagraph\" id=\"PARAGRAPH_500375982_1_326509244\" style=\"\n      padding-top:0px;\n    \"> <div class=\"singlecolumn maincolumn\"> <table class=\"twocol\"> <tbody> <tr> <td class=\"field twocol_1\" id=\"500375982SKC11\"> <p align=\"CENTER\"> Focused on customer satisfaction</p> <p align=\"CENTER\"> Team management</p> <p align=\"CENTER\"> Marketing savvy</p> <p align=\"CENTER\"> Conflict resolution techniques</p> <br/> </td> <td class=\"field twocol_2\" id=\"500375982SKC21\"> <p align=\"CENTER\"> Training and development</p> <p align=\"CENTER\"> Skilled multi-tasker</p> <p align=\"CENTER\"> Client relations specialist</p> </td> </tr> </tbody> </table> </div> </div> </div> <div class=\"section\" id=\"SECTION_ACCM500375993\" style=\"\n      padding-top:0px;\n    \"> <div class=\"heading bottomborder\"> <div class=\"sectiontitle\" id=\"SECTNAME_ACCM500375993\"> Accomplishments</div> </div> <div class=\"paragraph firstparagraph\" id=\"PARAGRAPH_500375993_1_326506914\" style=\"\n      padding-top:0px;\n    \"> <div class=\"field singlecolumn\" id=\"500375993FRFM1\"> <ul> <li> Missouri DOT Supervisor Training Certification</li> <li> Certified by IHG in Customer Loyalty and Marketing by Segment </li> <li> Hilton Worldwide General Manager Training Certification</li> <li> Accomplished Trainer for cross server hospitality systems such as  <b> <u> Hilton OnQ</u> </b> ,  <u> Micros </u> <b> <u> Opera PMS</u> </b> <u> , Fidelio </u> <b> <u> OPERA</u> </b> <u>  Reservation System (ORS)</u> , <b> <u> Holidex</u> </b> </li> <li> Completed courses and seminars in customer service, sales strategies, inventory control, loss prevention, safety, time management, leadership and performance assessment.</li> </ul> </div> </div> </div> <div class=\"section\" id=\"SECTION_EXPR500375983\" style=\"\n      padding-top:0px;\n    \"> <div class=\"heading bottomborder\"> <div class=\"sectiontitle\" id=\"SECTNAME_EXPR500375983\"> Experience</div> </div> <div class=\"paragraph firstparagraph\" id=\"PARAGRAPH_500375983_1_326506906\" itemscope=\"\" itemtype=\"https://schema.org/Organization\" style=\"\n      padding-top:0px;\n    \"> <div class=\"singlecolumn\"> <span class=\"paddedline\"> <span class=\"jobtitle\" id=\"500375983JTIT1\"> HR Administrator/Marketing Associate\n\nHR Administrator</span> <span> </span> <span class=\"datesWrapper\"> <span class=\"jobdates\" format=\"%b %Y\" id=\"500375983JSTD1\"> Dec 2013</span> <span>  to </span> <span class=\"jobdates\" format=\"%b %Y\" id=\"500375983EDDT1\"> Current</span> <br/> </span> </span> <span class=\"paddedline\" itemscope=\"\" itemtype=\"https://schema.org/postalAddress\"> <span class=\"companyname\" id=\"500375983COMP1\" itemprop=\"name\"> Company Name</span> <span>  － </span> <span class=\"joblocation jobcity\" id=\"500375983JCIT1\" itemprop=\"addressLocality\"> City</span> <span> , </span> <span class=\"joblocation jobstate\" id=\"500375983JSTA1\" itemprop=\"addressRegion\"> State</span> </span> <span class=\"jobline\" id=\"500375983JDES1\" itemprop=\"description\"> <ul> <li> Helps to develop policies, directs and coordinates activities such as employment, compensation, labor relations, benefits, training, and employee services.</li> <li> Prepares employee separation notices and related documentation</li> <li> Keeps records of benefits plans participation such as insurance and pension plan, personnel transactions such as hires, promotions, transfers, performance reviews, and terminations, and employee statistics for government reporting.</li> <li> Advises management in appropriate resolution of employee relations issues.</li> <li> Administers benefits programs such as life, health, dental, insurance, pension plans, vacation, sick leave, leave of absence, and employee assistance.</li> </ul> <br/> <p align=\"LEFT\"> <b> Marketing Associate</b>  </p> <ul> <li> Designed and created marketing collateral for sales meetings, trade shows and company executives.</li> <li> Managed the in-house advertising program consisting of print and media collateral pieces.</li> <li> Assisted in the complete design and launch of the company's website in 2 months.</li> <li> Created an official company page on Facebook to facilitate interaction with customers.</li> <li> Analyzed ratings and programming features of competitors to evaluate the effectiveness of marketing strategies.</li> </ul> </span> </div> </div> <div class=\"paragraph\" id=\"PARAGRAPH_500375983_2_326506907\" itemscope=\"\" itemtype=\"https://schema.org/Organization\" style=\"\n      padding-top:10px;\n    \"> <div class=\"singlecolumn\"> <span class=\"paddedline\"> <span class=\"jobtitle\" id=\"500375983JTIT2\"> Advanced Medical Claims Analyst</span> <span> </span> <span class=\"datesWrapper\"> <span class=\"jobdates\" format=\"%b %Y\" id=\"500375983JSTD2\"> Mar 2012</span> <span>  to </span> <span class=\"jobdates\" format=\"%b %Y\" id=\"500375983EDDT2\"> Dec 2013</span> <br/> </span> </span> <span class=\"paddedline\" itemscope=\"\" itemtype=\"https://schema.org/postalAddress\"> <span class=\"companyname\" id=\"500375983COMP2\" itemprop=\"name\"> Company Name</span> <span>  － </span> <span class=\"joblocation jobcity\" id=\"500375983JCIT2\" itemprop=\"addressLocality\"> City</span> <span> , </span> <span class=\"joblocation jobstate\" id=\"500375983JSTA2\" itemprop=\"addressRegion\"> State</span> </span> <span class=\"jobline\" id=\"500375983JDES2\" itemprop=\"description\"> <ul> <li> Reviewed medical bills for the accuracy of the treatments, tests, and hospital stays prior to sanctioning the claims.</li> <li> Trained to interpret the codes (ICD-9, CPT) and terminology commonly used in medical billing to fully understand the paperwork that is submitted by healthcare providers.</li> <li> Required to have organizational and analytical skills as well as computer skills, knowledge of medical terminology and procedures, statistics, billing standards, data analysis and laws regarding medical billing.</li> </ul> </span> </div> </div> <div class=\"paragraph\" id=\"PARAGRAPH_500375983_3_326506908\" itemscope=\"\" itemtype=\"https://schema.org/Organization\" style=\"\n      padding-top:15px;\n    \"> <div class=\"singlecolumn\"> <span class=\"paddedline\"> <span class=\"jobtitle\" id=\"500375983JTIT3\"> Assistant General Manager</span> <span> </span> <span class=\"datesWrapper\"> <span class=\"jobdates\" format=\"%b %Y\" id=\"500375983JSTD3\"> Jun 2010</span> <span>  to </span> <span class=\"jobdates\" format=\"%b %Y\" id=\"500375983EDDT3\"> Dec 2010</span> <br/> </span> </span> <span class=\"paddedline\" itemscope=\"\" itemtype=\"https://schema.org/postalAddress\"> <span class=\"companyname\" id=\"500375983COMP3\" itemprop=\"name\"> Company Name</span> <span>  － </span> <span class=\"joblocation jobcity\" id=\"500375983JCIT3\" itemprop=\"addressLocality\"> City</span> <span> , </span> <span class=\"joblocation jobstate\" id=\"500375983JSTA3\" itemprop=\"addressRegion\"> State</span> </span> <span class=\"jobline\" id=\"500375983JDES3\" itemprop=\"description\"> <ul> <li> Performed duties including but not limited to, budgeting and financial management, accounting, human resources, payroll and purchasing.</li> <li> Established and maintained close working relationships with all departments of the hotel to ensure maximum operation, productivity, morale and guest service.</li> <li> Handled daily operations and reported directly to the corporate office.</li> <li> Hired and trained staff on overall objectives and goals with an emphasis on high customer service.</li> <li> Marketing and Advertising, working on public relations with the media, government and local businesses and Chamber of Commerce.</li> </ul> </span> </div> </div> <div class=\"paragraph\" id=\"PARAGRAPH_500375983_4_326506910\" itemscope=\"\" itemtype=\"https://schema.org/Organization\" style=\"\n      padding-top:5px;\n    \"> <div class=\"singlecolumn\"> <span class=\"paddedline\"> <span class=\"jobtitle\" id=\"500375983JTIT4\"> Executive Support / Marketing Assistant</span> <span> </span> <span class=\"datesWrapper\"> <span class=\"jobdates\" format=\"%b %Y\" id=\"500375983JSTD4\"> Jul 2007</span> <span>  to </span> <span class=\"jobdates\" format=\"%b %Y\" id=\"500375983EDDT4\"> Jun 2010</span> <br/> </span> </span> <span class=\"paddedline\" itemscope=\"\" itemtype=\"https://schema.org/postalAddress\"> <span class=\"companyname\" id=\"500375983COMP4\" itemprop=\"name\"> Company Name</span> <span>  － </span> <span class=\"joblocation jobcity\" id=\"500375983JCIT4\" itemprop=\"addressLocality\"> City</span> <span> , </span> <span class=\"joblocation jobstate\" id=\"500375983JSTA4\" itemprop=\"addressRegion\"> State</span> </span> <span class=\"jobline\" id=\"500375983JDES4\" itemprop=\"description\"> <ul> <li> Provided assistance to various department heads - Executive, Marketing, Customer Service, Human Resources.</li> <li> Managed front-end operations to ensure friendly and efficient transactions.</li> <li> Ensured the swift resolution of customer issues to preserve customer loyalty while complying with company policies.</li> <li> Exemplified the second-to-none customer service delivery in all interactions with customers and potential clients.</li> </ul> </span> </div> </div> <div class=\"paragraph\" id=\"PARAGRAPH_500375983_5_326506911\" itemscope=\"\" itemtype=\"https://schema.org/Organization\" style=\"\n      padding-top:10px;\n    \"> <div class=\"singlecolumn\"> <span class=\"paddedline\"> <span class=\"jobtitle\" id=\"500375983JTIT5\"> Reservation &amp; Front Office Manager</span> <span> </span> <span class=\"datesWrapper\"> <span class=\"jobdates\" format=\"%b %Y\" id=\"500375983JSTD5\"> Jun 2004</span> <span>  to </span> <span class=\"jobdates\" format=\"%b %Y\" id=\"500375983EDDT5\"> Jul 2007</span> <br/> </span> </span> <span class=\"paddedline\" itemscope=\"\" itemtype=\"https://schema.org/postalAddress\"> <span class=\"companyname\" id=\"500375983COMP5\" itemprop=\"name\"> Company Name</span> <span>  － </span> <span class=\"joblocation jobcity\" id=\"500375983JCIT5\" itemprop=\"addressLocality\"> City</span> <span> , </span> <span class=\"joblocation jobstate\" id=\"500375983JSTA5\" itemprop=\"addressRegion\"> State</span> </span> <span class=\"jobline\" id=\"500375983JDES5\" itemprop=\"description\"> </span> </div> </div> <div class=\"paragraph\" id=\"PARAGRAPH_500375983_6_326506912\" itemscope=\"\" itemtype=\"https://schema.org/Organization\" style=\"\n      padding-top:10px;\n    \"> <div class=\"singlecolumn\"> <span class=\"paddedline\"> <span class=\"jobtitle\" id=\"500375983JTIT6\"> Owner/ Partner</span> <span> </span> <span class=\"datesWrapper\"> <span class=\"jobdates\" format=\"%b %Y\" id=\"500375983JSTD6\"> Dec 2001</span> <span>  to </span> <span class=\"jobdates\" format=\"%b %Y\" id=\"500375983EDDT6\"> May 2004</span> <br/> </span> </span> <span class=\"paddedline\" itemscope=\"\" itemtype=\"https://schema.org/postalAddress\"> <span class=\"companyname\" id=\"500375983COMP6\" itemprop=\"name\"> Company Name</span> <span>  － </span> <span class=\"joblocation jobcity\" id=\"500375983JCIT6\" itemprop=\"addressLocality\"> City</span> <span> , </span> <span class=\"joblocation jobstate\" id=\"500375983JSTA6\" itemprop=\"addressRegion\"> State</span> </span> <span class=\"jobline\" id=\"500375983JDES6\" itemprop=\"description\"> </span> </div> </div> <div class=\"paragraph\" id=\"PARAGRAPH_500375983_7_326506913\" itemscope=\"\" itemtype=\"https://schema.org/Organization\" style=\"\n      padding-top:10px;\n    \"> <div class=\"singlecolumn\"> <span class=\"paddedline\"> <span class=\"jobtitle\" id=\"500375983JTIT7\"> Price Integrity Coordinator</span> <span> </span> <span class=\"datesWrapper\"> <span class=\"jobdates\" format=\"%b %Y\" id=\"500375983JSTD7\"> Aug 1999</span> <span>  to </span> <span class=\"jobdates\" format=\"%b %Y\" id=\"500375983EDDT7\"> Dec 2001</span> <br/> </span> </span> <span class=\"paddedline\" itemscope=\"\" itemtype=\"https://schema.org/postalAddress\"> <span class=\"companyname\" id=\"500375983COMP7\" itemprop=\"name\"> Company Name</span> <span>  － </span> <span class=\"joblocation jobcity\" id=\"500375983JCIT7\" itemprop=\"addressLocality\"> City</span> <span> , </span> <span class=\"joblocation jobstate\" id=\"500375983JSTA7\" itemprop=\"addressRegion\"> State</span> </span> <span class=\"jobline\" id=\"500375983JDES7\" itemprop=\"description\"> </span> </div> </div> </div> <div class=\"section\" id=\"SECTION_EDUC500400498\" style=\"\n      padding-top:0px;\n    \"> <div class=\"heading bottomborder\"> <div class=\"sectiontitle\" id=\"SECTNAME_EDUC500400498\"> Education</div> </div> <div class=\"paragraph firstparagraph\" id=\"PARAGRAPH_500400498_1_326523310\" itemscope=\"\" itemtype=\"https://schema.org/EducationalOrganization\" style=\"\n      padding-top:0px;\n    \"> <div class=\"singlecolumn\"> <span class=\"paddedline\" itemprop=\"description\"> <span class=\"degree\" id=\"500400498DGRE1\" itemprop=\"name\"> N/A</span> <span> , </span> <span class=\"programline\" id=\"500400498STUY1\"> Business Administration</span> <span class=\"datesWrapper\"> <span class=\"jobdates\" id=\"500400498GRYR1\"> 1999</span> </span> </span> <span class=\"paddedline\"> <span class=\"companyname companyname_educ\" id=\"500400498SCHO1\" itemprop=\"name\"> Jefferson College</span> <span>  － </span> <span class=\"joblocation jobcity\" id=\"500400498SCIT1\"> City</span> <span> , </span> <span class=\"joblocation jobstate\" id=\"500400498SSTA1\"> State</span> <span class=\"joblocation jobstate\" id=\"500400498SCNT1\"> </span> </span> <span class=\"field\" id=\"500400498FRFM1\"> <ul> <li> Business Administration</li> <li> Marketing / Advertising</li> </ul> </span> </div> </div> <div class=\"paragraph\" id=\"PARAGRAPH_500400498_2_326522471\" itemscope=\"\" itemtype=\"https://schema.org/EducationalOrganization\" style=\"\n      padding-top:0px;\n    \"> <div class=\"singlecolumn\"> <span class=\"paddedline\" itemprop=\"description\"> <span class=\"degree\" id=\"500400498DGRE2\" itemprop=\"name\"> High School Diploma</span> <span> , </span> <span class=\"programline\" id=\"500400498STUY2\"> College Prep. studies</span> <span class=\"datesWrapper\"> <span class=\"jobdates\" id=\"500400498GRYR2\"> 1998</span> </span> </span> <span class=\"paddedline\"> <span class=\"companyname companyname_educ\" id=\"500400498SCHO2\" itemprop=\"name\"> Sainte Genevieve Senior High</span> <span>  － </span> <span class=\"joblocation jobcity\" id=\"500400498SCIT2\"> City</span> <span> , </span> <span class=\"joblocation jobstate\" id=\"500400498SSTA2\"> State</span> <span class=\"joblocation jobstate\" id=\"500400498SCNT2\"> </span> </span> <span class=\"field\" id=\"500400498FRFM2\"> <ul> <li> Awarded American Shrubel Leadership Scholarship to Jefferson College</li> </ul> </span> </div> </div> </div> <div class=\"section\" id=\"SECTION_SKLL500375994\" style=\"\n      padding-top:0px;\n    \"> <div class=\"heading bottomborder\"> <div class=\"sectiontitle\" id=\"SECTNAME_SKLL500375994\"> Skills</div> </div> <div class=\"paragraph firstparagraph\" id=\"PARAGRAPH_500375994_1_326506918\" style=\"\n      padding-top:0px;\n    \"> <div class=\"field singlecolumn\" id=\"500375994FRFM1\"> <p align=\"LEFT\"> Accounting, ads, advertising, analytical skills, benefits, billing, budgeting, clients, Customer Service, data analysis, delivery, documentation, employee relations, financial management, government relations, Human Resources, insurance, labor relations, layout, Marketing, marketing collateral, medical billing, medical terminology, office, organizational, payroll, performance reviews, personnel, policies, posters, presentations, public relations, purchasing, reporting, statistics, website.</p> </div> </div> </div> </div>",
         "HR"
        ],
        [
         "1",
         "22323967",
         "         HR SPECIALIST, US HR OPERATIONS       Summary     Versatile  media professional with background in Communications, Marketing, Human Resources and Technology.         Experience     09/2015   to   Current     HR Specialist, US HR Operations    Company Name   －   City  ,   State       Managed communication regarding launch of Operations group, policy changes and system outages      Designed standard work and job aids to create comprehensive training program for new employees and contractors         Audited job postings for old, pending, on-hold and draft positions.           Audited union hourly, non-union hourly and salary background checks and drug screens             Conducted monthly new hire benefits briefing to new employees across all business units               Served as a link between HR Managers and vendors by handling questions and resolving system-related issues         Provide real-time process improvement feedback on key metrics and initiatives  Successfully re-branded US HR Operations SharePoint site  Business Unit project manager for RFI/RFP on Background Check and Drug Screen vendor         01/2014   to   05/2015     IT, Marketing and Communications Co-op    Company Name   －   City  ,   State      Posted new articles, changes and updates to corporate SharePoint site including graphics and visual communications.  Researched and drafted articles and feature stories to promote company activities and programs.  Co-edited and developed content for quarterly published newsletter.  Provided communication support for internal and external events.  Collaborated with Communication team, media professionals and vendors to determine program needs for print materials, web design and digital communications.  Entrusted to lead product, service and software launches for Digital Asset Management tool, Marketing Toolkit website and Executive Tradeshows Calendar.  Created presentations for management and executive approval to ensure alignment with corporate guidelines and branding.  Maintained the MySikorsky SharePoint site and provided timely solutions to mitigate issues.      Created story board and produced video for annual IT All Hands meeting.         10/2012   to   01/2014     Relationship Coordinator/Marketing Specialist    Company Name   －   City  ,   State       Partnered with vendor to manage the in-house advertising program consisting of print and media collateral pieces.     Coordinated pre-show and post-show activities at trade shows.     Managed marketing campaigns to generate new business and to support partner and sales teams.     Ordered marketing collateral for meetings, trade shows and advisors.    Improved, administered and modified marketing programs to increase product awareness.  Assisted in preparing internal promotional publications, managed marketing material inventory and supervised distribution of publications to ensure high quality product output.  Coordinated marketing materials including brochures, promotional materials and products.  Partnered with graphic designers to develop appropriate materials and branding for brochures.  Used tracking and reporting systems for sales leads and appointments.         09/2009   to   10/2012     Assistant Head Teller    Company Name   －   City  ,   State       Received an internal audit score of  100 %.     Performed daily and monthly audits of ATM machines and tellers.     Educated customers on a variety of retail products and available credit options.       Consistently met or exceeded quarterly sales goals     Promoted products and services to\ncustomers while maintaining company brand identity\n\n·    \n  Implemented programs to achieve\nand exceed customer and company participation goals \n\n   Organized company sponsored events on campus resulting in increased\nbrand awareness\n\n·    \n  Coached peers on\nthe proper use of programs to improve work flow efficiency  Utilized product knowledge to successfully sell\nto and refer clients based on individual needs  Promoted marketing the grand opening\nof new branch locations to strengthen company brand affinity\n\n·       Organized company sponsored events\nresulting in increased brand awareness and improved sales\n\n·       Coached peers on the proper use of\nprograms to increase work flow efficiency\n\n          Senior Producer - 2014 SHU Media Exchange    Company Name   －   City  ,   State      Planned and executed event focusing on Connecticut's creative corridor, growth of industry and opportunities that come with development. A  panel of industry professionals addressed topics related to media and hosted a question and answer session for approximately 110 attendees. Following the forum, guests were invited to engage in networking and conversation at a post-event reception.         Education     2014     Master of Arts  :   Corporate Communication & Public Relations    Sacred Heart University   －   City  ,   State             2013     Bachelor of Arts  :   Relational Communication    Western Connecticut State University   －   City  ,   State              Skills    Adobe Photoshop, ADP, Asset Management, branding, brochures, content, Customer Care, Final Cut Pro, graphics, graphic, HR, Illustrator, InDesign, Innovation, inventory, Lotus Notes, marketing, marketing materials, marketing material, materials, Microsoft Office, SharePoint, newsletter, presentations, process improvement, Project Management, promotional materials, publications, Quality, real-time, Recruitment, reporting, RFP, sales, stories, Employee Development, video, web design, website, articles   ",
         "<div class=\"fontsize fontface vmargins hmargins linespacing pagesize\" id=\"document\"> <div class=\"section firstsection\" id=\"SECTION_NAME911808366\" style=\"padding-top:0px;\"> <div class=\"paragraph PARAGRAPH_NAME firstparagraph\" id=\"PARAGRAPH_911808366_1_598530989\" style=\"padding-top:0px;\"> <div class=\"name thinbottomborder\" itemprop=\"name\"> <span class=\"field fName\" id=\"911808366FNAM1\"> </span> <span> </span> <span class=\"field\" id=\"911808366LNAM1\"> HR SPECIALIST, US HR OPERATIONS</span> </div> </div> </div> <div class=\"section\" id=\"SECTION_SUMM911808372\" style=\"padding-top:0px;\"> <div class=\"heading\"> <div class=\"sectiontitle\" id=\"SECTNAME_SUMM911808372\"> Summary</div> </div> <div class=\"paragraph firstparagraph\" id=\"PARAGRAPH_911808372_1_598532134\" style=\"padding-top:0px;\"> <div class=\"field singlecolumn noPind\" id=\"911808372FRFM1\"> <span class=\"\"> Versatile <font color=\"#000\" style=\"color: rgb(0, 0, 0);\"> media professional with background in Communications, Marketing, Human Resources and Technology. </font> </span> </div> </div> </div> <div class=\"section\" id=\"SECTION_EXPR911808368\" style=\"padding-top:0px;\"> <div class=\"heading\"> <div class=\"sectiontitle\" id=\"SECTNAME_EXPR911808368\"> Experience</div> </div> <div class=\"paragraph firstparagraph\" id=\"PARAGRAPH_911808368_1_598530991\" itemscope=\"\" itemtype=\"https://schema.org/Organization\" style=\"padding-top:0px;\"> <span class=\"dates_wrapper\"> <span class=\"jobdates\" format=\"%m/%Y\" id=\"911808368JSTD1\"> 09/2015</span> <span>  to </span> <span class=\"jobdates\" format=\"%m/%Y\" id=\"911808368EDDT1\"> Current</span> </span> <div class=\"singlecolumn\"> <span class=\"paddedline\"> <span class=\"jobtitle\" id=\"911808368JTIT1\"> HR Specialist, US HR Operations</span> </span> <span class=\"paddedline\" itemscope=\"\" itemtype=\"https://schema.org/postalAddress\"> <span class=\"companyname\" id=\"911808368COMP1\" itemprop=\"name\"> Company Name</span> <span>  － </span> <span class=\"joblocation jobcity\" id=\"911808368JCIT1\" itemprop=\"addressLocality\"> City</span> <span> , </span> <span class=\"joblocation jobstate\" id=\"911808368JSTA1\" itemprop=\"addressRegion\"> State</span> </span> <span class=\"paddedline\"> <span class=\"jobline\" id=\"911808368JDES1\" itemprop=\"description\"> <ul> <li> <span class=\"\"> Managed communication regarding launch of Operations group, policy changes and system outages</span> </li> <li> <span class=\"\"> <span class=\"\"> <span class=\"\"> Designed standard work and job aids to create comprehensive training program for new employees and contractors</span> </span> </span> </li> <li> <span class=\"\"> <span class=\"\"> <span class=\"\"> <span class=\"\"> Audited job postings for old, pending, on-hold and draft positions.</span> </span> </span> </span> </li> <li> <span class=\"\"> <span class=\"\"> <span class=\"\"> <span class=\"\"> <span class=\"\"> Audited union hourly, non-union hourly and salary background checks and drug screens</span> </span> </span> </span> </span> </li> <li> <span class=\"\"> <span class=\"\"> <span class=\"\"> <span class=\"\"> <span class=\"\"> <span class=\"\"> Conducted monthly new hire benefits briefing to new employees across all business units</span> </span> </span> </span> </span> </span> </li> <li> <span class=\"\"> <span class=\"\"> <span class=\"\"> <span class=\"\"> <span class=\"\"> <span class=\"\"> <span class=\"\"> Served as a link between HR Managers and vendors by handling questions and resolving system-related issues</span> </span> </span> </span> </span> </span> </span> </li> <li> Provide real-time process improvement feedback on key metrics and initiatives</li> <li> Successfully re-branded US HR Operations SharePoint site</li> <li> Business Unit project manager for RFI/RFP on Background Check and Drug Screen vendor</li> </ul> </span> </span> </div> </div> <div class=\"paragraph\" id=\"PARAGRAPH_911808368_2_598530992\" itemscope=\"\" itemtype=\"https://schema.org/Organization\" style=\"padding-top:0px;\"> <span class=\"dates_wrapper\"> <span class=\"jobdates\" format=\"%m/%Y\" id=\"911808368JSTD2\"> 01/2014</span> <span>  to </span> <span class=\"jobdates\" format=\"%m/%Y\" id=\"911808368EDDT2\"> 05/2015</span> </span> <div class=\"singlecolumn\"> <span class=\"paddedline\"> <span class=\"jobtitle\" id=\"911808368JTIT2\"> IT, Marketing and Communications Co-op</span> </span> <span class=\"paddedline\" itemscope=\"\" itemtype=\"https://schema.org/postalAddress\"> <span class=\"companyname\" id=\"911808368COMP2\" itemprop=\"name\"> Company Name</span> <span>  － </span> <span class=\"joblocation jobcity\" id=\"911808368JCIT2\" itemprop=\"addressLocality\"> City</span> <span> , </span> <span class=\"joblocation jobstate\" id=\"911808368JSTA2\" itemprop=\"addressRegion\"> State</span> </span> <span class=\"paddedline\"> <span class=\"jobline\" id=\"911808368JDES2\" itemprop=\"description\"> <ul> <li> Posted new articles, changes and updates to corporate SharePoint site including graphics and visual communications.</li> <li> Researched and drafted articles and feature stories to promote company activities and programs.</li> <li> Co-edited and developed content for quarterly published newsletter.</li> <li> Provided communication support for internal and external events.</li> <li> Collaborated with Communication team, media professionals and vendors to determine program needs for print materials, web design and digital communications.</li> <li> Entrusted to lead product, service and software launches for Digital Asset Management tool, Marketing Toolkit website and Executive Tradeshows Calendar.</li> <li> Created presentations for management and executive approval to ensure alignment with corporate guidelines and branding.</li> <li> Maintained the MySikorsky SharePoint site and provided timely solutions to mitigate issues.    </li> <li> Created story board and produced video for annual IT All Hands meeting.</li> </ul> </span> </span> </div> </div> <div class=\"paragraph\" id=\"PARAGRAPH_911808368_3_598530994\" itemscope=\"\" itemtype=\"https://schema.org/Organization\" style=\"padding-top:0px;\"> <span class=\"dates_wrapper\"> <span class=\"jobdates\" format=\"%m/%Y\" id=\"911808368JSTD3\"> 10/2012</span> <span>  to </span> <span class=\"jobdates\" format=\"%m/%Y\" id=\"911808368EDDT3\"> 01/2014</span> </span> <div class=\"singlecolumn\"> <span class=\"paddedline\"> <span class=\"jobtitle\" id=\"911808368JTIT3\"> Relationship Coordinator/Marketing Specialist</span> </span> <span class=\"paddedline\" itemscope=\"\" itemtype=\"https://schema.org/postalAddress\"> <span class=\"companyname\" id=\"911808368COMP3\" itemprop=\"name\"> Company Name</span> <span>  － </span> <span class=\"joblocation jobcity\" id=\"911808368JCIT3\" itemprop=\"addressLocality\"> City</span> <span> , </span> <span class=\"joblocation jobstate\" id=\"911808368JSTA3\" itemprop=\"addressRegion\"> State</span> </span> <span class=\"paddedline\"> <span class=\"jobline\" id=\"911808368JDES3\" itemprop=\"description\"> <ul> <li> <span class=\"\"> Partnered with vendor to manage the in-house advertising program consisting of print and media collateral pieces. </span> </li> <li> <span class=\"\"> Coordinated pre-show and post-show activities at trade shows. </span> </li> <li> <span class=\"\"> Managed marketing campaigns to generate new business and to support partner and sales teams.</span> </li> <li> <span class=\"\"> <span class=\"\"> Ordered marketing collateral for meetings, trade shows and advisors.</span> </span> </li> <li> Improved, administered and modified marketing programs to increase product awareness.</li> <li> Assisted in preparing internal promotional publications, managed marketing material inventory and supervised distribution of publications to ensure high quality product output.</li> <li> Coordinated marketing materials including brochures, promotional materials and products.</li> <li> Partnered with graphic designers to develop appropriate materials and branding for brochures.</li> <li> Used tracking and reporting systems for sales leads and appointments.</li> </ul> </span> </span> </div> </div> <div class=\"paragraph\" id=\"PARAGRAPH_911808368_4_598533900\" itemscope=\"\" itemtype=\"https://schema.org/Organization\" style=\"padding-top:0px;\"> <span class=\"dates_wrapper\"> <span class=\"jobdates\" format=\"%m/%Y\" id=\"911808368JSTD4\"> 09/2009</span> <span>  to </span> <span class=\"jobdates\" format=\"%m/%Y\" id=\"911808368EDDT4\"> 10/2012</span> </span> <div class=\"singlecolumn\"> <span class=\"paddedline\"> <span class=\"jobtitle\" id=\"911808368JTIT4\"> Assistant Head Teller</span> </span> <span class=\"paddedline\" itemscope=\"\" itemtype=\"https://schema.org/postalAddress\"> <span class=\"companyname\" id=\"911808368COMP4\" itemprop=\"name\"> Company Name</span> <span>  － </span> <span class=\"joblocation jobcity\" id=\"911808368JCIT4\" itemprop=\"addressLocality\"> City</span> <span> , </span> <span class=\"joblocation jobstate\" id=\"911808368JSTA4\" itemprop=\"addressRegion\"> State</span> </span> <span class=\"paddedline\"> <span class=\"jobline\" id=\"911808368JDES4\" itemprop=\"description\"> <ul> <li> <span class=\"\"> Received an internal audit score of <font color=\"#000\" style=\"color: rgb(0, 0, 0);\"> 100</font> %. </span> </li> <li> <span class=\"\"> Performed daily and monthly audits of ATM machines and tellers.</span> </li> <li> <span class=\"\"> <span class=\"\"> Educated customers on a variety of retail products and available credit options.</span> </span> </li> <li> <span class=\"\"> <span class=\"\"> <span class=\"\"> Consistently met or exceeded quarterly sales goals</span> </span> </span> </li> <li> Promoted products and services to\ncustomers while maintaining company brand identity\n\n·    \n</li> <li> Implemented programs to achieve\nand exceed customer and company participation goals \n\n </li> <li> Organized company sponsored events on campus resulting in increased\nbrand awareness\n\n·    \n</li> <li> Coached peers on\nthe proper use of programs to improve work flow efficiency</li> <li> Utilized product knowledge to successfully sell\nto and refer clients based on individual needs</li> <li> Promoted marketing the grand opening\nof new branch locations to strengthen company brand affinity\n\n·     </li> <li> Organized company sponsored events\nresulting in increased brand awareness and improved sales\n\n·     </li> <li> Coached peers on the proper use of\nprograms to increase work flow efficiency\n\n</li> </ul> </span> </span> </div> </div> <div class=\"paragraph\" id=\"PARAGRAPH_911808368_5_598599144\" itemscope=\"\" itemtype=\"https://schema.org/Organization\" style=\"padding-top:0px;\"> <div class=\"singlecolumn\"> <span class=\"paddedline\"> <span class=\"jobtitle\" id=\"911808368JTIT5\"> Senior Producer - 2014 SHU Media Exchange</span> </span> <span class=\"paddedline\" itemscope=\"\" itemtype=\"https://schema.org/postalAddress\"> <span class=\"companyname\" id=\"911808368COMP5\" itemprop=\"name\"> Company Name</span> <span>  － </span> <span class=\"joblocation jobcity\" id=\"911808368JCIT5\" itemprop=\"addressLocality\"> City</span> <span> , </span> <span class=\"joblocation jobstate\" id=\"911808368JSTA5\" itemprop=\"addressRegion\"> State</span> </span> <span class=\"paddedline\"> <span class=\"jobline\" id=\"911808368JDES5\" itemprop=\"description\"> <div> <span class=\"\"> Planned and executed event focusing on Connecticut's creative corridor, growth of industry and opportunities that come with development. A </span> panel of industry professionals addressed topics related to media and hosted a question and answer session for approximately 110 attendees. Following the forum, guests were invited to engage in networking and conversation at a post-event reception.</div> </span> </span> </div> </div> </div> <div class=\"section\" id=\"SECTION_EDUC911808369\" style=\"padding-top:0px;\"> <div class=\"heading\"> <div class=\"sectiontitle\" id=\"SECTNAME_EDUC911808369\"> Education</div> </div> <div class=\"paragraph firstparagraph\" id=\"PARAGRAPH_911808369_1_598530995\" itemscope=\"\" itemtype=\"https://schema.org/EducationalOrganization\" style=\"padding-top:0px;\"> <span class=\"dates_wrapper\"> <span class=\"jobdates\" id=\"911808369GRYR1\"> 2014</span> </span> <div class=\"singlecolumn\"> <span class=\"paddedline\" itemprop=\"description\"> <span class=\"degree\" id=\"911808369DGRE1\" itemprop=\"name\"> Master of Arts</span> <span> : </span> <span class=\"programline\" id=\"911808369STUY1\"> Corporate Communication &amp; Public Relations</span> </span> <span class=\"paddedline\"> <span class=\"companyname companyname_educ\" dependency=\"SCHO\" id=\"911808369SCHO1\" itemprop=\"name\"> Sacred Heart University</span> <span class=\"statesWrapper\">  － </span> <span class=\"joblocation jobcity\" id=\"911808369SCIT1\"> City</span> <span> , </span> <span class=\"joblocation jobstate\" id=\"911808369SSTA1\"> State</span> <span class=\"joblocation jobstate\" id=\"911808369SCNT1\"> </span> </span> <span class=\"paddedline\"> <span class=\"field\" id=\"911808369FRFM1\"> </span> </span> </div> </div> <div class=\"paragraph\" id=\"PARAGRAPH_911808369_2_598530996\" itemscope=\"\" itemtype=\"https://schema.org/EducationalOrganization\" style=\"padding-top:0px;\"> <span class=\"dates_wrapper\"> <span class=\"jobdates\" id=\"911808369GRYR2\"> 2013</span> </span> <div class=\"singlecolumn\"> <span class=\"paddedline\" itemprop=\"description\"> <span class=\"degree\" id=\"911808369DGRE2\" itemprop=\"name\"> Bachelor of Arts</span> <span> : </span> <span class=\"programline\" id=\"911808369STUY2\"> Relational Communication</span> </span> <span class=\"paddedline\"> <span class=\"companyname companyname_educ\" dependency=\"SCHO\" id=\"911808369SCHO2\" itemprop=\"name\"> Western Connecticut State University</span> <span class=\"statesWrapper\">  － </span> <span class=\"joblocation jobcity\" id=\"911808369SCIT2\"> City</span> <span> , </span> <span class=\"joblocation jobstate\" id=\"911808369SSTA2\"> State</span> <span class=\"joblocation jobstate\" id=\"911808369SCNT2\"> </span> </span> <span class=\"paddedline\"> <span class=\"field\" id=\"911808369FRFM2\"> </span> </span> </div> </div> </div> <div class=\"section\" id=\"SECTION_SKLL911808371\" style=\"padding-top:0px;\"> <div class=\"heading\"> <div class=\"sectiontitle\" id=\"SECTNAME_SKLL911808371\"> Skills</div> </div> <div class=\"paragraph firstparagraph\" id=\"PARAGRAPH_911808371_1_598531001\" style=\"padding-top:0px;\"> <div class=\"field singlecolumn\" id=\"911808371FRFM1\"> Adobe Photoshop, ADP, Asset Management, branding, brochures, content, Customer Care, Final Cut Pro, graphics, graphic, HR, Illustrator, InDesign, Innovation, inventory, Lotus Notes, marketing, marketing materials, marketing material, materials, Microsoft Office, SharePoint, newsletter, presentations, process improvement, Project Management, promotional materials, publications, Quality, real-time, Recruitment, reporting, RFP, sales, stories, Employee Development, video, web design, website, articles</div> </div> </div> </div>",
         "HR"
        ],
        [
         "2",
         "33176873",
         "         HR DIRECTOR       Summary      Over 20 years experience in recruiting,   15 plus years in Human Resources Executive Management,   5 years of HRIS development and maintenance  4 years working in a Healthcare Enviroment        Skills          Recruiting  FMLA/EEO/FLSA   HRIS Development      Benefit Administration  Policy Development  Web Page Development             Accomplishments      Kansas Health Institute -Health Outcomes for the State of Kansas -1999 \nMemberships and Accolades: Project Management Institute Member, SHRM, Chamber of Commerce, 1999 Friends University President's Honor Roll, 1997 Friends University Dean's Honor Roll, Student Liaison for Friends University Topeka (member of Mother-To-Mother, member of the Topeka \nAdvertising Federation, several production pieces created nominated for ADDY Awards, received recognition for outstanding customer service assistance by the State of Kansas Travel and Tourism Department., ASHHRA, KAHHR, ACM.  Additional Information: \nLeading Change -I have been instrumental in development and implementation of the Adjutant General's Retention Research project, involving survey development and analyzing the results of the surveys to present to the Adjutant General to help retain the qualified talent of the Departments.  I have been tasked with working with the Federal Security Manager for the Joint Forces Headquarters in developing policies, procedures and processes to ensure that all current and new State Employees have the appropriate security clearances for the position held per the Federal Government Requirements.  While at LMIS, I lead the Job Vacancy Project and was able to produce results in less time and man hours than in years before with staff that were inexperienced in the JVC process and procedures.  I have been responsible to develop, plan and implement database programs, for the last three positions I have held.  These were designed to cultivate, involve, renew contact, and promote active and potential employees.  These databases were used for reporting FTE usage, budget management and turnover reports.  While working in the healthcare field, I took the initiative in creating a local website that was used to receive and respond to requests for information and assistance in marketing and promoting the healthcare facility along with recruitment of potential employees.  As Human Resource Coordinator in the healthcare field, I managed the front office personnel, reduced contract labor costs for nursing staff and implemented a unique pay structure to increase PRN staff utilization.  I continually think \"Outside-the-box\" to create and develop strategies to resolve issues faced in my work environment.  In my current position, I have met and exceeded all hiring goals for the firm.  This resulted in our client increasing the business transferred to our location.        Experience      HR Director   09/2016   to   Current     Company Name   City  ,   State       Developed New Website for Agency, payroll processing changes, and implementation of\nnew HRIS System.   Oversaw the employment process taking the lead role in clinician, physician and management\nteam recruitment initiatives.\n\n  Developed, maintain\nand interpret HR policy. Authored the Employee Handbook.\n\nProvided coaching\nand support to management and supervisors on performance management and other\nrelated issues. \n\n  Maintained in-depth\nknowledge of legal requirements related to day-to-day management of employees,\nreducing legal risks and ensuring regulatory compliance.   Evaluated and\nrecommend changes to the employee benefits plan. Oversaw day to day\nadministration of benefits.            HR Director   04/2009   to   09/2016     Company Name   City  ,   State       Develped Supervisory Education, SHRO Website, SHRO HRIS System and Automation of payroll processing.  Established and directed a comprehensive statewide human resource program for both classified and unclassified State employees/positions in the Adjutant General's Department.  Resolved non-routine HR related issues associated as they arose; reviewed documents and approved all hires and promotions; reviews and approved, modified and/or disapproved wage/salary requests to hire individuals above the pre-established minimum classified or unclassified pay rate,   Reviewed any significant changes to position descriptions and determined if reclassification should be pursued; reviewed position descriptions for new positions and determined the appropriate wage range based on comparable classified position (if they exist),   Consulted with the TAG and both military and state manager/ supervisors in order to provide technical and common sense guidance on properly addressing sensitive or complex employee and organizational issues; aided them in achieving their ever changing program goals and provided innovative ideas for staffing;             Served as the administration's management representative in labor negotiations with the local KAPE unit at the 190th Fire Department.          HR Manager/Sr. Recruiter   10/2003   to   06/2006     Company Name   City  ,   State       Created an HRIS tracking system used for recruitment.  Responsible for Ramp up and hiring of all customer service agents, and other positions as needed.  Placement and development of all advertising \nMet and exceeded all hiring goals. Responsible for Hiring Senior Management to cover such duties as: Team Managers, Payroll, Quality Control.  Responsible for recruitment of 950 new employees, meeting and exceeded goals set.  Coordinated and facilitated manpower planning, recruitment and retention, career development and training, staff relations, compensation and benefits, compliance with local, state and federal statutory regulations, public programs, and regulatory audit procedures.  Served as a resource person to administration, mid-level management and staff regarding HR related.          Human Resources Coordinator   03/1996   to   02/2000     Company Name   City  ,   State       Developed HRIS database from ground up for employee records and monitoring.  Instrumental in reducing the use of Agency Staffing needs for hospital.  Coordinated and facilitates manpower planning, recruitment and retention, career development and training, staff relations, compensation and benefits, compliance with local, state and federal statutory regulations, public programs, and regulatory audit procedures.  Served as the HR resource source for administration, mid-level management and staff.  Coordinated hiring procedures, appraisals, pay increases, promotions, transfers, terminations, job postings, and all corrective actions;  One Person Office, responsible for all OSHA, Work Comp, Benefits, payroll, etc.          Education and Training      Master's Degree  :   Information Management Systems   05/2005       Friends University   City  ,   State  ,   United States     3.5 Credits Earned: 62 Semester hours Information Management Systems        Bachelor of Science  :   Organizational Management   05/2000       Friends University   City  ,   State  ,   United States      4.0 Credits Earned: 62 Semester hours             Activities and Honors    Topeka Chamber of Commerce -Ambassador \nKansas Hospital Association -Health Care Human Resources Member \nSHRM -Legislative Liaison      Skills      Desktop Publishing,   Newsletter productions,   DATABASE Management,   Leadership \n\nTraining,  OSHA, FMLA, \n\nWorkers Compensation.   PageMaker,   Agency Automation, back-up,   Benefits,  Budget management,  Corel Suite,   Harvard Graphics,  Access, Excel, Microsoft Publisher, MS Word,    Quark Express, Quattro Pro,   Strategic Planning,    Web page development,   WordPerfect     ",
         "<div class=\"fontsize fontface vmargins hmargins linespacing pagesize\" id=\"document\"> <div class=\"section firstsection\" id=\"SECTION_NAME1008511259\" style=\"padding-top:0px;\"> <div class=\"paragraph PARAGRAPH_NAME firstparagraph\" id=\"PARAGRAPH_1008511259_1_669264982\" style=\"padding-top:0px;\"> <div class=\"name\" itemprop=\"name\"> <span class=\"field\" id=\"1008511259FNAM1\"> </span> <span> </span> <span class=\"field lName\" id=\"1008511259LNAM1\"> HR DIRECTOR</span> </div> </div> </div> <div class=\"section\" id=\"SECTION_SUMM1008511268\" style=\"padding-top:0px;\"> <div class=\"heading\"> <div class=\"sectiontitle\" id=\"SECTNAME_SUMM1008511268\"> Summary</div> </div> <div class=\"paragraph firstparagraph\" id=\"PARAGRAPH_1008511268_1_669265697\" style=\"padding-top:0px;\"> <div class=\"field singlecolumn\" id=\"1008511268FRFM1\"> <ul> <li> Over 20 years experience in recruiting, </li> <li> 15 plus years in Human Resources Executive Management, </li> <li> 5 years of HRIS development and maintenance</li> <li> 4 years working in a Healthcare Enviroment</li> </ul> </div> </div> </div> <div class=\"section\" id=\"SECTION_HILT1008511269\" style=\"padding-top:0px;\"> <div class=\"heading\"> <div class=\"sectiontitle\" id=\"SECTNAME_HILT1008511269\"> Skills</div> </div> <div class=\"paragraph firstparagraph\" id=\"PARAGRAPH_1008511269_1_669266591\" style=\"padding-top:0px;\"> <div class=\"singlecolumn maincolumn\"> <table class=\"twocol\"> <tbody> <tr> <td class=\"field twocol_1\" id=\"1008511269SKC11\"> <ul> <li> Recruiting</li> <li> FMLA/EEO/FLSA </li> <li> HRIS Development</li> </ul> </td> <td class=\"field twocol_2\" id=\"1008511269SKC21\"> <ul> <li> Benefit Administration</li> <li> Policy Development</li> <li> Web Page Development </li> </ul> </td> </tr> </tbody> </table> </div> </div> </div> <div class=\"section\" id=\"SECTION_ACCM1008511264\" style=\"padding-top:0px;\"> <div class=\"heading\"> <div class=\"sectiontitle\" id=\"SECTNAME_ACCM1008511264\"> Accomplishments</div> </div> <div class=\"paragraph firstparagraph\" id=\"PARAGRAPH_1008511264_1_669264997\" style=\"padding-top:0px;\"> <div class=\"field singlecolumn\" id=\"1008511264FRFM1\"> <ul> <li> Kansas Health Institute -Health Outcomes for the State of Kansas -1999 \nMemberships and Accolades: Project Management Institute Member, SHRM, Chamber of Commerce, 1999 Friends University President's Honor Roll, 1997 Friends University Dean's Honor Roll, Student Liaison for Friends University Topeka (member of Mother-To-Mother, member of the Topeka \nAdvertising Federation, several production pieces created nominated for ADDY Awards, received recognition for outstanding customer service assistance by the State of Kansas Travel and Tourism Department., ASHHRA, KAHHR, ACM.</li> <li> Additional Information: \nLeading Change -I have been instrumental in development and implementation of the Adjutant General's Retention Research project, involving survey development and analyzing the results of the surveys to present to the Adjutant General to help retain the qualified talent of the Departments.</li> <li> I have been tasked with working with the Federal Security Manager for the Joint Forces Headquarters in developing policies, procedures and processes to ensure that all current and new State Employees have the appropriate security clearances for the position held per the Federal Government Requirements.</li> <li> While at LMIS, I lead the Job Vacancy Project and was able to produce results in less time and man hours than in years before with staff that were inexperienced in the JVC process and procedures.</li> <li> I have been responsible to develop, plan and implement database programs, for the last three positions I have held.</li> <li> These were designed to cultivate, involve, renew contact, and promote active and potential employees.</li> <li> These databases were used for reporting FTE usage, budget management and turnover reports.</li> <li> While working in the healthcare field, I took the initiative in creating a local website that was used to receive and respond to requests for information and assistance in marketing and promoting the healthcare facility along with recruitment of potential employees.</li> <li> As Human Resource Coordinator in the healthcare field, I managed the front office personnel, reduced contract labor costs for nursing staff and implemented a unique pay structure to increase PRN staff utilization.</li> <li> I continually think \"Outside-the-box\" to create and develop strategies to resolve issues faced in my work environment.</li> <li> In my current position, I have met and exceeded all hiring goals for the firm.</li> <li> This resulted in our client increasing the business transferred to our location.</li> </ul> </div> </div> </div> <div class=\"section\" id=\"SECTION_EXPR1008511263\" style=\"padding-top:0px;\"> <div class=\"heading\"> <div class=\"sectiontitle\" id=\"SECTNAME_EXPR1008511263\"> Experience</div> </div> <div class=\"paragraph firstparagraph\" id=\"PARAGRAPH_1008511263_1_669264984\" itemscope=\"\" itemtype=\"https://schema.org/Organization\" style=\"padding-top:0px;\"> <div class=\"singlecolumn\"> <span class=\"paddedline\"> <span class=\"jobtitle\" id=\"1008511263JTIT1\"> HR Director</span> <span class=\"datesWrapper\"> <span class=\"jobdates\" format=\"%m/%Y\" id=\"1008511263JSTD1\"> 09/2016</span> <span class=\"jobdates\">  to </span> <span class=\"jobdates\" format=\"%m/%Y\" id=\"1008511263EDDT1\"> Current</span> </span> </span> <span class=\"paddedline\" itemscope=\"\" itemtype=\"https://schema.org/postalAddress\"> <span class=\"companyname\" id=\"1008511263COMP1\" itemprop=\"name\"> Company Name</span> <span class=\"datesWrapper\"> <span class=\"joblocation jobcity\" id=\"1008511263JCIT1\" itemprop=\"addressLocality\"> City</span> <span class=\"joblocation\"> , </span> <span class=\"joblocation jobstate\" id=\"1008511263JSTA1\" itemprop=\"addressRegion\"> State</span> </span> </span> <span class=\"paddedline\"> <span class=\"jobline\" id=\"1008511263JDES1\" itemprop=\"description\"> <ul> <li> Developed New Website for Agency, payroll processing changes, and implementation of\nnew HRIS System. </li> <li> Oversaw the employment process taking the lead role in clinician, physician and management\nteam recruitment initiatives.\n\n</li> <li> Developed, maintain\nand interpret HR policy. Authored the Employee Handbook.\n\nProvided coaching\nand support to management and supervisors on performance management and other\nrelated issues. \n\n</li> <li> Maintained in-depth\nknowledge of legal requirements related to day-to-day management of employees,\nreducing legal risks and ensuring regulatory compliance. </li> <li> Evaluated and\nrecommend changes to the employee benefits plan. Oversaw day to day\nadministration of benefits. <br/> </li> </ul> </span> </span> </div> </div> <div class=\"paragraph\" id=\"PARAGRAPH_1008511263_2_669264985\" itemscope=\"\" itemtype=\"https://schema.org/Organization\" style=\"padding-top:0px;\"> <div class=\"singlecolumn\"> <span class=\"paddedline\"> <span class=\"jobtitle\" id=\"1008511263JTIT2\"> HR Director</span> <span class=\"datesWrapper\"> <span class=\"jobdates\" format=\"%m/%Y\" id=\"1008511263JSTD2\"> 04/2009</span> <span class=\"jobdates\">  to </span> <span class=\"jobdates\" format=\"%m/%Y\" id=\"1008511263EDDT2\"> 09/2016</span> </span> </span> <span class=\"paddedline\" itemscope=\"\" itemtype=\"https://schema.org/postalAddress\"> <span class=\"companyname\" id=\"1008511263COMP2\" itemprop=\"name\"> Company Name</span> <span class=\"datesWrapper\"> <span class=\"joblocation jobcity\" id=\"1008511263JCIT2\" itemprop=\"addressLocality\"> City</span> <span class=\"joblocation\"> , </span> <span class=\"joblocation jobstate\" id=\"1008511263JSTA2\" itemprop=\"addressRegion\"> State</span> </span> </span> <span class=\"paddedline\"> <span class=\"jobline\" id=\"1008511263JDES2\" itemprop=\"description\"> <ul> <li> Develped Supervisory Education, SHRO Website, SHRO HRIS System and Automation of payroll processing.</li> <li> Established and directed a comprehensive statewide human resource program for both classified and unclassified State employees/positions in the Adjutant General's Department.</li> <li> Resolved non-routine HR related issues associated as they arose; reviewed documents and approved all hires and promotions; reviews and approved, modified and/or disapproved wage/salary requests to hire individuals above the pre-established minimum classified or unclassified pay rate,</li> <li>  Reviewed any significant changes to position descriptions and determined if reclassification should be pursued; reviewed position descriptions for new positions and determined the appropriate wage range based on comparable classified position (if they exist),<br/> </li> <li> Consulted with the TAG and both military and state manager/ supervisors in order to provide technical and common sense guidance on properly addressing sensitive or complex employee and organizational issues; aided them in achieving their ever changing program goals and provided innovative ideas for staffing; </li> <li class=\"tempListItem\" style=\"list-style-type:none\"> </li> <li class=\"tempListItem\" style=\"list-style-type:none\"> </li> <div class=\"newSpan\" style=\"margin-left: -53px;\"> </div> <li class=\"tempListItem\" style=\"list-style-type:none\"> </li> <li class=\"tempListItem\" style=\"list-style-type:none\"> </li> <li> Served as the administration's management representative in labor negotiations with the local KAPE unit at the 190th Fire Department.</li> </ul> </span> </span> </div> </div> <div class=\"paragraph\" id=\"PARAGRAPH_1008511263_3_669264992\" itemscope=\"\" itemtype=\"https://schema.org/Organization\" style=\"padding-top:0px;\"> <div class=\"singlecolumn\"> <span class=\"paddedline\"> <span class=\"jobtitle\" id=\"1008511263JTIT3\"> HR Manager/Sr. Recruiter</span> <span class=\"datesWrapper\"> <span class=\"jobdates\" format=\"%m/%Y\" id=\"1008511263JSTD3\"> 10/2003</span> <span class=\"jobdates\">  to </span> <span class=\"jobdates\" format=\"%m/%Y\" id=\"1008511263EDDT3\"> 06/2006</span> </span> </span> <span class=\"paddedline\" itemscope=\"\" itemtype=\"https://schema.org/postalAddress\"> <span class=\"companyname\" id=\"1008511263COMP3\" itemprop=\"name\"> Company Name</span> <span class=\"datesWrapper\"> <span class=\"joblocation jobcity\" id=\"1008511263JCIT3\" itemprop=\"addressLocality\"> City</span> <span class=\"joblocation\"> , </span> <span class=\"joblocation jobstate\" id=\"1008511263JSTA3\" itemprop=\"addressRegion\"> State</span> </span> </span> <span class=\"paddedline\"> <span class=\"jobline\" id=\"1008511263JDES3\" itemprop=\"description\"> <ul> <li> Created an HRIS tracking system used for recruitment.</li> <li> Responsible for Ramp up and hiring of all customer service agents, and other positions as needed.</li> <li> Placement and development of all advertising \nMet and exceeded all hiring goals. Responsible for Hiring Senior Management to cover such duties as: Team Managers, Payroll, Quality Control.</li> <li> Responsible for recruitment of 950 new employees, meeting and exceeded goals set.</li> <li> Coordinated and facilitated manpower planning, recruitment and retention, career development and training, staff relations, compensation and benefits, compliance with local, state and federal statutory regulations, public programs, and regulatory audit procedures.</li> <li> Served as a resource person to administration, mid-level management and staff regarding HR related.</li> </ul> </span> </span> </div> </div> <div class=\"paragraph\" id=\"PARAGRAPH_1008511263_4_669264993\" itemscope=\"\" itemtype=\"https://schema.org/Organization\" style=\"padding-top:0px;\"> <div class=\"singlecolumn\"> <span class=\"paddedline\"> <span class=\"jobtitle\" id=\"1008511263JTIT4\"> Human Resources Coordinator</span> <span class=\"datesWrapper\"> <span class=\"jobdates\" format=\"%m/%Y\" id=\"1008511263JSTD4\"> 03/1996</span> <span class=\"jobdates\">  to </span> <span class=\"jobdates\" format=\"%m/%Y\" id=\"1008511263EDDT4\"> 02/2000</span> </span> </span> <span class=\"paddedline\" itemscope=\"\" itemtype=\"https://schema.org/postalAddress\"> <span class=\"companyname\" id=\"1008511263COMP4\" itemprop=\"name\"> Company Name</span> <span class=\"datesWrapper\"> <span class=\"joblocation jobcity\" id=\"1008511263JCIT4\" itemprop=\"addressLocality\"> City</span> <span class=\"joblocation\"> , </span> <span class=\"joblocation jobstate\" id=\"1008511263JSTA4\" itemprop=\"addressRegion\"> State</span> </span> </span> <span class=\"paddedline\"> <span class=\"jobline\" id=\"1008511263JDES4\" itemprop=\"description\"> <ul> <li> Developed HRIS database from ground up for employee records and monitoring.</li> <li> Instrumental in reducing the use of Agency Staffing needs for hospital.</li> <li> Coordinated and facilitates manpower planning, recruitment and retention, career development and training, staff relations, compensation and benefits, compliance with local, state and federal statutory regulations, public programs, and regulatory audit procedures.</li> <li> Served as the HR resource source for administration, mid-level management and staff.</li> <li> Coordinated hiring procedures, appraisals, pay increases, promotions, transfers, terminations, job postings, and all corrective actions;</li> <li> One Person Office, responsible for all OSHA, Work Comp, Benefits, payroll, etc.</li> </ul> </span> </span> </div> </div> </div> <div class=\"section\" id=\"SECTION_EDUC1008511265\" style=\"padding-top:0px;\"> <div class=\"heading\"> <div class=\"sectiontitle\" id=\"SECTNAME_EDUC1008511265\"> Education and Training</div> </div> <div class=\"paragraph firstparagraph\" id=\"PARAGRAPH_1008511265_1_669264998\" itemscope=\"\" itemtype=\"https://schema.org/EducationalOrganization\" style=\"padding-top:0px;\"> <div class=\"singlecolumn\"> <span class=\"paddedline\" itemprop=\"description\"> <span class=\"degree\" id=\"1008511265DGRE1\" itemprop=\"name\"> Master's Degree</span> <span> : </span> <span class=\"programline\" id=\"1008511265STUY1\"> Information Management Systems</span> <span class=\"datesWrapper\"> <span class=\"jobdates\" id=\"1008511265GRYR1\"> 05/2005</span> <span> </span> </span> </span> <span class=\"paddedline\"> <span class=\"companyname companyname_educ\" id=\"1008511265SCHO1\" itemprop=\"name\"> Friends University</span> <span class=\"datesWrapper\"> <span class=\"joblocation jobcity educity\" id=\"1008511265SCIT1\"> City</span> <span> , </span> <span class=\"joblocation jobstate edustate\" id=\"1008511265SSTA1\"> State</span> <span> , </span> <span class=\"joblocation eduCountry\" id=\"1008511265SCNT1\"> United States</span> </span> </span> <span class=\"paddedline\"> <span class=\"field\" id=\"1008511265FRFM1\"> 3.5 Credits Earned: 62 Semester hours Information Management Systems</span> </span> </div> </div> <div class=\"paragraph\" id=\"PARAGRAPH_1008511265_2_669264999\" itemscope=\"\" itemtype=\"https://schema.org/EducationalOrganization\" style=\"padding-top:0px;\"> <div class=\"singlecolumn\"> <span class=\"paddedline\" itemprop=\"description\"> <span class=\"degree\" id=\"1008511265DGRE2\" itemprop=\"name\"> Bachelor of Science</span> <span> : </span> <span class=\"programline\" id=\"1008511265STUY2\"> Organizational Management</span> <span class=\"datesWrapper\"> <span class=\"jobdates\" id=\"1008511265GRYR2\"> 05/2000</span> <span> </span> </span> </span> <span class=\"paddedline\"> <span class=\"companyname companyname_educ\" id=\"1008511265SCHO2\" itemprop=\"name\"> Friends University</span> <span class=\"datesWrapper\"> <span class=\"joblocation jobcity educity\" id=\"1008511265SCIT2\"> City</span> <span> , </span> <span class=\"joblocation jobstate edustate\" id=\"1008511265SSTA2\"> State</span> <span> , </span> <span class=\"joblocation eduCountry\" id=\"1008511265SCNT2\"> United States</span> </span> </span> <span class=\"paddedline\"> <span class=\"field\" id=\"1008511265FRFM2\"> <div> 4.0 Credits Earned: 62 Semester hours </div> <div> <br/> </div> </span> </span> </div> </div> </div> <div class=\"section\" id=\"SECTION_AFIL1008511266\" style=\"padding-top:0px;\"> <div class=\"heading\"> <div class=\"sectiontitle\" id=\"SECTNAME_AFIL1008511266\"> Activities and Honors</div> </div> <div class=\"paragraph firstparagraph\" id=\"PARAGRAPH_1008511266_1_669265000\" style=\"padding-top:0px;\"> <div class=\"field singlecolumn\" id=\"1008511266FRFM1\"> Topeka Chamber of Commerce -Ambassador \nKansas Hospital Association -Health Care Human Resources Member \nSHRM -Legislative Liaison</div> </div> </div> <div class=\"section\" id=\"SECTION_SKLL1008511267\" style=\"padding-top:0px;\"> <div class=\"heading\"> <div class=\"sectiontitle\" id=\"SECTNAME_SKLL1008511267\"> Skills</div> </div> <div class=\"paragraph firstparagraph\" id=\"PARAGRAPH_1008511267_1_669265001\" style=\"padding-top:0px;\"> <div class=\"field singlecolumn\" id=\"1008511267FRFM1\"> <ul> <li> Desktop Publishing, </li> <li> Newsletter productions, </li> <li> DATABASE Management, </li> <li> Leadership \n\nTraining,</li> <li> OSHA, FMLA, \n\nWorkers Compensation. </li> <li> PageMaker, </li> <li> Agency Automation, back-up, </li> <li> Benefits,</li> <li> Budget management,</li> <li> Corel Suite, </li> <li> Harvard Graphics,</li> <li> Access, Excel, Microsoft Publisher, MS Word,  </li> <li> Quark Express, Quattro Pro, </li> <li> Strategic Planning,  </li> <li> Web page development, </li> <li> WordPerfect</li> </ul> </div> </div> </div> </div>",
         "HR"
        ],
        [
         "3",
         "27018550",
         "         HR SPECIALIST       Summary    Dedicated, Driven, and Dynamic with over 20 years of customer service expertise. Motivated to maintain customer satisfaction and contribute to company success with an emphasis in personnel and process management. Solid team player with proven ability to establish rapport with clients.       Skills          Type 50 wpm and 10-Key by touch  Microsoft programs Word, Excel, Access, Outlook, PowerPoint  Personnel management  and Telephone inquiries specialist      Excellent customer service skills with call quality and customer satisfaction as primary focus.  Inbound and Outbound contact center experience  Excellent oral and written presentation and seasoned in conflict resolution             Experience      Hr Specialist     May 2007   to   Oct 2008      Company Name   －   City  ,   State     Accenture Peopleline Email Management Team.  Received inbound emails from clients as initial point of contact to answer questions related to HR policies, practices or to resolve issues.  Helped the client by answering their inquiry, resolving their issue or routing their email to a caseworker for resolution.  Recorded and tracked the client issue via the case management tool from initiation to resolution.  Maintained records of customer interactions and transactions by documenting details of inquiries, complaints, and comments as well as actions taken.         Customer Service Representative     Mar 2007   to   Feb 2008      Company Name   －   City  ,   State     Maintained records of customer interactions and transactions by documenting details of inquiries, complaints, and comments, as well as actions taken.  Developed and implemented filing and delivery methods for FMLA and Short Term Disability documentation to respective global clientele.  Facilitated communication for the Absence Management Team to clients and internal departmental teams.  Organized and maintained payroll and people services database management system.  Communicated to clients and internal/external departmental teams mitigated risks and resolutions regarding  policy, transactions and other queries         Call Centre Shift Supervisor     Aug 2003   to   Mar 2007      Company Name   －   City  ,   State   Answered and Dispatched calls for Medical and Professional clients in the San Antonio and surrounding areas. Provided call monitoring to ensure staff was adhering to quality call control. Maintained On Call books for various medical staff to ensure that the correct staff was contacted during after hours and weekends.        Education and Training      Certificate of Completion\n*Business Administration     1997     Texas A&M Extension Services   －   City  ,   State            Skills    10-Key by touch, Type 50 wpm, filing, Access,  Microsoft Excel, Microsoft Outlook, Microsoft PowerPoint, Microsoft Word       ",
         "<div class=\"fontsize fontface vmargins hmargins linespacing pagesize\" id=\"document\"> <div class=\"section firstsection\" id=\"SECTION_NAME992636658\" style=\"padding-top:0px;\"> <div class=\"paragraph PARAGRAPH_NAME firstparagraph\" id=\"PARAGRAPH_992636658_1_657422912\" style=\"padding-top:0px;\"> <div class=\"name\" itemprop=\"name\"> <span class=\"field fName\" id=\"992636658FNAM1\"> </span> <span> </span> <span class=\"field\" id=\"992636658LNAM1\"> HR SPECIALIST</span> </div> </div> </div> <div class=\"section\" id=\"SECTION_SUMM992636662\" style=\"padding-top:0px;\"> <div class=\"heading bottomborder\"> <div class=\"sectiontitle\" id=\"SECTNAME_SUMM992636662\"> Summary</div> </div> <div class=\"paragraph firstparagraph\" id=\"PARAGRAPH_992636662_1_657422921\" style=\"padding-top:0px;\"> <div class=\"field singlecolumn\" id=\"992636662FRFM1\"> Dedicated, Driven, and Dynamic with over 20 years of customer service expertise. Motivated to maintain customer satisfaction and contribute to company success with an emphasis in personnel and process management. Solid team player with proven ability to establish rapport with clients. </div> </div> </div> <div class=\"section\" id=\"SECTION_HILT992636663\" style=\"padding-top:0px;\"> <div class=\"heading bottomborder\"> <div class=\"sectiontitle\" id=\"SECTNAME_HILT992636663\"> Skills</div> </div> <div class=\"paragraph firstparagraph\" id=\"PARAGRAPH_992636663_1_657422922\" style=\"padding-top:0px;\"> <div class=\"singlecolumn maincolumn\"> <table class=\"twocol\"> <tbody> <tr> <td class=\"field twocol_1\" id=\"992636663SKC11\"> <ul> <li> Type 50 wpm and 10-Key by touch</li> <li> Microsoft programs Word, Excel, Access, Outlook, PowerPoint</li> <li> Personnel management  and Telephone inquiries specialist</li> </ul> </td> <td class=\"field twocol_2\" id=\"992636663SKC21\"> <ul> <li> Excellent customer service skills with call quality and customer satisfaction as primary focus.</li> <li> Inbound and Outbound contact center experience</li> <li> Excellent oral and written presentation and seasoned in conflict resolution </li> </ul> </td> </tr> </tbody> </table> </div> </div> </div> <div class=\"section\" id=\"SECTION_EXPR992636660\" style=\"padding-top:0px;\"> <div class=\"heading bottomborder\"> <div class=\"sectiontitle\" id=\"SECTNAME_EXPR992636660\"> Experience</div> </div> <div class=\"paragraph firstparagraph\" id=\"PARAGRAPH_992636660_1_657422914\" itemscope=\"\" itemtype=\"https://schema.org/Organization\" style=\"padding-top:0px;\"> <div class=\"singlecolumn\"> <span class=\"paddedline\"> <span class=\"jobtitle\" id=\"992636660JTIT1\"> Hr Specialist</span> <span> </span> <span class=\"datesWrapper\"> <span class=\"jobdates\" format=\"%b %Y\" id=\"992636660JSTD1\"> May 2007</span> <span>  to </span> <span class=\"jobdates\" format=\"%b %Y\" id=\"992636660EDDT1\"> Oct 2008</span> <br/> </span> </span> <span class=\"paddedline\" itemscope=\"\" itemtype=\"https://schema.org/postalAddress\"> <span class=\"companyname\" id=\"992636660COMP1\" itemprop=\"name\"> Company Name</span> <span>  － </span> <span class=\"joblocation jobcity\" id=\"992636660JCIT1\" itemprop=\"addressLocality\"> City</span> <span> , </span> <span class=\"joblocation jobstate\" id=\"992636660JSTA1\" itemprop=\"addressRegion\"> State</span> </span> <span class=\"jobline\" id=\"992636660JDES1\" itemprop=\"description\"> <ul> <li> Accenture Peopleline Email Management Team.</li> <li> Received inbound emails from clients as initial point of contact to answer questions related to HR policies, practices or to resolve issues.</li> <li> Helped the client by answering their inquiry, resolving their issue or routing their email to a caseworker for resolution.</li> <li> Recorded and tracked the client issue via the case management tool from initiation to resolution.</li> <li> Maintained records of customer interactions and transactions by documenting details of inquiries, complaints, and comments as well as actions taken.</li> </ul> </span> </div> </div> <div class=\"paragraph\" id=\"PARAGRAPH_992636660_2_657422916\" itemscope=\"\" itemtype=\"https://schema.org/Organization\" style=\"padding-top:0px;\"> <div class=\"singlecolumn\"> <span class=\"paddedline\"> <span class=\"jobtitle\" id=\"992636660JTIT2\"> Customer Service Representative</span> <span> </span> <span class=\"datesWrapper\"> <span class=\"jobdates\" format=\"%b %Y\" id=\"992636660JSTD2\"> Mar 2007</span> <span>  to </span> <span class=\"jobdates\" format=\"%b %Y\" id=\"992636660EDDT2\"> Feb 2008</span> <br/> </span> </span> <span class=\"paddedline\" itemscope=\"\" itemtype=\"https://schema.org/postalAddress\"> <span class=\"companyname\" id=\"992636660COMP2\" itemprop=\"name\"> Company Name</span> <span>  － </span> <span class=\"joblocation jobcity\" id=\"992636660JCIT2\" itemprop=\"addressLocality\"> City</span> <span> , </span> <span class=\"joblocation jobstate\" id=\"992636660JSTA2\" itemprop=\"addressRegion\"> State</span> </span> <span class=\"jobline\" id=\"992636660JDES2\" itemprop=\"description\"> <ul> <li> Maintained records of customer interactions and transactions by documenting details of inquiries, complaints, and comments, as well as actions taken.</li> <li> Developed and implemented filing and delivery methods for FMLA and Short Term Disability documentation to respective global clientele.</li> <li> Facilitated communication for the Absence Management Team to clients and internal departmental teams.</li> <li> Organized and maintained payroll and people services database management system.</li> <li> Communicated to clients and internal/external departmental teams mitigated risks and resolutions regarding  policy, transactions and other queries</li> </ul> </span> </div> </div> <div class=\"paragraph\" id=\"PARAGRAPH_992636660_3_662995252\" itemscope=\"\" itemtype=\"https://schema.org/Organization\" style=\"padding-top:0px;\"> <div class=\"singlecolumn\"> <span class=\"paddedline\"> <span class=\"jobtitle\" id=\"992636660JTIT3\"> Call Centre Shift Supervisor</span> <span> </span> <span class=\"datesWrapper\"> <span class=\"jobdates\" format=\"%b %Y\" id=\"992636660JSTD3\"> Aug 2003</span> <span>  to </span> <span class=\"jobdates\" format=\"%b %Y\" id=\"992636660EDDT3\"> Mar 2007</span> <br/> </span> </span> <span class=\"paddedline\" itemscope=\"\" itemtype=\"https://schema.org/postalAddress\"> <span class=\"companyname\" id=\"992636660COMP3\" itemprop=\"name\"> Company Name</span> <span>  － </span> <span class=\"joblocation jobcity\" id=\"992636660JCIT3\" itemprop=\"addressLocality\"> City</span> <span> , </span> <span class=\"joblocation jobstate\" id=\"992636660JSTA3\" itemprop=\"addressRegion\"> State</span> </span> <span class=\"jobline\" id=\"992636660JDES3\" itemprop=\"description\"> Answered and Dispatched calls for Medical and Professional clients in the San Antonio and surrounding areas. Provided call monitoring to ensure staff was adhering to quality call control. Maintained On Call books for various medical staff to ensure that the correct staff was contacted during after hours and weekends. </span> </div> </div> </div> <div class=\"section\" id=\"SECTION_EDUC992636661\" style=\"padding-top:0px;\"> <div class=\"heading bottomborder\"> <div class=\"sectiontitle\" id=\"SECTNAME_EDUC992636661\"> Education and Training</div> </div> <div class=\"paragraph firstparagraph\" id=\"PARAGRAPH_992636661_1_657422920\" itemscope=\"\" itemtype=\"https://schema.org/EducationalOrganization\" style=\"padding-top:0px;\"> <div class=\"singlecolumn\"> <span class=\"paddedline\" itemprop=\"description\"> <span class=\"degree\" id=\"992636661DGRE1\" itemprop=\"name\"> Certificate of Completion\n*Business Administration</span> <span class=\"programline\" id=\"992636661STUY1\"> </span> <span class=\"datesWrapper\"> <span class=\"jobdates\" id=\"992636661GRYR1\"> 1997</span> </span> </span> <span class=\"paddedline\"> <span class=\"companyname companyname_educ\" id=\"992636661SCHO1\" itemprop=\"name\"> Texas A&amp;M Extension Services</span> <span>  － </span> <span class=\"joblocation jobcity\" id=\"992636661SCIT1\"> City</span> <span> , </span> <span class=\"joblocation jobstate\" id=\"992636661SSTA1\"> State</span> <span class=\"joblocation jobstate\" id=\"992636661SCNT1\"> </span> </span> <span class=\"field\" id=\"992636661FRFM1\"> </span> </div> </div> </div> <div class=\"section\" id=\"SECTION_SKLL992636664\" style=\"padding-top:0px;\"> <div class=\"heading bottomborder\"> <div class=\"sectiontitle\" id=\"SECTNAME_SKLL992636664\"> Skills</div> </div> <div class=\"paragraph firstparagraph\" id=\"PARAGRAPH_992636664_1_657422923\" style=\"padding-top:0px;\"> <div class=\"field singlecolumn\" id=\"992636664FRFM1\"> 10-Key by touch, Type 50 wpm, filing, Access,  Microsoft Excel, Microsoft Outlook, Microsoft PowerPoint, Microsoft Word<span class=\"\"> </span> </div> </div> </div> <div class=\"section\" id=\"SECTION_AFIL992636665\" style=\"padding-top:0px;\"> </div> </div>",
         "HR"
        ],
        [
         "4",
         "17812897",
         "         HR MANAGER         Skill Highlights           HR SKILLS  HR Department Startup  Three New Organization Startups  Employment Law  FMLA/ADA/EEO/WC  Mediation & Advocacy  HR Policies & Procedures\t*Staff Recruitment & Retention  Salary Negotiations  Employee Relations  Benefits Administration  Unemployment Administration  Worker's Compensation Administration  Orientation & On-Boarding  HRIS Technologies  Training & Development  Performance Management  Organizational Development  HR Program/Project Management  HRIS applications (Lawson, Paychex, Kronos, ADP)  MS Office (Word, Excel, PowerPoint, Publisher, Access, Visio, Outlook)                Professional Experience      HR Manager     Jan 2015   to   Current      Company Name   －   City  ,   State     Manage the Human Resource function for e-Cycle's corporate office as well as their fulfillment and data center, consisting of benefits and compensation administration, payroll, employee relations, policy compliance, and recruitment.  Key Results: Foster an associate-oriented culture that emphasizes continuous improvement, team- work, high performance and quality.  Ensure organizational conformation with applicable HR related regulations and statutes as well as organizational procedures and policies.  Implement HR programs and policies as needed by the organization.  Identify, evaluate, and resolve human relations, employee morale, work performance, and organizational productivity concerns.  Develop staffing strategies and implement programs and plans to identify and cultivate effective and appropriate sources for employees at all job levels.  Create or assist in the creation of associate training and organizational development programs.  Develop and manage the annual associate review process.  Insure that regional staff is included in corporate activities and feel like they are a part of the team.  Responsible for the human resource management system(s) and provide staff and management with essential reporting information in order to help them in managing their associate resources.  Recruit and retain top quality associates for each department, this includes recruiting nationally and in some cases at an executive level.  Create or assist in the creation of compensation plans.  Employee benefit administration consisting of Health, Dental, Vision, VSTD, VLTD and 401(k).  Successful in reducing the health benefit expected increase from 46% to 5% during my first month with the organization.         Sr. HR Manager     Jan 2013   to   Jan 2015      Company Name   －   City  ,   State     As a leader within the HR and Operations team, I was instrumental in partnering with local leadership and Corporate HR to develop and implement HR policies, processes, technology and services that are aligned to support our company's strategic initiatives in order to have a successful start-up.  Key Results: Coordinated efforts to recruit and hire over 220 full time hourly associates and 27 management level employees while converting agency staff to full time.  Instrumental in managing and creating the set up of the HR business office, which included development of personnel files, new hire practices, payroll, and HR reporting.  Manage, by providing direction and development to HR, and develop the HR delivery as business continued to grow.  Strategic business partner to the Site Director, as well as other operations leaders, in support of start-up operations, day-to-day operations, and peak season planning, staffing and operations.  Worked successfully with local temporary agencies in order to staff to our Peak volume, which consisted of over 1800 total associates delivering over 3 million units from Black Friday to Christmas.  Influence HR strategy and execute tactical direction for the facility within the overall HR strategy.  Ensure internal consistency of HR policies and procedures across multiple locations.  Interact with the Corporate HR team for exempt staffing, compensation and benefits, and other functional groups in order to support Operations.  Maintain knowledge of HR policies and procedures, laws and regulations, industry trends and developments to ensure accurate information is being communicated throughout the company.  Develop a work environment that demonstrates Fanatics core values.  Provide strategic direction on leadership development and workforce planning initiatives within the fulfillment center.  Coach senior business leaders and front line supervisors on HR polices, procedures, and best practices in dealing with employee relation issues, such as, poor performance, attendance, and behavior and conduct issues.  Championed a fun, friendly and approachable HR team of professionals.  Ensure integrity, maintenance and confidentiality of all personnel records in accordance with policies and procedures and applicable Federal and State laws.  Improve HR service delivery in line with overall business performance expectations.  Look for ways to innovate systems for HR delivery (People, process & technology).  Manage the HR function with measurable objectives, and communicate the bottom line impact of HR delivery to the business.         HR Director     Jan 2008   to   Jan 2012      Company Name   －   City  ,   State     As a member of the executive team, I was directly and solely responsible for providing situation appropriate and policy compliant human resource support for 2 separate business units for a community based, non-profit, health care organization with approximately 184 employees.  Key Results: Played a key role in ensuring the successful merge of five separate private physician practices into one Non-Profit organization.  Structured and implemented programs and policies in the areas of compensation structures, benefits packages, incentive compensation plans and physician employment contracts.  Fostered a teamwork/open-door environment conducive to positive dialogue across the organization with an 85% overall employee satisfaction rating.  Responsible for maintaining staffing levels for all positions within the health center which consisted of full time, part time and on-call staff.  Negotiated more than 100 salary offers at both the exempt and nonexempt level.  Successful recruitment of Physicians, CEO, COO, CFO, CMO and various managers.  Wrote employee manual covering issues including disciplinary procedures, code of conduct, FMLA, attendance policies and benefits information.  Implemented employee satisfaction surveys and presented results to Board of directors.  Introduced company's first formal performance review program.  Developed job descriptions across all levels and categories.  Shadowed\" and interviewed employees to construct an accurate picture of the duties and skills required for each position.         HR Representative     Jan 2001   to   Jan 2007      Company Name   －   City  ,   State     Nation's largest small-box discount retailer.  Fulfilled a broad range of HR Generalist functions, including recruiting, administering benefits, overseeing disciplinary action and managing HR support staff.  Key Results: Trained management team on interviewing techniques and best practices, conducted workshops and one-on-one coaching sessions that contributed to sound hiring decisions.  Instrumental in the start-up of the new 1.2 million sq.  ft.  state of the art distribution center.  Hiring over 400 plus employees within the first year that consisted of part time, full time and temporary staff.  Overseen morale-boosting programs (including special events, annual employee picnic, attendance and safety banquets, etc.  that increased employee satisfaction and productivity.  Investigated all employee relation issues, such as sexual harassment, discrimination, and inappropriate conduct by either hourly employees and or management staff.  Responsible for staffing all hourly positions, which consisted of maintaining 878 hourly employees among three shifts.         Education      Bachelor of Business Administration      MOUNT VERNON NAZARENE UNIVERSITY   －   City  ,   State            Professional Affiliations    Society for Human Resource Management (SHRM)\n*Muskingum Valley Human Resource Management Association      Skills    ADA, ADP, art, agency, benefits, Benefits Administration, Coach, coaching, conflict resolution, continuous improvement, contracts, decision making, delivery, direction, Employee Relations, special events, financial, functional, Hiring, HRIS, human resource management, Human Resource, Human Resources, HR, human relations, Kronos, Lawson, leadership, leadership development, Law, legal compliance, Director, managing, management reporting, Mediation, Access, Excel, MS Office, office, Outlook, PowerPoint, Publisher, win, Word, negotiating, Negotiations, Organizational Development, organizational, payroll, Peak, Performance Management, personnel, Policies, problem solving, processes, Profit, implement programs, Project Management, quality, quantitative analysis, Recruitment, recruiting, reporting, safety, sound, staff development, staffing, strategy, Strategic, Structured, surveys, team- work, teamwork, Visio, Vision, workshops   ",
         "<div class=\"fontsize fontface vmargins hmargins linespacing pagesize\" id=\"document\"> <div class=\"section firstsection\" id=\"SECTION_NAME666809417\" style=\"padding-top:0px;\"> <div class=\"paragraph PARAGRAPH_NAME firstparagraph\" id=\"PARAGRAPH_666809417_1_433655046\" style=\"padding-top:0px;\"> <div class=\"name\" itemprop=\"name\"> <span class=\"field fName\" id=\"666809417FNAM1\"> </span> <span> </span> <span class=\"field\" id=\"666809417LNAM1\"> HR MANAGER</span> </div> </div> </div> <div class=\"section\" id=\"SECTION_SUMM666809420\" style=\"padding-top:0px;\"> </div> <div class=\"section\" id=\"SECTION_HILT666809421\" style=\"padding-top:0px;\"> <div class=\"heading bottomborder\"> <div class=\"sectiontitle\" id=\"SECTNAME_HILT666809421\"> Skill Highlights</div> </div> <div class=\"paragraph firstparagraph\" id=\"PARAGRAPH_666809421_1_433655054\" style=\"padding-top:0px;\"> <div class=\"singlecolumn maincolumn\"> <table class=\"twocol\"> <tbody> <tr> <td class=\"field twocol_1\" id=\"666809421SKC11\"> <ul> <br/> <li> HR SKILLS</li> <li> HR Department Startup</li> <li> Three New Organization Startups</li> <li> Employment Law</li> <li> FMLA/ADA/EEO/WC</li> <li> Mediation &amp; Advocacy</li> <li> HR Policies &amp; Procedures\t*Staff Recruitment &amp; Retention</li> <li> Salary Negotiations</li> <li> Employee Relations</li> <li> Benefits Administration</li> <li> Unemployment Administration</li> <li> Worker's Compensation Administration</li> <li> Orientation &amp; On-Boarding</li> <li> HRIS Technologies</li> <li> Training &amp; Development</li> <li> Performance Management</li> <li> Organizational Development</li> <li> HR Program/Project Management</li> <li> HRIS applications (Lawson, Paychex, Kronos, ADP)</li> <li> MS Office (Word, Excel, PowerPoint, Publisher, Access, Visio, Outlook)</li> </ul> </td> <td class=\"field twocol_2\" id=\"666809421SKC21\"> </td> </tr> </tbody> </table> </div> </div> </div> <div class=\"section\" id=\"SECTION_ACCM666809651\" style=\"padding-top:0px;\"> </div> <div class=\"section\" id=\"SECTION_EXPR666809422\" style=\"padding-top:0px;\"> <div class=\"heading bottomborder\"> <div class=\"sectiontitle\" id=\"SECTNAME_EXPR666809422\"> Professional Experience</div> </div> <div class=\"paragraph firstparagraph\" id=\"PARAGRAPH_666809422_1_433655048\" itemscope=\"\" itemtype=\"https://schema.org/Organization\" style=\"padding-top:0px;\"> <div class=\"singlecolumn\"> <span class=\"paddedline\"> <span class=\"jobtitle\" id=\"666809422JTIT1\"> HR Manager</span> <span> </span> <span class=\"datesWrapper\"> <span class=\"jobdates\" format=\"%b %Y\" id=\"666809422JSTD1\"> Jan 2015</span> <span>  to </span> <span class=\"jobdates\" format=\"%b %Y\" id=\"666809422EDDT1\"> Current</span> <br/> </span> </span> <span class=\"paddedline\" itemscope=\"\" itemtype=\"https://schema.org/postalAddress\"> <span class=\"companyname\" id=\"666809422COMP1\" itemprop=\"name\"> Company Name</span> <span>  － </span> <span class=\"joblocation jobcity\" id=\"666809422JCIT1\" itemprop=\"addressLocality\"> City</span> <span> , </span> <span class=\"joblocation jobstate\" id=\"666809422JSTA1\" itemprop=\"addressRegion\"> State</span> </span> <span class=\"jobline\" id=\"666809422JDES1\" itemprop=\"description\"> <ul> <li> Manage the Human Resource function for e-Cycle's corporate office as well as their fulfillment and data center, consisting of benefits and compensation administration, payroll, employee relations, policy compliance, and recruitment.</li> <li> Key Results: Foster an associate-oriented culture that emphasizes continuous improvement, team- work, high performance and quality.</li> <li> Ensure organizational conformation with applicable HR related regulations and statutes as well as organizational procedures and policies.</li> <li> Implement HR programs and policies as needed by the organization.</li> <li> Identify, evaluate, and resolve human relations, employee morale, work performance, and organizational productivity concerns.</li> <li> Develop staffing strategies and implement programs and plans to identify and cultivate effective and appropriate sources for employees at all job levels.</li> <li> Create or assist in the creation of associate training and organizational development programs.</li> <li> Develop and manage the annual associate review process.</li> <li> Insure that regional staff is included in corporate activities and feel like they are a part of the team.</li> <li> Responsible for the human resource management system(s) and provide staff and management with essential reporting information in order to help them in managing their associate resources.</li> <li> Recruit and retain top quality associates for each department, this includes recruiting nationally and in some cases at an executive level.</li> <li> Create or assist in the creation of compensation plans.</li> <li> Employee benefit administration consisting of Health, Dental, Vision, VSTD, VLTD and 401(k).</li> <li> Successful in reducing the health benefit expected increase from 46% to 5% during my first month with the organization.</li> </ul> </span> </div> </div> <div class=\"paragraph\" id=\"PARAGRAPH_666809422_2_433655049\" itemscope=\"\" itemtype=\"https://schema.org/Organization\" style=\"padding-top:0px;\"> <div class=\"singlecolumn\"> <span class=\"paddedline\"> <span class=\"jobtitle\" id=\"666809422JTIT2\"> Sr. HR Manager</span> <span> </span> <span class=\"datesWrapper\"> <span class=\"jobdates\" format=\"%b %Y\" id=\"666809422JSTD2\"> Jan 2013</span> <span>  to </span> <span class=\"jobdates\" format=\"%b %Y\" id=\"666809422EDDT2\"> Jan 2015</span> <br/> </span> </span> <span class=\"paddedline\" itemscope=\"\" itemtype=\"https://schema.org/postalAddress\"> <span class=\"companyname\" id=\"666809422COMP2\" itemprop=\"name\"> Company Name</span> <span>  － </span> <span class=\"joblocation jobcity\" id=\"666809422JCIT2\" itemprop=\"addressLocality\"> City</span> <span> , </span> <span class=\"joblocation jobstate\" id=\"666809422JSTA2\" itemprop=\"addressRegion\"> State</span> </span> <span class=\"jobline\" id=\"666809422JDES2\" itemprop=\"description\"> <ul> <li> As a leader within the HR and Operations team, I was instrumental in partnering with local leadership and Corporate HR to develop and implement HR policies, processes, technology and services that are aligned to support our company's strategic initiatives in order to have a successful start-up.</li> <li> Key Results: Coordinated efforts to recruit and hire over 220 full time hourly associates and 27 management level employees while converting agency staff to full time.</li> <li> Instrumental in managing and creating the set up of the HR business office, which included development of personnel files, new hire practices, payroll, and HR reporting.</li> <li> Manage, by providing direction and development to HR, and develop the HR delivery as business continued to grow.</li> <li> Strategic business partner to the Site Director, as well as other operations leaders, in support of start-up operations, day-to-day operations, and peak season planning, staffing and operations.</li> <li> Worked successfully with local temporary agencies in order to staff to our Peak volume, which consisted of over 1800 total associates delivering over 3 million units from Black Friday to Christmas.</li> <li> Influence HR strategy and execute tactical direction for the facility within the overall HR strategy.</li> <li> Ensure internal consistency of HR policies and procedures across multiple locations.</li> <li> Interact with the Corporate HR team for exempt staffing, compensation and benefits, and other functional groups in order to support Operations.</li> <li> Maintain knowledge of HR policies and procedures, laws and regulations, industry trends and developments to ensure accurate information is being communicated throughout the company.</li> <li> Develop a work environment that demonstrates Fanatics core values.</li> <li> Provide strategic direction on leadership development and workforce planning initiatives within the fulfillment center.</li> <li> Coach senior business leaders and front line supervisors on HR polices, procedures, and best practices in dealing with employee relation issues, such as, poor performance, attendance, and behavior and conduct issues.</li> <li> Championed a fun, friendly and approachable HR team of professionals.</li> <li> Ensure integrity, maintenance and confidentiality of all personnel records in accordance with policies and procedures and applicable Federal and State laws.</li> <li> Improve HR service delivery in line with overall business performance expectations.</li> <li> Look for ways to innovate systems for HR delivery (People, process &amp; technology).</li> <li> Manage the HR function with measurable objectives, and communicate the bottom line impact of HR delivery to the business.</li> </ul> </span> </div> </div> <div class=\"paragraph\" id=\"PARAGRAPH_666809422_3_433655050\" itemscope=\"\" itemtype=\"https://schema.org/Organization\" style=\"padding-top:0px;\"> <div class=\"singlecolumn\"> <span class=\"paddedline\"> <span class=\"jobtitle\" id=\"666809422JTIT3\"> HR Director</span> <span> </span> <span class=\"datesWrapper\"> <span class=\"jobdates\" format=\"%b %Y\" id=\"666809422JSTD3\"> Jan 2008</span> <span>  to </span> <span class=\"jobdates\" format=\"%b %Y\" id=\"666809422EDDT3\"> Jan 2012</span> <br/> </span> </span> <span class=\"paddedline\" itemscope=\"\" itemtype=\"https://schema.org/postalAddress\"> <span class=\"companyname\" id=\"666809422COMP3\" itemprop=\"name\"> Company Name</span> <span>  － </span> <span class=\"joblocation jobcity\" id=\"666809422JCIT3\" itemprop=\"addressLocality\"> City</span> <span> , </span> <span class=\"joblocation jobstate\" id=\"666809422JSTA3\" itemprop=\"addressRegion\"> State</span> </span> <span class=\"jobline\" id=\"666809422JDES3\" itemprop=\"description\"> <ul> <li> As a member of the executive team, I was directly and solely responsible for providing situation appropriate and policy compliant human resource support for 2 separate business units for a community based, non-profit, health care organization with approximately 184 employees.</li> <li> Key Results: Played a key role in ensuring the successful merge of five separate private physician practices into one Non-Profit organization.</li> <li> Structured and implemented programs and policies in the areas of compensation structures, benefits packages, incentive compensation plans and physician employment contracts.</li> <li> Fostered a teamwork/open-door environment conducive to positive dialogue across the organization with an 85% overall employee satisfaction rating.</li> <li> Responsible for maintaining staffing levels for all positions within the health center which consisted of full time, part time and on-call staff.</li> <li> Negotiated more than 100 salary offers at both the exempt and nonexempt level.</li> <li> Successful recruitment of Physicians, CEO, COO, CFO, CMO and various managers.</li> <li> Wrote employee manual covering issues including disciplinary procedures, code of conduct, FMLA, attendance policies and benefits information.</li> <li> Implemented employee satisfaction surveys and presented results to Board of directors.</li> <li> Introduced company's first formal performance review program.</li> <li> Developed job descriptions across all levels and categories.</li> <li> Shadowed\" and interviewed employees to construct an accurate picture of the duties and skills required for each position.</li> </ul> </span> </div> </div> <div class=\"paragraph\" id=\"PARAGRAPH_666809422_4_433655051\" itemscope=\"\" itemtype=\"https://schema.org/Organization\" style=\"padding-top:0px;\"> <div class=\"singlecolumn\"> <span class=\"paddedline\"> <span class=\"jobtitle\" id=\"666809422JTIT4\"> HR Representative</span> <span> </span> <span class=\"datesWrapper\"> <span class=\"jobdates\" format=\"%b %Y\" id=\"666809422JSTD4\"> Jan 2001</span> <span>  to </span> <span class=\"jobdates\" format=\"%b %Y\" id=\"666809422EDDT4\"> Jan 2007</span> <br/> </span> </span> <span class=\"paddedline\" itemscope=\"\" itemtype=\"https://schema.org/postalAddress\"> <span class=\"companyname\" id=\"666809422COMP4\" itemprop=\"name\"> Company Name</span> <span>  － </span> <span class=\"joblocation jobcity\" id=\"666809422JCIT4\" itemprop=\"addressLocality\"> City</span> <span> , </span> <span class=\"joblocation jobstate\" id=\"666809422JSTA4\" itemprop=\"addressRegion\"> State</span> </span> <span class=\"jobline\" id=\"666809422JDES4\" itemprop=\"description\"> <ul> <li> Nation's largest small-box discount retailer.</li> <li> Fulfilled a broad range of HR Generalist functions, including recruiting, administering benefits, overseeing disciplinary action and managing HR support staff.</li> <li> Key Results: Trained management team on interviewing techniques and best practices, conducted workshops and one-on-one coaching sessions that contributed to sound hiring decisions.</li> <li> Instrumental in the start-up of the new 1.2 million sq.</li> <li> ft.</li> <li> state of the art distribution center.</li> <li> Hiring over 400 plus employees within the first year that consisted of part time, full time and temporary staff.</li> <li> Overseen morale-boosting programs (including special events, annual employee picnic, attendance and safety banquets, etc.</li> <li> that increased employee satisfaction and productivity.</li> <li> Investigated all employee relation issues, such as sexual harassment, discrimination, and inappropriate conduct by either hourly employees and or management staff.</li> <li> Responsible for staffing all hourly positions, which consisted of maintaining 878 hourly employees among three shifts.</li> </ul> </span> </div> </div> </div> <div class=\"section\" id=\"SECTION_EDUC666809423\" style=\"padding-top:0px;\"> <div class=\"heading bottomborder\"> <div class=\"sectiontitle\" id=\"SECTNAME_EDUC666809423\"> Education</div> </div> <div class=\"paragraph firstparagraph\" id=\"PARAGRAPH_666809423_1_433655052\" itemscope=\"\" itemtype=\"https://schema.org/EducationalOrganization\" style=\"padding-top:0px;\"> <div class=\"singlecolumn\"> <span class=\"paddedline\" itemprop=\"description\"> <span class=\"degree\" id=\"666809423DGRE1\" itemprop=\"name\"> Bachelor of Business Administration</span> <span class=\"programline\" id=\"666809423STUY1\"> </span> </span> <span class=\"paddedline\"> <span class=\"companyname companyname_educ\" id=\"666809423SCHO1\" itemprop=\"name\"> MOUNT VERNON NAZARENE UNIVERSITY</span> <span>  － </span> <span class=\"joblocation jobcity\" id=\"666809423SCIT1\"> City</span> <span> , </span> <span class=\"joblocation jobstate\" id=\"666809423SSTA1\"> State</span> <span class=\"joblocation jobstate\" id=\"666809423SCNT1\"> </span> </span> <span class=\"field\" id=\"666809423FRFM1\"> </span> </div> </div> </div> <div class=\"section\" id=\"SECTION_AFIL666809424\" style=\"padding-top:0px;\"> <div class=\"heading bottomborder\"> <div class=\"sectiontitle\" id=\"SECTNAME_AFIL666809424\"> Professional Affiliations</div> </div> <div class=\"paragraph firstparagraph\" id=\"PARAGRAPH_666809424_1_433655053\" style=\"padding-top:0px;\"> <div class=\"field singlecolumn\" id=\"666809424FRFM1\"> Society for Human Resource Management (SHRM)\n*Muskingum Valley Human Resource Management Association</div> </div> </div> <div class=\"section\" id=\"SECTION_SKLL666809426\" style=\"padding-top:0px;\"> <div class=\"heading bottomborder\"> <div class=\"sectiontitle\" id=\"SECTNAME_SKLL666809426\"> Skills</div> </div> <div class=\"paragraph firstparagraph\" id=\"PARAGRAPH_666809426_1_433655055\" style=\"padding-top:0px;\"> <div class=\"field singlecolumn\" id=\"666809426FRFM1\"> ADA, ADP, art, agency, benefits, Benefits Administration, Coach, coaching, conflict resolution, continuous improvement, contracts, decision making, delivery, direction, Employee Relations, special events, financial, functional, Hiring, HRIS, human resource management, Human Resource, Human Resources, HR, human relations, Kronos, Lawson, leadership, leadership development, Law, legal compliance, Director, managing, management reporting, Mediation, Access, Excel, MS Office, office, Outlook, PowerPoint, Publisher, win, Word, negotiating, Negotiations, Organizational Development, organizational, payroll, Peak, Performance Management, personnel, Policies, problem solving, processes, Profit, implement programs, Project Management, quality, quantitative analysis, Recruitment, recruiting, reporting, safety, sound, staff development, staffing, strategy, Strategic, Structured, surveys, team- work, teamwork, Visio, Vision, workshops</div> </div> </div> </div>",
         "HR"
        ]
       ],
       "shape": {
        "columns": 4,
        "rows": 5
       }
      },
      "text/html": [
       "<div>\n",
       "<style scoped>\n",
       "    .dataframe tbody tr th:only-of-type {\n",
       "        vertical-align: middle;\n",
       "    }\n",
       "\n",
       "    .dataframe tbody tr th {\n",
       "        vertical-align: top;\n",
       "    }\n",
       "\n",
       "    .dataframe thead th {\n",
       "        text-align: right;\n",
       "    }\n",
       "</style>\n",
       "<table border=\"1\" class=\"dataframe\">\n",
       "  <thead>\n",
       "    <tr style=\"text-align: right;\">\n",
       "      <th></th>\n",
       "      <th>ID</th>\n",
       "      <th>Resume_str</th>\n",
       "      <th>Resume_html</th>\n",
       "      <th>Category</th>\n",
       "    </tr>\n",
       "  </thead>\n",
       "  <tbody>\n",
       "    <tr>\n",
       "      <th>0</th>\n",
       "      <td>16852973</td>\n",
       "      <td>HR ADMINISTRATOR/MARKETING ASSOCIATE\\...</td>\n",
       "      <td>&lt;div class=\"fontsize fontface vmargins hmargin...</td>\n",
       "      <td>HR</td>\n",
       "    </tr>\n",
       "    <tr>\n",
       "      <th>1</th>\n",
       "      <td>22323967</td>\n",
       "      <td>HR SPECIALIST, US HR OPERATIONS      ...</td>\n",
       "      <td>&lt;div class=\"fontsize fontface vmargins hmargin...</td>\n",
       "      <td>HR</td>\n",
       "    </tr>\n",
       "    <tr>\n",
       "      <th>2</th>\n",
       "      <td>33176873</td>\n",
       "      <td>HR DIRECTOR       Summary      Over 2...</td>\n",
       "      <td>&lt;div class=\"fontsize fontface vmargins hmargin...</td>\n",
       "      <td>HR</td>\n",
       "    </tr>\n",
       "    <tr>\n",
       "      <th>3</th>\n",
       "      <td>27018550</td>\n",
       "      <td>HR SPECIALIST       Summary    Dedica...</td>\n",
       "      <td>&lt;div class=\"fontsize fontface vmargins hmargin...</td>\n",
       "      <td>HR</td>\n",
       "    </tr>\n",
       "    <tr>\n",
       "      <th>4</th>\n",
       "      <td>17812897</td>\n",
       "      <td>HR MANAGER         Skill Highlights  ...</td>\n",
       "      <td>&lt;div class=\"fontsize fontface vmargins hmargin...</td>\n",
       "      <td>HR</td>\n",
       "    </tr>\n",
       "  </tbody>\n",
       "</table>\n",
       "</div>"
      ],
      "text/plain": [
       "         ID                                         Resume_str  \\\n",
       "0  16852973           HR ADMINISTRATOR/MARKETING ASSOCIATE\\...   \n",
       "1  22323967           HR SPECIALIST, US HR OPERATIONS      ...   \n",
       "2  33176873           HR DIRECTOR       Summary      Over 2...   \n",
       "3  27018550           HR SPECIALIST       Summary    Dedica...   \n",
       "4  17812897           HR MANAGER         Skill Highlights  ...   \n",
       "\n",
       "                                         Resume_html Category  \n",
       "0  <div class=\"fontsize fontface vmargins hmargin...       HR  \n",
       "1  <div class=\"fontsize fontface vmargins hmargin...       HR  \n",
       "2  <div class=\"fontsize fontface vmargins hmargin...       HR  \n",
       "3  <div class=\"fontsize fontface vmargins hmargin...       HR  \n",
       "4  <div class=\"fontsize fontface vmargins hmargin...       HR  "
      ]
     },
     "execution_count": 45,
     "metadata": {},
     "output_type": "execute_result"
    }
   ],
   "source": [
    "# Load the resumes data\n",
    "resumes = pd.read_csv(\"Resume.csv\")\n",
    "resumes.head()"
   ]
  },
  {
   "cell_type": "markdown",
   "id": "bdcafde5",
   "metadata": {},
   "source": [
    "## 3. Data Preprocessing"
   ]
  },
  {
   "cell_type": "code",
   "execution_count": 58,
   "id": "c25b832f",
   "metadata": {},
   "outputs": [
    {
     "data": {
      "text/plain": [
       "category\n",
       "Teaching Jobs                       127\n",
       "Engineering Jobs                     50\n",
       "IT Jobs                              39\n",
       "Healthcare & Nursing Jobs            37\n",
       "Social work Jobs                     30\n",
       "Legal Jobs                           29\n",
       "Sales Jobs                           23\n",
       "Customer Services Jobs               23\n",
       "Hospitality & Catering Jobs          22\n",
       "Logistics & Warehouse Jobs           18\n",
       "Trade & Construction Jobs            15\n",
       "Accounting & Finance Jobs            13\n",
       "Graduate Jobs                        10\n",
       "Retail Jobs                          10\n",
       "Manufacturing Jobs                   10\n",
       "PR, Advertising & Marketing Jobs      9\n",
       "Domestic help & Cleaning Jobs         8\n",
       "Admin Jobs                            6\n",
       "HR & Recruitment Jobs                 6\n",
       "Part time Jobs                        4\n",
       "Consultancy Jobs                      3\n",
       "Maintenance Jobs                      3\n",
       "Other/General Jobs                    2\n",
       "Property Jobs                         2\n",
       "Creative & Design Jobs                1\n",
       "Name: count, dtype: int64"
      ]
     },
     "execution_count": 58,
     "metadata": {},
     "output_type": "execute_result"
    }
   ],
   "source": [
    "jobs_gb['category'].value_counts()"
   ]
  },
  {
   "cell_type": "code",
   "execution_count": 47,
   "id": "004c6f93",
   "metadata": {},
   "outputs": [
    {
     "data": {
      "text/plain": [
       "Category\n",
       "INFORMATION-TECHNOLOGY    120\n",
       "BUSINESS-DEVELOPMENT      120\n",
       "ADVOCATE                  118\n",
       "CHEF                      118\n",
       "ENGINEERING               118\n",
       "ACCOUNTANT                118\n",
       "FINANCE                   118\n",
       "FITNESS                   117\n",
       "AVIATION                  117\n",
       "SALES                     116\n",
       "BANKING                   115\n",
       "HEALTHCARE                115\n",
       "CONSULTANT                115\n",
       "CONSTRUCTION              112\n",
       "PUBLIC-RELATIONS          111\n",
       "HR                        110\n",
       "DESIGNER                  107\n",
       "ARTS                      103\n",
       "TEACHER                   102\n",
       "APPAREL                    97\n",
       "DIGITAL-MEDIA              96\n",
       "AGRICULTURE                63\n",
       "AUTOMOBILE                 36\n",
       "BPO                        22\n",
       "Name: count, dtype: int64"
      ]
     },
     "execution_count": 47,
     "metadata": {},
     "output_type": "execute_result"
    }
   ],
   "source": [
    "# Check the number of unique categories in the resumes dataset\n",
    "resumes['Category'].value_counts()"
   ]
  },
  {
   "cell_type": "code",
   "execution_count": 48,
   "id": "1f02a205",
   "metadata": {},
   "outputs": [
    {
     "data": {
      "image/png": "[encoded data removed]",
      "text/plain": [
       "<Figure size 1200x800 with 1 Axes>"
      ]
     },
     "metadata": {},
     "output_type": "display_data"
    }
   ],
   "source": [
    "# use heatmap to visualize the missing values in the jobs dataset\n",
    "plt.figure(figsize=(12, 8))\n",
    "sns.heatmap(jobs_gb.isnull(), cbar=False, cmap='viridis')\n",
    "plt.title(\"Missing Values in Jobs Dataset\")\n",
    "plt.show()"
   ]
  },
  {
   "cell_type": "code",
   "execution_count": 59,
   "id": "a52da5b9",
   "metadata": {},
   "outputs": [
    {
     "data": {
      "text/plain": [
       "id                 0\n",
       "title              0\n",
       "company            5\n",
       "location           0\n",
       "category           0\n",
       "created            0\n",
       "url                0\n",
       "description        0\n",
       "salary_min         0\n",
       "salary_max         1\n",
       "contract_type    183\n",
       "contract_time    169\n",
       "dtype: int64"
      ]
     },
     "execution_count": 59,
     "metadata": {},
     "output_type": "execute_result"
    }
   ],
   "source": [
    "#resumes.isnull().sum()  no missing values in the resumes dataset\n",
    "# check for missing values in the different columns\n",
    "jobs_gb.isnull().sum()"
   ]
  },
  {
   "cell_type": "code",
   "execution_count": 60,
   "id": "a49184af",
   "metadata": {},
   "outputs": [],
   "source": [
    "# Fill the missing values in contract type, contract time and company with 'unknown' and salary max with 0\n",
    "jobs_gb.fillna({'salary_max':0}, inplace=True)\n",
    "jobs_gb.fillna({'contract_type':'unknown'}, inplace=True)\n",
    "jobs_gb.fillna({'contract_time':'unknown'}, inplace=True)\n",
    "jobs_gb.fillna({'commpany':'unknown'}, inplace=True)"
   ]
  },
  {
   "cell_type": "code",
   "execution_count": 61,
   "id": "bf07daf0",
   "metadata": {},
   "outputs": [
    {
     "data": {
      "text/plain": [
       "id                 int64\n",
       "title             object\n",
       "company           object\n",
       "location          object\n",
       "category          object\n",
       "created           object\n",
       "url               object\n",
       "description       object\n",
       "salary_min       float64\n",
       "salary_max       float64\n",
       "contract_type     object\n",
       "contract_time     object\n",
       "dtype: object"
      ]
     },
     "execution_count": 61,
     "metadata": {},
     "output_type": "execute_result"
    }
   ],
   "source": [
    "# chcek the data types of the columns\n",
    "jobs_gb.dtypes"
   ]
  },
  {
   "cell_type": "code",
   "execution_count": 63,
   "id": "fd5b6b17",
   "metadata": {},
   "outputs": [
    {
     "data": {
      "application/vnd.microsoft.datawrangler.viewer.v0+json": {
       "columns": [
        {
         "name": "index",
         "rawType": "object",
         "type": "string"
        },
        {
         "name": "salary_min",
         "rawType": "float64",
         "type": "float"
        },
        {
         "name": "salary_max",
         "rawType": "float64",
         "type": "float"
        }
       ],
       "conversionMethod": "pd.DataFrame",
       "ref": "f6f4b223-19c4-4ae3-9884-4c9d584db421",
       "rows": [
        [
         "count",
         "500.0",
         "500.0"
        ],
        [
         "mean",
         "36133.84566",
         "44346.55166"
        ],
        [
         "std",
         "22708.096318599633",
         "26237.799317123223"
        ],
        [
         "min",
         "0.0",
         "0.0"
        ],
        [
         "25%",
         "26436.0",
         "29120.0"
        ],
        [
         "50%",
         "31650.0",
         "40000.0"
        ],
        [
         "75%",
         "42050.0",
         "51179.0"
        ],
        [
         "max",
         "336000.0",
         "378000.0"
        ]
       ],
       "shape": {
        "columns": 2,
        "rows": 8
       }
      },
      "text/html": [
       "<div>\n",
       "<style scoped>\n",
       "    .dataframe tbody tr th:only-of-type {\n",
       "        vertical-align: middle;\n",
       "    }\n",
       "\n",
       "    .dataframe tbody tr th {\n",
       "        vertical-align: top;\n",
       "    }\n",
       "\n",
       "    .dataframe thead th {\n",
       "        text-align: right;\n",
       "    }\n",
       "</style>\n",
       "<table border=\"1\" class=\"dataframe\">\n",
       "  <thead>\n",
       "    <tr style=\"text-align: right;\">\n",
       "      <th></th>\n",
       "      <th>salary_min</th>\n",
       "      <th>salary_max</th>\n",
       "    </tr>\n",
       "  </thead>\n",
       "  <tbody>\n",
       "    <tr>\n",
       "      <th>count</th>\n",
       "      <td>500.000000</td>\n",
       "      <td>500.000000</td>\n",
       "    </tr>\n",
       "    <tr>\n",
       "      <th>mean</th>\n",
       "      <td>36133.845660</td>\n",
       "      <td>44346.551660</td>\n",
       "    </tr>\n",
       "    <tr>\n",
       "      <th>std</th>\n",
       "      <td>22708.096319</td>\n",
       "      <td>26237.799317</td>\n",
       "    </tr>\n",
       "    <tr>\n",
       "      <th>min</th>\n",
       "      <td>0.000000</td>\n",
       "      <td>0.000000</td>\n",
       "    </tr>\n",
       "    <tr>\n",
       "      <th>25%</th>\n",
       "      <td>26436.000000</td>\n",
       "      <td>29120.000000</td>\n",
       "    </tr>\n",
       "    <tr>\n",
       "      <th>50%</th>\n",
       "      <td>31650.000000</td>\n",
       "      <td>40000.000000</td>\n",
       "    </tr>\n",
       "    <tr>\n",
       "      <th>75%</th>\n",
       "      <td>42050.000000</td>\n",
       "      <td>51179.000000</td>\n",
       "    </tr>\n",
       "    <tr>\n",
       "      <th>max</th>\n",
       "      <td>336000.000000</td>\n",
       "      <td>378000.000000</td>\n",
       "    </tr>\n",
       "  </tbody>\n",
       "</table>\n",
       "</div>"
      ],
      "text/plain": [
       "          salary_min     salary_max\n",
       "count     500.000000     500.000000\n",
       "mean    36133.845660   44346.551660\n",
       "std     22708.096319   26237.799317\n",
       "min         0.000000       0.000000\n",
       "25%     26436.000000   29120.000000\n",
       "50%     31650.000000   40000.000000\n",
       "75%     42050.000000   51179.000000\n",
       "max    336000.000000  378000.000000"
      ]
     },
     "execution_count": 63,
     "metadata": {},
     "output_type": "execute_result"
    }
   ],
   "source": [
    "jobs_gb[['salary_min', 'salary_max']].describe()"
   ]
  },
  {
   "cell_type": "code",
   "execution_count": 64,
   "id": "462d5a77",
   "metadata": {},
   "outputs": [],
   "source": [
    "# Create a new column on the average salary\n",
    "jobs_gb['salary_avg'] = (jobs_gb['salary_min'] + jobs_gb['salary_max']) / 2"
   ]
  },
  {
   "cell_type": "code",
   "execution_count": 66,
   "id": "8f55d968",
   "metadata": {},
   "outputs": [],
   "source": [
    "# convert to csv\n",
    "jobs_gb.to_csv('jobs_gb_cleaned.csv', index=False)"
   ]
  }
 ],
 "metadata": {
  "kernelspec": {
   "display_name": "tf_env",
   "language": "python",
   "name": "python3"
  },
  "language_info": {
   "codemirror_mode": {
    "name": "ipython",
    "version": 3
   },
   "file_extension": ".py",
   "mimetype": "text/x-python",
   "name": "python",
   "nbconvert_exporter": "python",
   "pygments_lexer": "ipython3",
   "version": "3.10.16"
  }
 },
 "nbformat": 4,
 "nbformat_minor": 5
}
