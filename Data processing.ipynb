{
 "cells": [
  {
   "cell_type": "code",
   "execution_count": 1,
   "id": "54ed8953",
   "metadata": {},
   "outputs": [
    {
     "name": "stderr",
     "output_type": "stream",
     "text": [
      "c:\\Users\\Esther\\anaconda3\\envs\\myenv\\Lib\\site-packages\\tqdm\\auto.py:21: TqdmWarning: IProgress not found. Please update jupyter and ipywidgets. See https://ipywidgets.readthedocs.io/en/stable/user_install.html\n",
      "  from .autonotebook import tqdm as notebook_tqdm\n"
     ]
    },
    {
     "name": "stdout",
     "output_type": "stream",
     "text": [
      "WARNING:tensorflow:From c:\\Users\\Esther\\anaconda3\\envs\\myenv\\Lib\\site-packages\\tf_keras\\src\\losses.py:2976: The name tf.losses.sparse_softmax_cross_entropy is deprecated. Please use tf.compat.v1.losses.sparse_softmax_cross_entropy instead.\n",
      "\n"
     ]
    }
   ],
   "source": [
    "# Import libraries\n",
    "import numpy as np\n",
    "import pandas as pd\n",
    "from bs4 import BeautifulSoup\n",
    "import requests\n",
    "import json\n",
    "import http.client\n",
    "\n",
    "# Data exploration and preprocessing\n",
    "import spacy\n",
    "import re\n",
    "import nltk\n",
    "import seaborn as sns\n",
    "import matplotlib.pyplot as plt\n",
    "\n",
    "# Build and train models\n",
    "import keras_tuner as kt\n",
    "from collections import Counter\n",
    "from transformers import BertTokenizer, TFBertForSequenceClassification\n",
    "import warnings"
   ]
  },
  {
   "cell_type": "markdown",
   "id": "1b8a55a3",
   "metadata": {},
   "source": [
    "## 1. Scraping of job listings from Adzuna API"
   ]
  },
  {
   "cell_type": "code",
   "execution_count": null,
   "id": "f9107472",
   "metadata": {},
   "outputs": [
    {
     "name": "stdout",
     "output_type": "stream",
     "text": [
      "Saved jobs to adzuna_jobs_gb.csv\n"
     ]
    }
   ],
   "source": [
    "# Adzuna API credentials and base URL for UK jobs\n",
    "APP_ID = \"ee5e2937\"\n",
    "APP_KEY = \"b85d8687343a341fcf5bf76131a48ad2\"\n",
    "BASE_URL = \"https://api.adzuna.com/v1/api/jobs/gb/search/{}\"\n",
    "\n",
    "all_jobs = []\n",
    "\n",
    "# Loop through first 10 pages\n",
    "for page in range(1, 11):  # pages 1 to 11\n",
    "    url = BASE_URL.format(page)\n",
    "    params = {\n",
    "        \"app_id\": APP_ID,\n",
    "        \"app_key\": APP_KEY,\n",
    "        \"results_per_page\": 50,\n",
    "    }\n",
    "\n",
    "    response = requests.get(url, params=params)\n",
    "\n",
    "    if response.status_code == 200:\n",
    "        data = response.json()\n",
    "        for job in data.get(\"results\", []):\n",
    "            all_jobs.append({\n",
    "            \"id\": job.get(\"id\"),\n",
    "            \"title\": job.get(\"title\"),\n",
    "            \"company\": job.get(\"company\", {}).get(\"display_name\"),\n",
    "            \"location\": job.get(\"location\", {}).get(\"display_name\"),\n",
    "            \"category\": job.get(\"category\", {}).get(\"label\"),\n",
    "            \"created\": job.get(\"created\"),\n",
    "            \"url\": job.get(\"redirect_url\"),\n",
    "            \"description\": job.get(\"description\"),\n",
    "            \"salary_min\": job.get(\"salary_min\"),\n",
    "            \"salary_max\": job.get(\"salary_max\"),\n",
    "            \"contract_type\": job.get(\"contract_type\"),\n",
    "            \"contract_time\": job.get(\"contract_time\"),\n",
    "            })\n",
    "    else:\n",
    "        print(f\"Failed on page {page}: {response.status_code}\")\n",
    "        print(response.text)\n",
    "\n",
    "# Save all jobs to CSV\n",
    "df = pd.DataFrame(all_jobs)\n",
    "df.to_csv(\"adzuna_jobs_gb.csv\", index=False)\n",
    "print(\"Saved jobs to adzuna_jobs_gb.csv\")"
   ]
  },
  {
   "cell_type": "markdown",
   "id": "0dd7dafb",
   "metadata": {},
   "source": [
    "## 2. Loading of the jobs and resume dataset"
   ]
  },
  {
   "cell_type": "code",
   "execution_count": 2,
   "id": "a0f6d156",
   "metadata": {},
   "outputs": [
    {
     "data": {
      "application/vnd.microsoft.datawrangler.viewer.v0+json": {
       "columns": [
        {
         "name": "index",
         "rawType": "int64",
         "type": "integer"
        },
        {
         "name": "id",
         "rawType": "int64",
         "type": "integer"
        },
        {
         "name": "title",
         "rawType": "object",
         "type": "string"
        },
        {
         "name": "company",
         "rawType": "object",
         "type": "string"
        },
        {
         "name": "location",
         "rawType": "object",
         "type": "string"
        },
        {
         "name": "category",
         "rawType": "object",
         "type": "string"
        },
        {
         "name": "created",
         "rawType": "object",
         "type": "string"
        },
        {
         "name": "url",
         "rawType": "object",
         "type": "string"
        },
        {
         "name": "description",
         "rawType": "object",
         "type": "string"
        },
        {
         "name": "salary_min",
         "rawType": "float64",
         "type": "float"
        },
        {
         "name": "salary_max",
         "rawType": "float64",
         "type": "float"
        },
        {
         "name": "contract_type",
         "rawType": "object",
         "type": "unknown"
        },
        {
         "name": "contract_time",
         "rawType": "object",
         "type": "unknown"
        }
       ],
       "ref": "929eb807-fbec-4b50-8a5c-ad6dcd15b499",
       "rows": [
        [
         "495",
         "5168803027",
         "Commercial Property Associate - Leicester / Nottingham",
         "Chadwick Nott - East and West Midlands, NHC & East Anglia",
         "Leicester, Leicestershire",
         "Legal Jobs",
         "2025-04-29T16:23:11Z",
         "https://www.adzuna.co.uk/jobs/details/5168803027?utm_medium=api&utm_source=ee5e2937",
         "Commercial Property Associate - Leicester / Nottingham Our client is a top 25 law firm who are recognised in L500, Chambers and are ranked in The Times Best Law Firms 2024. They are seeking an additional associate with 1-5 years' PQE to join their rapidly growing Commercial Property team in either Leicester or Nottingham. Day to day responsibilities will include: Working on commercial property matters including sales and acquisitions, secured lending work, development, investment and landlord a…",
         "55000.0",
         "70000.0",
         null,
         null
        ],
        [
         "496",
         "5191868195",
         "Social Worker",
         "Charles Hunter Associates",
         "Bath, Bath & N E Somerset",
         "Social work Jobs",
         "2025-05-10T08:46:42Z",
         "https://www.adzuna.co.uk/jobs/details/5191868195?utm_medium=api&utm_source=ee5e2937",
         "We are looking for a Social Worker to join our Adult Assessment and Safeguarding Team. This role requires a Social Work Qualification with a minimum of 3 years post qualified experience. About the team The team are responsible for the first point of intervention for service users and their respective carers following a referral. Completing short-term assessments managing cases under CPA, developing co-produced care plans with service users are some of the key responsibilities in this team. The …",
         "0.0",
         "79040.0",
         null,
         "full_time"
        ],
        [
         "497",
         "5048185212",
         "Senior Design Manager (Water/Wastewater Engineering) | Expression of Interest",
         "Stantec",
         "Cardiff, Cardiff County",
         "Engineering Jobs",
         "2025-02-13T11:07:22Z",
         "https://www.adzuna.co.uk/jobs/details/5048185212?utm_medium=api&utm_source=ee5e2937",
         "Shape the future of Water Infrastructure with Stantec! Are you an ambitious engineering leader with a proven track record of delivering complex projects? We're seeking expressions of interest from experienced Senior Design Managers to join our expanding teams across the UK & Ireland in the coming months to play a pivotal role in shaping the future of water infrastructure. This is your chance to: - Lead and develop project teams, fostering a collaborative and innovative environment. - Work on ex…",
         "50036.26",
         "50036.26",
         null,
         null
        ],
        [
         "498",
         "4986013035",
         "Trainee Data Analyst (Career Accelerator with Employment Guarantee)",
         "Nuyew Tech Academy",
         "Hyde Park, Leeds",
         "IT Jobs",
         "2024-12-22T02:50:22Z",
         "https://www.adzuna.co.uk/jobs/details/4986013035?utm_medium=api&utm_source=ee5e2937",
         "Are you passionate about uncovering insights from data and driving informed decision-making? Are you looking for a structured training program that can kickstart your career in data analysis? At Nuyew Tech Academy, we specialise in providing aspiring tech professionals like you with the tools, training, and support needed to launch successful careers in this vital industry. Whether you're starting from scratch or looking to advance your existing skills, our academy offers a comprehensive progra…",
         "35000.0",
         "35000.0",
         "permanent",
         null
        ],
        [
         "499",
         "5185140382",
         "Personal Advisor – Leaving Care Team – Birmingham",
         "Pertemps Professional Recruitment",
         "Birmingham, West Midlands",
         "Social work Jobs",
         "2025-05-07T13:27:29Z",
         "https://www.adzuna.co.uk/jobs/details/5185140382?utm_medium=api&utm_source=ee5e2937",
         "Personal Advisor – Leaving Care Team – Birmingham Pay Rate - £20.01 per hour Please get in touch for more information. This is an agency post and Pertemps can offer you: A Dedicated consultant who has access to all roles across the UK and is available for you to speak to An easy registration process (all done online) Referral schemes and incentives Ongoing compliance managed for you Prompt and reliable payroll and lots more. Please contact Elle McKenna on 07823 789233 or email elle.mckenna@pprs…",
         "41620.0",
         "41620.0",
         "contract",
         "full_time"
        ]
       ],
       "shape": {
        "columns": 12,
        "rows": 5
       }
      },
      "text/html": [
       "<div>\n",
       "<style scoped>\n",
       "    .dataframe tbody tr th:only-of-type {\n",
       "        vertical-align: middle;\n",
       "    }\n",
       "\n",
       "    .dataframe tbody tr th {\n",
       "        vertical-align: top;\n",
       "    }\n",
       "\n",
       "    .dataframe thead th {\n",
       "        text-align: right;\n",
       "    }\n",
       "</style>\n",
       "<table border=\"1\" class=\"dataframe\">\n",
       "  <thead>\n",
       "    <tr style=\"text-align: right;\">\n",
       "      <th></th>\n",
       "      <th>id</th>\n",
       "      <th>title</th>\n",
       "      <th>company</th>\n",
       "      <th>location</th>\n",
       "      <th>category</th>\n",
       "      <th>created</th>\n",
       "      <th>url</th>\n",
       "      <th>description</th>\n",
       "      <th>salary_min</th>\n",
       "      <th>salary_max</th>\n",
       "      <th>contract_type</th>\n",
       "      <th>contract_time</th>\n",
       "    </tr>\n",
       "  </thead>\n",
       "  <tbody>\n",
       "    <tr>\n",
       "      <th>495</th>\n",
       "      <td>5168803027</td>\n",
       "      <td>Commercial Property Associate - Leicester / No...</td>\n",
       "      <td>Chadwick Nott - East and West Midlands, NHC &amp; ...</td>\n",
       "      <td>Leicester, Leicestershire</td>\n",
       "      <td>Legal Jobs</td>\n",
       "      <td>2025-04-29T16:23:11Z</td>\n",
       "      <td>https://www.adzuna.co.uk/jobs/details/51688030...</td>\n",
       "      <td>Commercial Property Associate - Leicester / No...</td>\n",
       "      <td>55000.00</td>\n",
       "      <td>70000.00</td>\n",
       "      <td>NaN</td>\n",
       "      <td>NaN</td>\n",
       "    </tr>\n",
       "    <tr>\n",
       "      <th>496</th>\n",
       "      <td>5191868195</td>\n",
       "      <td>Social Worker</td>\n",
       "      <td>Charles Hunter Associates</td>\n",
       "      <td>Bath, Bath &amp; N E Somerset</td>\n",
       "      <td>Social work Jobs</td>\n",
       "      <td>2025-05-10T08:46:42Z</td>\n",
       "      <td>https://www.adzuna.co.uk/jobs/details/51918681...</td>\n",
       "      <td>We are looking for a Social Worker to join our...</td>\n",
       "      <td>0.00</td>\n",
       "      <td>79040.00</td>\n",
       "      <td>NaN</td>\n",
       "      <td>full_time</td>\n",
       "    </tr>\n",
       "    <tr>\n",
       "      <th>497</th>\n",
       "      <td>5048185212</td>\n",
       "      <td>Senior Design Manager (Water/Wastewater Engine...</td>\n",
       "      <td>Stantec</td>\n",
       "      <td>Cardiff, Cardiff County</td>\n",
       "      <td>Engineering Jobs</td>\n",
       "      <td>2025-02-13T11:07:22Z</td>\n",
       "      <td>https://www.adzuna.co.uk/jobs/details/50481852...</td>\n",
       "      <td>Shape the future of Water Infrastructure with ...</td>\n",
       "      <td>50036.26</td>\n",
       "      <td>50036.26</td>\n",
       "      <td>NaN</td>\n",
       "      <td>NaN</td>\n",
       "    </tr>\n",
       "    <tr>\n",
       "      <th>498</th>\n",
       "      <td>4986013035</td>\n",
       "      <td>Trainee Data Analyst (Career Accelerator with ...</td>\n",
       "      <td>Nuyew Tech Academy</td>\n",
       "      <td>Hyde Park, Leeds</td>\n",
       "      <td>IT Jobs</td>\n",
       "      <td>2024-12-22T02:50:22Z</td>\n",
       "      <td>https://www.adzuna.co.uk/jobs/details/49860130...</td>\n",
       "      <td>Are you passionate about uncovering insights f...</td>\n",
       "      <td>35000.00</td>\n",
       "      <td>35000.00</td>\n",
       "      <td>permanent</td>\n",
       "      <td>NaN</td>\n",
       "    </tr>\n",
       "    <tr>\n",
       "      <th>499</th>\n",
       "      <td>5185140382</td>\n",
       "      <td>Personal Advisor – Leaving Care Team – Birmingham</td>\n",
       "      <td>Pertemps Professional Recruitment</td>\n",
       "      <td>Birmingham, West Midlands</td>\n",
       "      <td>Social work Jobs</td>\n",
       "      <td>2025-05-07T13:27:29Z</td>\n",
       "      <td>https://www.adzuna.co.uk/jobs/details/51851403...</td>\n",
       "      <td>Personal Advisor – Leaving Care Team – Birming...</td>\n",
       "      <td>41620.00</td>\n",
       "      <td>41620.00</td>\n",
       "      <td>contract</td>\n",
       "      <td>full_time</td>\n",
       "    </tr>\n",
       "  </tbody>\n",
       "</table>\n",
       "</div>"
      ],
      "text/plain": [
       "             id                                              title  \\\n",
       "495  5168803027  Commercial Property Associate - Leicester / No...   \n",
       "496  5191868195                                      Social Worker   \n",
       "497  5048185212  Senior Design Manager (Water/Wastewater Engine...   \n",
       "498  4986013035  Trainee Data Analyst (Career Accelerator with ...   \n",
       "499  5185140382  Personal Advisor – Leaving Care Team – Birmingham   \n",
       "\n",
       "                                               company  \\\n",
       "495  Chadwick Nott - East and West Midlands, NHC & ...   \n",
       "496                          Charles Hunter Associates   \n",
       "497                                            Stantec   \n",
       "498                                 Nuyew Tech Academy   \n",
       "499                  Pertemps Professional Recruitment   \n",
       "\n",
       "                      location          category               created  \\\n",
       "495  Leicester, Leicestershire        Legal Jobs  2025-04-29T16:23:11Z   \n",
       "496  Bath, Bath & N E Somerset  Social work Jobs  2025-05-10T08:46:42Z   \n",
       "497    Cardiff, Cardiff County  Engineering Jobs  2025-02-13T11:07:22Z   \n",
       "498           Hyde Park, Leeds           IT Jobs  2024-12-22T02:50:22Z   \n",
       "499  Birmingham, West Midlands  Social work Jobs  2025-05-07T13:27:29Z   \n",
       "\n",
       "                                                   url  \\\n",
       "495  https://www.adzuna.co.uk/jobs/details/51688030...   \n",
       "496  https://www.adzuna.co.uk/jobs/details/51918681...   \n",
       "497  https://www.adzuna.co.uk/jobs/details/50481852...   \n",
       "498  https://www.adzuna.co.uk/jobs/details/49860130...   \n",
       "499  https://www.adzuna.co.uk/jobs/details/51851403...   \n",
       "\n",
       "                                           description  salary_min  \\\n",
       "495  Commercial Property Associate - Leicester / No...    55000.00   \n",
       "496  We are looking for a Social Worker to join our...        0.00   \n",
       "497  Shape the future of Water Infrastructure with ...    50036.26   \n",
       "498  Are you passionate about uncovering insights f...    35000.00   \n",
       "499  Personal Advisor – Leaving Care Team – Birming...    41620.00   \n",
       "\n",
       "     salary_max contract_type contract_time  \n",
       "495    70000.00           NaN           NaN  \n",
       "496    79040.00           NaN     full_time  \n",
       "497    50036.26           NaN           NaN  \n",
       "498    35000.00     permanent           NaN  \n",
       "499    41620.00      contract     full_time  "
      ]
     },
     "execution_count": 2,
     "metadata": {},
     "output_type": "execute_result"
    }
   ],
   "source": [
    "jobs_gb = pd.read_csv('adzuna_jobs_gb.csv')\n",
    "jobs_gb.tail()"
   ]
  },
  {
   "cell_type": "code",
   "execution_count": 3,
   "id": "1f19011c",
   "metadata": {},
   "outputs": [
    {
     "data": {
      "application/vnd.microsoft.datawrangler.viewer.v0+json": {
       "columns": [
        {
         "name": "index",
         "rawType": "int64",
         "type": "integer"
        },
        {
         "name": "ID",
         "rawType": "int64",
         "type": "integer"
        },
        {
         "name": "Resume_str",
         "rawType": "object",
         "type": "string"
        },
        {
         "name": "Resume_html",
         "rawType": "object",
         "type": "string"
        },
        {
         "name": "Category",
         "rawType": "object",
         "type": "string"
        }
       ],
       "ref": "1d24e69d-f254-4446-b815-ae95859e2b0f",
       "rows": [
        [
         "2479",
         "99416532",
         "         RANK: SGT/E-5 NON- COMMISSIONED OFFICER IN CHARGE BRIGADE MAIL ROOM           Summary      Motivated logistics specialist, successful at managing inventory control, customer service and transportation logistics.    Excellent problem solving and interpersonal skills.    Managed  and  accounted  for  over  $100  million  of  military  munitions  with  zero  errors.  Monthly inventories of multiple warehouses. Reconciled daily issue and turn-in paperwork of customer units.   Consistently  recognized  for  excellence  in  that  field.   Successfully opened, developed and maintained a consolidated mail facility, servicing more than 5,000 soldiers.    With no prior experience was able to quickly learn and comply with all military, and federal regulations and handled certified, registered and insured mail with 100% accuracy.     KEY  QUALIFICATIONS:       · Current Secret  Clearance          · Stock  Control        · Management          · Conflict  Resolution         · Logistics          · Leadership         Highlights          Inventory tracking  Clear and concise communication  Flexible with availability  Highly adaptable to a variety of situations and personalities      Constant desire to learn.  Strive to be the subject matter expert  Gaining Customer trust  Positive, upbeat attitude            Accomplishments      As the Non-Commissioned Officer in Charge of day to day operations for the 4th Combat Aviation Brigade Mail Room, was directly responsible for ensuring it's perfect 100% pick up record  from September, 5 2012 - April, 17 2015. Tracked and verified by the Official Mail and Distribution Center, for the Fort Carson Post Office   Received 4 consecutive commendable ratings for attention to detail, and outstanding performance, during the Army 4th Division Postal Inspections   Selected by the 4th Infantry Division G1 for  Best  Mail Room  on the Installation,  Fort  Carson,  for  the  first  quarter  of  FY  13   Chosen by leadership, to compete at the promotion board, was awarded promotable status and sent to the Basic Leaders Course.  Earned the trust and confidence of senior leadership and, put in charge of a team of my peers, in their absence, on several occasions,  to turn in live and expended rounds        Work Experience      Rank: SGT/E-5 Non- Commissioned Officer in Charge Brigade Mail Room    June 2012   to   May 2015     Company Name   -   City  ,   State      Management:   · Opened,  developed,  and  managed  a  consolidated  mail  room  for  5,000   soldiers.  Certified  by  the  USPS  and  handled  over  300,000  pieces  of  mail,  as  well  as,   10,000  pieces  of  Certified  and  Registered  mail  with  zero  loss.  Trained 6 soldiers to perform as a cohesive team while accomplishing daily activities of the brigade mail room.          Rank: SPC/E-4 (P) - Ammunition Specialist    June 2011   to   June 2012     Company Name   -   City  ,   State      Developed load plans based on training requirements and federal regulations regarding the transport of hazardous materials  Trained and guided several junior soldiers in the operation of material handling equipment and it's use in safe handling and transportation of aviation ammunition          Rank: SPC/E-4(P) Promotable  -  Ammunition Specialist    November 2009   to   June 2011     Company Name   -   City  ,   State      Supported all basic training and advanced individual training, weapons ranges  Ensured all training was able to be conducted as scheduled by consistently making all deliveries on time with 100% accuracy  Assisted in the drawing, delivery, and turn-in of over 14 million rounds of ammunition, valued at over 30 million dollars.          Rank: SPC/E-4  -  Ammunition Stock Control and Accounting Specialist    May 2007   to   November 2009     Company Name   -   City  ,   State      Stock  Control:   · Inventoried,  issued,  transported,  and  managed  over  $100  million  of  military   munitions  with  zero  loss.  Instructed  and  trained  5  personnel  on  the  Standard  Army  Ammunition   System-Modular  (SAAS-MOD).  Communication:   · Communicated  effectively  with  civilian  contractors,  and  Republic  of  Korea   officers  and  soldiers  in  a  successful  effort  to  ship  100  containers  of   ammunition  back  to  the  United  States.          Residential/ Commercial Painter    June 2000   to   May 2007     Company Name   -   City  ,   State      Maintained professional, appearance and attitude, to develop client confidence.  Consistently developed ideas to maximize output and accuracy.    Accomplished tasks to standard, often ahead of time on both; jobs working alone and jobs working as a team member.          Education      Associate of Science   :   Pre-Engineering      Pikes Peak Community College 2016-2018   -   City  ,   State        - Enrolled in Fall 2016 Semester to begin work on an Pre-Engineering A.S Degree.   - I then hope to transfer to Colorado School of Mines to obtain a B.S Degree in Engineering.         Skills      Dedication to customer service, often remaining flexible with availability to accommodate as many customers as possible   Proven competency in learning all aspects of state and federal regulations, and ensuring 100% compliance from those I work with    Accepts challenges with no hesitation; never retreated from opportunities of greater responsibility   Exceptional ability to recognize potential problems and work to resolve them quickly and discreetly.  Affirming the customers confidence.                  ",
         "<div class=\"fontsize fontface vmargins hmargins linespacing pagesize\" id=\"document\"> <div class=\"section firstsection\" id=\"SECTION_NAME738316709\" style=\"padding-top:0px;\"> <div class=\"paragraph PARAGRAPH_NAME firstparagraph\" id=\"PARAGRAPH_738316709_1_478330295\" style=\"padding-top:0px;\"> <div class=\"name thinbottomborder\" itemprop=\"name\"> <span class=\"field\" id=\"738316709FNAM1\"> </span> <span> </span> <span class=\"field\" id=\"738316709LNAM1\"> RANK: SGT/E-5 NON- COMMISSIONED OFFICER IN CHARGE BRIGADE MAIL ROOM</span> </div> <div class=\"myGap\"> </div> <div class=\"lowerborder thinbottomborder\"> </div> </div> </div> <div class=\"section\" id=\"SECTION_SUMM738316711\" style=\"padding-top:0px;\"> <div class=\"heading\"> <div class=\"sectiontitle thinbottomborder\" id=\"SECTNAME_SUMM738316711\"> Summary</div> </div> <div class=\"paragraph firstparagraph\" id=\"PARAGRAPH_738316711_1_478330300\" style=\"padding-top:0px;\"> <div class=\"field singlecolumn\" id=\"738316711FRFM1\"> <ul> <li> Motivated logistics specialist, successful at managing inventory control, customer service and transportation logistics.</li> <br/> <li>  Excellent problem solving and interpersonal skills.</li> <br/> <li>  Managed  and  accounted  for  over  $100  million  of  military  munitions  with  zero  errors.  Monthly inventories of multiple warehouses. Reconciled daily issue and turn-in paperwork of customer units.</li> <br/> <li> Consistently  recognized  for  excellence  in  that  field.</li> <br/> <li> Successfully opened, developed and maintained a consolidated mail facility, servicing more than 5,000 soldiers. </li> <br/> <li> With no prior experience was able to quickly learn and comply with all military, and federal regulations and handled certified, registered and insured mail with 100% accuracy. </li> <br/> <li> <b> KEY  QUALIFICATIONS:       · Current Secret  Clearance          · Stock  Control        · Management          · Conflict  Resolution         · Logistics          · Leadership</b> </li> </ul> </div> </div> </div> <div class=\"section\" id=\"SECTION_HILT738316712\" style=\"padding-top:0px;\"> <div class=\"heading\"> <div class=\"sectiontitle thinbottomborder\" id=\"SECTNAME_HILT738316712\"> Highlights</div> </div> <div class=\"paragraph firstparagraph\" id=\"PARAGRAPH_738316712_1_483816817\" style=\"padding-top:0px;\"> <div class=\"singlecolumn maincolumn\"> <table class=\"twocol\"> <tbody> <tr> <td class=\"field twocol_1 charspace\" id=\"738316712SKC11\"> <ul> <li> Inventory tracking</li> <li> Clear and concise communication</li> <li> Flexible with availability</li> <li> Highly adaptable to a variety of situations and personalities</li> </ul> </td> <td class=\"field twocol_2 charspace\" id=\"738316712SKC21\"> <ul> <li> Constant desire to learn.</li> <li> Strive to be the subject matter expert</li> <li> Gaining Customer trust</li> <li> Positive, upbeat attitude</li> </ul> </td> </tr> </tbody> </table> </div> </div> </div> <div class=\"section\" id=\"SECTION_ACCM738320731\" style=\"padding-top:0px;\"> <div class=\"heading\"> <div class=\"sectiontitle thinbottomborder\" id=\"SECTNAME_ACCM738320731\"> Accomplishments</div> </div> <div class=\"paragraph firstparagraph\" id=\"PARAGRAPH_738320731_1_483816974\" style=\"padding-top:0px;\"> <div class=\"field singlecolumn\" id=\"738320731FRFM1\"> <ul> <li> As the Non-Commissioned Officer in Charge of day to day operations for the 4th Combat Aviation Brigade Mail Room, was directly responsible for ensuring it's perfect 100% pick up record  from September, 5 2012 - April, 17 2015. Tracked and verified by the Official Mail and Distribution Center, for the Fort Carson Post Office</li> <br/> <li> Received 4 consecutive commendable ratings for attention to detail, and outstanding performance, during the Army 4th Division Postal Inspections</li> <br/> <li> Selected by the 4th Infantry Division G1 for  Best  Mail Room  on the Installation,  Fort  Carson,  for  the  first  quarter  of  FY  13</li> <br/> <li> Chosen by leadership, to compete at the promotion board, was awarded promotable status and sent to the Basic Leaders Course.  Earned the trust and confidence of senior leadership and, put in charge of a team of my peers, in their absence, on several occasions,  to turn in live and expended rounds</li> </ul> </div> </div> </div> <div class=\"section\" id=\"SECTION_EXPR738316713\" style=\"padding-top:0px;\"> <div class=\"heading\"> <div class=\"sectiontitle thinbottomborder\" id=\"SECTNAME_EXPR738316713\"> Work Experience</div> </div> <div class=\"paragraph firstparagraph\" id=\"PARAGRAPH_738316713_1_483823622\" itemscope=\"\" itemtype=\"https://schema.org/Organization\" style=\"padding-top:0px;\"> <div class=\"singlecolumn\"> <span class=\"paddedline\"> <span class=\"jobtitle\" id=\"738316713JTIT1\"> Rank: SGT/E-5 Non- Commissioned Officer in Charge Brigade Mail Room</span> <br/> <span> <span class=\"jobdates\" format=\"%B %Y\" id=\"738316713JSTD1\"> June 2012</span> <span>  to </span> <span class=\"jobdates\" format=\"%B %Y\" id=\"738316713EDDT1\"> May 2015</span> </span> </span> <span class=\"paddedline\" itemscope=\"\" itemtype=\"https://schema.org/postalAddress\"> <span class=\"companyname\" id=\"738316713COMP1\" itemprop=\"name\"> Company Name</span> <span>  - </span> <span class=\"joblocation jobcity\" id=\"738316713JCIT1\" itemprop=\"addressLocality\"> City</span> <span> , </span> <span class=\"joblocation jobstate\" id=\"738316713JSTA1\" itemprop=\"addressRegion\"> State</span> </span> <span class=\"paddedline\"> <span class=\"jobline\" id=\"738316713JDES1\" itemprop=\"description\"> <ul> <li> Management:   · Opened,  developed,  and  managed  a  consolidated  mail  room  for  5,000   soldiers.</li> <li> Certified  by  the  USPS  and  handled  over  300,000  pieces  of  mail,  as  well  as,   10,000  pieces  of  Certified  and  Registered  mail  with  zero  loss.</li> <li> Trained 6 soldiers to perform as a cohesive team while accomplishing daily activities of the brigade mail room.</li> </ul> </span> </span> </div> </div> <div class=\"paragraph\" id=\"PARAGRAPH_738316713_2_483823326\" itemscope=\"\" itemtype=\"https://schema.org/Organization\" style=\"padding-top:0px;\"> <div class=\"singlecolumn\"> <span class=\"paddedline\"> <span class=\"jobtitle\" id=\"738316713JTIT2\"> Rank: SPC/E-4 (P) - Ammunition Specialist</span> <br/> <span> <span class=\"jobdates\" format=\"%B %Y\" id=\"738316713JSTD2\"> June 2011</span> <span>  to </span> <span class=\"jobdates\" format=\"%B %Y\" id=\"738316713EDDT2\"> June 2012</span> </span> </span> <span class=\"paddedline\" itemscope=\"\" itemtype=\"https://schema.org/postalAddress\"> <span class=\"companyname\" id=\"738316713COMP2\" itemprop=\"name\"> Company Name</span> <span>  - </span> <span class=\"joblocation jobcity\" id=\"738316713JCIT2\" itemprop=\"addressLocality\"> City</span> <span> , </span> <span class=\"joblocation jobstate\" id=\"738316713JSTA2\" itemprop=\"addressRegion\"> State</span> </span> <span class=\"paddedline\"> <span class=\"jobline\" id=\"738316713JDES2\" itemprop=\"description\"> <ul> <li> Developed load plans based on training requirements and federal regulations regarding the transport of hazardous materials</li> <li> Trained and guided several junior soldiers in the operation of material handling equipment and it's use in safe handling and transportation of aviation ammunition</li> </ul> </span> </span> </div> </div> <div class=\"paragraph\" id=\"PARAGRAPH_738316713_3_483819785\" itemscope=\"\" itemtype=\"https://schema.org/Organization\" style=\"padding-top:20px;\"> <div class=\"singlecolumn\"> <span class=\"paddedline\"> <span class=\"jobtitle\" id=\"738316713JTIT3\"> Rank: SPC/E-4(P) Promotable  -  Ammunition Specialist</span> <br/> <span> <span class=\"jobdates\" format=\"%B %Y\" id=\"738316713JSTD3\"> November 2009</span> <span>  to </span> <span class=\"jobdates\" format=\"%B %Y\" id=\"738316713EDDT3\"> June 2011</span> </span> </span> <span class=\"paddedline\" itemscope=\"\" itemtype=\"https://schema.org/postalAddress\"> <span class=\"companyname\" id=\"738316713COMP3\" itemprop=\"name\"> Company Name</span> <span>  - </span> <span class=\"joblocation jobcity\" id=\"738316713JCIT3\" itemprop=\"addressLocality\"> City</span> <span> , </span> <span class=\"joblocation jobstate\" id=\"738316713JSTA3\" itemprop=\"addressRegion\"> State</span> </span> <span class=\"paddedline\"> <span class=\"jobline\" id=\"738316713JDES3\" itemprop=\"description\"> <ul> <li> Supported all basic training and advanced individual training, weapons ranges</li> <li> Ensured all training was able to be conducted as scheduled by consistently making all deliveries on time with 100% accuracy</li> <li> Assisted in the drawing, delivery, and turn-in of over 14 million rounds of ammunition, valued at over 30 million dollars.</li> </ul> </span> </span> </div> </div> <div class=\"paragraph\" id=\"PARAGRAPH_738316713_4_478330298\" itemscope=\"\" itemtype=\"https://schema.org/Organization\" style=\"padding-top:0px;\"> <div class=\"singlecolumn\"> <span class=\"paddedline\"> <span class=\"jobtitle\" id=\"738316713JTIT4\"> Rank: SPC/E-4  -  Ammunition Stock Control and Accounting Specialist</span> <br/> <span> <span class=\"jobdates\" format=\"%B %Y\" id=\"738316713JSTD4\"> May 2007</span> <span>  to </span> <span class=\"jobdates\" format=\"%B %Y\" id=\"738316713EDDT4\"> November 2009</span> </span> </span> <span class=\"paddedline\" itemscope=\"\" itemtype=\"https://schema.org/postalAddress\"> <span class=\"companyname\" id=\"738316713COMP4\" itemprop=\"name\"> Company Name</span> <span>  - </span> <span class=\"joblocation jobcity\" id=\"738316713JCIT4\" itemprop=\"addressLocality\"> City</span> <span> , </span> <span class=\"joblocation jobstate\" id=\"738316713JSTA4\" itemprop=\"addressRegion\"> State</span> </span> <span class=\"paddedline\"> <span class=\"jobline\" id=\"738316713JDES4\" itemprop=\"description\"> <ul> <li> Stock  Control:   · Inventoried,  issued,  transported,  and  managed  over  $100  million  of  military   munitions  with  zero  loss.</li> <li> Instructed  and  trained  5  personnel  on  the  Standard  Army  Ammunition   System-Modular  (SAAS-MOD).</li> <li> Communication:   · Communicated  effectively  with  civilian  contractors,  and  Republic  of  Korea   officers  and  soldiers  in  a  successful  effort  to  ship  100  containers  of   ammunition  back  to  the  United  States.</li> </ul> </span> </span> </div> </div> <div class=\"paragraph\" id=\"PARAGRAPH_738316713_5_484064370\" itemscope=\"\" itemtype=\"https://schema.org/Organization\" style=\"padding-top:10px;\"> <div class=\"singlecolumn\"> <span class=\"paddedline\"> <span class=\"jobtitle\" id=\"738316713JTIT5\"> Residential/ Commercial Painter</span> <br/> <span> <span class=\"jobdates\" format=\"%B %Y\" id=\"738316713JSTD5\"> June 2000</span> <span>  to </span> <span class=\"jobdates\" format=\"%B %Y\" id=\"738316713EDDT5\"> May 2007</span> </span> </span> <span class=\"paddedline\" itemscope=\"\" itemtype=\"https://schema.org/postalAddress\"> <span class=\"companyname\" id=\"738316713COMP5\" itemprop=\"name\"> Company Name</span> <span>  - </span> <span class=\"joblocation jobcity\" id=\"738316713JCIT5\" itemprop=\"addressLocality\"> City</span> <span> , </span> <span class=\"joblocation jobstate\" id=\"738316713JSTA5\" itemprop=\"addressRegion\"> State</span> </span> <span class=\"paddedline\"> <span class=\"jobline\" id=\"738316713JDES5\" itemprop=\"description\"> <ul> <li> Maintained professional, appearance and attitude, to develop client confidence.</li> <li> Consistently developed ideas to maximize output and accuracy.  </li> <li> Accomplished tasks to standard, often ahead of time on both; jobs working alone and jobs working as a team member.</li> </ul> </span> </span> </div> </div> </div> <div class=\"section\" id=\"SECTION_EDUC738316714\" style=\"padding-top:0px;\"> <div class=\"heading\"> <div class=\"sectiontitle thinbottomborder\" id=\"SECTNAME_EDUC738316714\"> Education</div> </div> <div class=\"paragraph firstparagraph\" id=\"PARAGRAPH_738316714_1_485116547\" itemscope=\"\" itemtype=\"https://schema.org/EducationalOrganization\" style=\"padding-top:0px;\"> <div class=\"singlecolumn\"> <span class=\"paddedline\" itemprop=\"description\"> <span class=\"degree\" dependency=\"DGRE\" id=\"738316714DGRE1\" itemprop=\"name\"> Associate of Science</span> <span>  : </span> <span class=\"programline\" dependency=\"STUY\" id=\"738316714STUY1\"> Pre-Engineering</span> <span class=\"jobdates\" id=\"738316714GRYR1\"> </span> </span> <span class=\"paddedline\"> <span class=\"companyname companyname_educ\" dependency=\"SCHO\" id=\"738316714SCHO1\" itemprop=\"name\"> Pikes Peak Community College 2016-2018</span> <span>  - </span> <span class=\"joblocation jobcity\" id=\"738316714SCIT1\"> City</span> <span> , </span> <span class=\"joblocation jobstate\" id=\"738316714SSTA1\"> State</span> <span class=\"joblocation jobstate\" id=\"738316714SCNT1\"> </span> </span> <span class=\"paddedline\"> <span class=\"field\" id=\"738316714FRFM1\"> <br/> <p align=\"LEFT\"> - Enrolled in Fall 2016 Semester to begin work on an Pre-Engineering A.S Degree.</p> <p align=\"LEFT\">  - I then hope to transfer to Colorado School of Mines to obtain a B.S Degree in Engineering.</p> </span> </span> </div> </div> </div> <div class=\"section\" id=\"SECTION_SKLL738316723\" style=\"padding-top:0px;\"> <div class=\"heading\"> <div class=\"sectiontitle thinbottomborder\" id=\"SECTNAME_SKLL738316723\"> Skills</div> </div> <div class=\"paragraph firstparagraph\" id=\"PARAGRAPH_738316723_1_478330301\" style=\"padding-top:0px;\"> <div class=\"field singlecolumn\" id=\"738316723FRFM1\"> <ul> <li> Dedication to customer service, often remaining flexible with availability to accommodate as many customers as possible</li> <br/> <li> Proven competency in learning all aspects of state and federal regulations, and ensuring 100% compliance from those I work with </li> <br/> <li> Accepts challenges with no hesitation; never retreated from opportunities of greater responsibility</li> <br/> <li> Exceptional ability to recognize potential problems and work to resolve them quickly and discreetly.  Affirming the customers confidence.</li> </ul> <br/> <br/> <br/> <br/> <br/> <br/> <br/> <br/> <br/> <br/> <br/> <br/> <br/> </div> </div> </div> </div>",
         "AVIATION"
        ],
        [
         "2480",
         "24589765",
         "         GOVERNMENT RELATIONS, COMMUNICATIONS AND ORGANIZATIONAL DEVELOPMENT DIRECTOR       Professional Summary    Strategically grounded, highly experienced leader* Quickly establishes trust and effective working relationships * Focus on effective communication between teams * Creative, articulate and resourceful * Successful at team mentoring and develop individuals into leadership *Innovative, energetic and a good sense of humor      Skills                    Work History     01/2014   to   Current     Government Relations, Communications and Organizational Development Director      Company Name   –   City  ,   State      Government Relations and Communications WSDOT Toll Division Leadership: Develops strong partnerships with functional teams throughout WSDOT and region in delivering toll projects.  Oversees implementation of continuous improvement and Lean project.  Represents the division with the media, government and industry representatives, and citizens.  Government Relations: Serves as a strategic advisor to department executives on key tolling, communication and legislative strategies.  Communications: Leads strategic communication and government relations delivery plans with internal employees and stakeholders for the WSDOT Toll Division.  Distills complex financial and technical information into clear graphic storytelling and understandable communication.  Facilitates resolution workshops on policy conflicts between internal and cross functional partners.  Leads external communications team leverage of current social media tools.  Team:  2 managers, 8 staff Director of Budget and Program Development Washington State Ferries Leadership:  Built strong partnerships between diverse internal partners and external stakeholders.  Cultivated Lean initiatives and projects in partnership with agency executives.  Developed organization's performance management program.  Trained, coached and mentored staff to ensure smooth adoption of new program.  Initiated rollout of new enterprise software solution for sales reporting.  Spearheaded cross-functional initiative to achieve  [objective] .        08/2008   to   09/2011     Director of Program Management      Company Name   –   City  ,   State      Greco led the Program Management for the AWV program with a $3.125 billion budget.   She led high performing global teams with differing goals towards an aligned matrixed organization with direct and adjacent reporting structures.   Greco led budget, finance, human relations, communications, real estate services, consultant and third party agreements including railroads.   Greco led complex negotiations for executive leadership with differing priorities and goals for technical agreements of the Bored Tunnel project.   She was responsible for financial forecasts, budget development and accounting for the AWV program.   Directed 5 managers and a team of 33 employees.   Developed and rolled out new policies.  Hired and trained  [number]  of staff.  Implemented innovative programs to increase employee loyalty and reduce turnover.  Partnered successfully with  [departments, clients]  to produce  [positive outcome] .        04/2006   to   08/2008     Project Director, I-90 Corridor and Sound Move Projects      Company Name   –   City  ,   State      Directed delivery of design and construction projects for high capacity transit in the I-90 corridor and for the completion of Sound Transit Sound Move projects. Oversaw improved partnering and project coordination between WSDOT and Sound Transit design and engineering teams for direct access facilities and Link light rail on the interstate system. Greco managed the leadership alignment for the Urban Corridors senior management team including the three mega projects, Alaskan Way Viaduct, SR 520 and I-405.        07/1995   to   03/2003     Manager, Aviation Services and Planning      Company Name   –   City  ,   State      Oversaw delivery of the WSDOT Pilot and Aircraft Registration Program, Aviation Planning, Outreach and Education Program.   Provided leadership support in the reorganization and relocation of the WSDOT Aviation Division.   Created the WSDOT Airport Land Use Compatibility Program, which now serves as a national model in protecting airports through local land use planning.   Restructured the Aviation System Plan into a dynamic web-based resource tool for the 129 airports in Washington.   Managed consultants for delivery of the statewide pavement management program.   Provided staff support for the 2002 Joint Legislative Audit Review Committee Aviation Division study and the 1998 State Aviation Policy.         Public Affairs Specialist      Company Name   –   City  ,   State    Served as spokesperson to national and international media including crisis managementincluding the Pan Am 103 bombing, and numerous aircraft accidents. Provided media training to senior management as well as support during media interviews including the television shows, 60 Minutes and 48 Hours.      09/2011   to   01/2014     Director, Budget and Program Development      Company Name   –   City  ,   State     Serves as Director of Budget and Program Development for WSDOT Ferries Division with a $760 million biennial budget serving over 22 million passengers each year.   Greco oversaw program management for the operating and capital budgets and established a trend and change management program.   Built strong partnerships between diverse internal partners and external stakeholders. Cultivated Lean initiatives and projects in partnership with agency executives. Developed organization's performance management program.  She is experienced in interest arbitration for numerous collective bargaining agreements. Greco oversees the organization's performance management program and has a demonstrated ability to inspire and preserve teams. Initiated rollout of new enterprise software solution for sales reporting.  Spearheaded cross-functional initiative to achieve  [objective] .  Strengthened company's business by leading implementation of  [project] .  Trained, coached and mentored staff to ensure smooth adoption of new program.         Education          Bachelor of Science  :   Flight Technology   Flight Technology           Central Washington University\nExecutive Management Program, Evans School, University of Washington  :             Skills    arbitration, agency, budgets, Budget, continuous improvement, delivery, Executive Management, financial, functional, Government, graphics, graphic, human relations, Hyperion, I-90, Leadership, Director, Excel, PowerPoint, Microsoft Project, 3.1, Word, Negotiations, Oracle, performance management, Program Development, Program Management, real estate, Sound, strategic, Visio, workshops      Additional Information      Non-Profit and Community Support Neighborhood Youth Alliance, Founding Director Math and literacy outreach to homeless and children in poverty, Lynnwood, WA Campaign Manager in the successful election John Resha for Lake Forest Park City Council Precinct Campaign Officer, 46th Legislative District 2      ",
         "<div class=\"fontsize fontface vmargins hmargins linespacing pagesize\" id=\"document\"> <div class=\"section firstsection\" id=\"SECTION_NAME510479545\" style=\"\n      padding-top:0px;\n    \"> <div class=\"paragraph PARAGRAPH_NAME firstparagraph\" id=\"PARAGRAPH_510479545_1_333318453\"> <div class=\"name\" itemprop=\"name\"> <span class=\"field\" id=\"510479545FNAM1\"> </span> <span> </span> <span class=\"field\" id=\"510479545LNAM1\"> GOVERNMENT RELATIONS, COMMUNICATIONS AND ORGANIZATIONAL DEVELOPMENT DIRECTOR</span> </div> </div> </div> <div class=\"section\" id=\"SECTION_SUMM510479549\" style=\"\n      padding-top:0px;\n    \"> <div class=\"heading topborder\"> <div class=\"sectiontitle\" id=\"SECTNAME_SUMM510479549\"> Professional Summary</div> </div> <div class=\"paragraph firstparagraph\" id=\"PARAGRAPH_510479549_1_333318462\"> <div class=\"field singlecolumn\" id=\"510479549FRFM1\"> Strategically grounded, highly experienced leader* Quickly establishes trust and effective working relationships * Focus on effective communication between teams * Creative, articulate and resourceful * Successful at team mentoring and develop individuals into leadership *Innovative, energetic and a good sense of humor</div> </div> </div> <div class=\"section\" id=\"SECTION_HILT510479997\" style=\"\n      padding-top:0px;\n    \"> <div class=\"heading topborder\"> <div class=\"sectiontitle\" id=\"SECTNAME_HILT510479997\"> Skills</div> </div> <div class=\"paragraph firstparagraph\" id=\"PARAGRAPH_510479997_1\"> <div class=\"singlecolumn maincolumn\"> <table class=\"twocol\"> <tbody> <tr> <td class=\"field twocol_1\" id=\"510479997SKC11\"> </td> <td class=\"field twocol_2\" id=\"510479997SKC21\"> </td> </tr> </tbody> </table> </div> </div> </div> <div class=\"section\" id=\"SECTION_EXPR510479547\" style=\"\n      padding-top:0px;\n    \"> <div class=\"heading topborder\"> <div class=\"sectiontitle\" id=\"SECTNAME_EXPR510479547\"> Work History</div> </div> <div class=\"paragraph firstparagraph\" id=\"PARAGRAPH_510479547_1_333318455\" itemscope=\"\" itemtype=\"https://schema.org/Organization\"> <span class=\"dates_wrapper\"> <span class=\"jobdates\" format=\"%m/%Y\" id=\"510479547JSTD1\"> 01/2014</span> <span>  to </span> <span class=\"jobdates\" format=\"%m/%Y\" id=\"510479547EDDT1\"> Current</span> </span> <div class=\"singlecolumn\"> <span class=\"paddedline\"> <span class=\"jobtitle\" id=\"510479547JTIT1\"> Government Relations, Communications and Organizational Development Director</span> <span> </span> </span> <span class=\"paddedline\" itemscope=\"\" itemtype=\"https://schema.org/postalAddress\"> <span class=\"companyname\" id=\"510479547COMP1\" itemprop=\"name\"> Company Name</span> <span>  – </span> <span class=\"joblocation jobcity\" id=\"510479547JCIT1\" itemprop=\"addressLocality\"> City</span> <span> , </span> <span class=\"joblocation jobstate\" id=\"510479547JSTA1\" itemprop=\"addressRegion\"> State</span> <br/> </span> <span class=\"jobline\" id=\"510479547JDES1\" itemprop=\"description\"> <ul> <li> Government Relations and Communications WSDOT Toll Division Leadership: Develops strong partnerships with functional teams throughout WSDOT and region in delivering toll projects.</li> <li> Oversees implementation of continuous improvement and Lean project.</li> <li> Represents the division with the media, government and industry representatives, and citizens.</li> <li> Government Relations: Serves as a strategic advisor to department executives on key tolling, communication and legislative strategies.</li> <li> Communications: Leads strategic communication and government relations delivery plans with internal employees and stakeholders for the WSDOT Toll Division.</li> <li> Distills complex financial and technical information into clear graphic storytelling and understandable communication.</li> <li> Facilitates resolution workshops on policy conflicts between internal and cross functional partners.</li> <li> Leads external communications team leverage of current social media tools.</li> <li> Team:  2 managers, 8 staff Director of Budget and Program Development Washington State Ferries Leadership:  Built strong partnerships between diverse internal partners and external stakeholders.</li> <li> Cultivated Lean initiatives and projects in partnership with agency executives.</li> <li> Developed organization's performance management program.</li> <li> Trained, coached and mentored staff to ensure smooth adoption of new program.</li> <li> Initiated rollout of new enterprise software solution for sales reporting.</li> <li> Spearheaded cross-functional initiative to achieve <font color=\"#0000ff\"> [objective]</font> .</li> </ul> </span> </div> </div> <div class=\"paragraph\" id=\"PARAGRAPH_510479547_2_333318456\" itemscope=\"\" itemtype=\"https://schema.org/Organization\"> <span class=\"dates_wrapper\"> <span class=\"jobdates\" format=\"%m/%Y\" id=\"510479547JSTD2\"> 08/2008</span> <span>  to </span> <span class=\"jobdates\" format=\"%m/%Y\" id=\"510479547EDDT2\"> 09/2011</span> </span> <div class=\"singlecolumn\"> <span class=\"paddedline\"> <span class=\"jobtitle\" id=\"510479547JTIT2\"> Director of Program Management</span> <span> </span> </span> <span class=\"paddedline\" itemscope=\"\" itemtype=\"https://schema.org/postalAddress\"> <span class=\"companyname\" id=\"510479547COMP2\" itemprop=\"name\"> Company Name</span> <span>  – </span> <span class=\"joblocation jobcity\" id=\"510479547JCIT2\" itemprop=\"addressLocality\"> City</span> <span> , </span> <span class=\"joblocation jobstate\" id=\"510479547JSTA2\" itemprop=\"addressRegion\"> State</span> <br/> </span> <span class=\"jobline\" id=\"510479547JDES2\" itemprop=\"description\"> <ul> <li> Greco led the Program Management for the AWV program with a $3.125 billion budget. </li> <li> She led high performing global teams with differing goals towards an aligned matrixed organization with direct and adjacent reporting structures. </li> <li> Greco led budget, finance, human relations, communications, real estate services, consultant and third party agreements including railroads. </li> <li> Greco led complex negotiations for executive leadership with differing priorities and goals for technical agreements of the Bored Tunnel project. </li> <li> She was responsible for financial forecasts, budget development and accounting for the AWV program. </li> <li> Directed 5 managers and a team of 33 employees. </li> <li> Developed and rolled out new policies.</li> <li> Hired and trained <font color=\"#0000ff\"> [number]</font>  of staff.</li> <li> Implemented innovative programs to increase employee loyalty and reduce turnover.</li> <li> Partnered successfully with <font color=\"#0000ff\"> [departments, clients]</font>  to produce <font color=\"#0000ff\"> [positive outcome]</font> .</li> </ul> </span> </div> </div> <div class=\"paragraph\" id=\"PARAGRAPH_510479547_3_333318457\" itemscope=\"\" itemtype=\"https://schema.org/Organization\"> <span class=\"dates_wrapper\"> <span class=\"jobdates\" format=\"%m/%Y\" id=\"510479547JSTD3\"> 04/2006</span> <span>  to </span> <span class=\"jobdates\" format=\"%m/%Y\" id=\"510479547EDDT3\"> 08/2008</span> </span> <div class=\"singlecolumn\"> <span class=\"paddedline\"> <span class=\"jobtitle\" id=\"510479547JTIT3\"> Project Director, I-90 Corridor and Sound Move Projects</span> <span> </span> </span> <span class=\"paddedline\" itemscope=\"\" itemtype=\"https://schema.org/postalAddress\"> <span class=\"companyname\" id=\"510479547COMP3\" itemprop=\"name\"> Company Name</span> <span>  – </span> <span class=\"joblocation jobcity\" id=\"510479547JCIT3\" itemprop=\"addressLocality\"> City</span> <span> , </span> <span class=\"joblocation jobstate\" id=\"510479547JSTA3\" itemprop=\"addressRegion\"> State</span> <br/> </span> <span class=\"jobline\" id=\"510479547JDES3\" itemprop=\"description\"> <ul> <li> Directed delivery of design and construction projects for high capacity transit in the I-90 corridor and for the completion of Sound Transit Sound Move projects. Oversaw improved partnering and project coordination between WSDOT and Sound Transit design and engineering teams for direct access facilities and Link light rail on the interstate system. Greco managed the leadership alignment for the Urban Corridors senior management team including the three mega projects, Alaskan Way Viaduct, SR 520 and I-405.</li> </ul> </span> </div> </div> <div class=\"paragraph\" id=\"PARAGRAPH_510479547_4_333318458\" itemscope=\"\" itemtype=\"https://schema.org/Organization\"> <span class=\"dates_wrapper\"> <span class=\"jobdates\" format=\"%m/%Y\" id=\"510479547JSTD4\"> 07/1995</span> <span>  to </span> <span class=\"jobdates\" format=\"%m/%Y\" id=\"510479547EDDT4\"> 03/2003</span> </span> <div class=\"singlecolumn\"> <span class=\"paddedline\"> <span class=\"jobtitle\" id=\"510479547JTIT4\"> Manager, Aviation Services and Planning</span> <span> </span> </span> <span class=\"paddedline\" itemscope=\"\" itemtype=\"https://schema.org/postalAddress\"> <span class=\"companyname\" id=\"510479547COMP4\" itemprop=\"name\"> Company Name</span> <span>  – </span> <span class=\"joblocation jobcity\" id=\"510479547JCIT4\" itemprop=\"addressLocality\"> City</span> <span> , </span> <span class=\"joblocation jobstate\" id=\"510479547JSTA4\" itemprop=\"addressRegion\"> State</span> <br/> </span> <span class=\"jobline\" id=\"510479547JDES4\" itemprop=\"description\"> <ul> <li> Oversaw delivery of the WSDOT Pilot and Aircraft Registration Program, Aviation Planning, Outreach and Education Program. </li> <li> Provided leadership support in the reorganization and relocation of the WSDOT Aviation Division. </li> <li> Created the WSDOT Airport Land Use Compatibility Program, which now serves as a national model in protecting airports through local land use planning. </li> <li> Restructured the Aviation System Plan into a dynamic web-based resource tool for the 129 airports in Washington. </li> <li> Managed consultants for delivery of the statewide pavement management program. </li> <li> Provided staff support for the 2002 Joint Legislative Audit Review Committee Aviation Division study and the 1998 State Aviation Policy.</li> </ul> </span> </div> </div> <div class=\"paragraph\" id=\"PARAGRAPH_510479547_5_333318459\" itemscope=\"\" itemtype=\"https://schema.org/Organization\"> <div class=\"singlecolumn\"> <span class=\"paddedline\"> <span class=\"jobtitle\" id=\"510479547JTIT5\"> Public Affairs Specialist</span> <span> </span> </span> <span class=\"paddedline\" itemscope=\"\" itemtype=\"https://schema.org/postalAddress\"> <span class=\"companyname\" id=\"510479547COMP5\" itemprop=\"name\"> Company Name</span> <span>  – </span> <span class=\"joblocation jobcity\" id=\"510479547JCIT5\" itemprop=\"addressLocality\"> City</span> <span> , </span> <span class=\"joblocation jobstate\" id=\"510479547JSTA5\" itemprop=\"addressRegion\"> State</span> <br/> </span> <span class=\"jobline\" id=\"510479547JDES5\" itemprop=\"description\"> Served as spokesperson to national and international media including crisis managementincluding the Pan Am 103 bombing, and numerous aircraft accidents. Provided media training to senior management as well as support during media interviews including the television shows, 60 Minutes and 48 Hours.</span> </div> </div> <div class=\"paragraph\" id=\"PARAGRAPH_510479547_6_333323630\" itemscope=\"\" itemtype=\"https://schema.org/Organization\"> <span class=\"dates_wrapper\"> <span class=\"jobdates\" format=\"%m/%Y\" id=\"510479547JSTD6\"> 09/2011</span> <span>  to </span> <span class=\"jobdates\" format=\"%m/%Y\" id=\"510479547EDDT6\"> 01/2014</span> </span> <div class=\"singlecolumn\"> <span class=\"paddedline\"> <span class=\"jobtitle\" id=\"510479547JTIT6\"> Director, Budget and Program Development</span> <span> </span> </span> <span class=\"paddedline\" itemscope=\"\" itemtype=\"https://schema.org/postalAddress\"> <span class=\"companyname\" id=\"510479547COMP6\" itemprop=\"name\"> Company Name</span> <span>  – </span> <span class=\"joblocation jobcity\" id=\"510479547JCIT6\" itemprop=\"addressLocality\"> City</span> <span> , </span> <span class=\"joblocation jobstate\" id=\"510479547JSTA6\" itemprop=\"addressRegion\"> State</span> <br/> </span> <span class=\"jobline\" id=\"510479547JDES6\" itemprop=\"description\"> <ul> Serves as Director of Budget and Program Development for WSDOT Ferries Division with a $760 million biennial budget serving over 22 million passengers each year. <br/> <br/> Greco oversaw program management for the operating and capital budgets and established a trend and change management program. <br/> <br/> Built strong partnerships between diverse internal partners and external stakeholders. Cultivated Lean initiatives and projects in partnership with agency executives. Developed organization's performance management program.<br/> <br/> She is experienced in interest arbitration for numerous collective bargaining agreements. Greco oversees the organization's performance management program and has a demonstrated ability to inspire and preserve teams.<li> Initiated rollout of new enterprise software solution for sales reporting.</li> <li> Spearheaded cross-functional initiative to achieve <font color=\"#0000ff\"> [objective]</font> .</li> <li> Strengthened company's business by leading implementation of <font color=\"#0000ff\"> [project]</font> .</li> <li> Trained, coached and mentored staff to ensure smooth adoption of new program.</li> </ul> </span> </div> </div> </div> <div class=\"section\" id=\"SECTION_EDUC510479548\" style=\"\n      padding-top:0px;\n    \"> <div class=\"heading topborder\"> <div class=\"sectiontitle\" id=\"SECTNAME_EDUC510479548\"> Education</div> </div> <div class=\"paragraph firstparagraph\" id=\"PARAGRAPH_510479548_1_333318460\" itemscope=\"\" itemtype=\"https://schema.org/EducationalOrganization\"> <span class=\"dates_wrapper\"> <span class=\"jobdates\" id=\"510479548GRYR1\"> </span> </span> <div class=\"singlecolumn\"> <span class=\"paddedline\" itemprop=\"description\"> <span class=\"degree\" id=\"510479548DGRE1\" itemprop=\"name\"> Bachelor of Science</span> <span> : </span> <span class=\"programline\" id=\"510479548STUY1\"> Flight Technology</span> </span> <span class=\"field\" id=\"510479548FRFM1\"> Flight Technology</span> </div> </div> <div class=\"paragraph\" id=\"PARAGRAPH_510479548_2_333318461\" itemscope=\"\" itemtype=\"https://schema.org/EducationalOrganization\"> <span class=\"dates_wrapper\"> <span class=\"jobdates\" id=\"510479548GRYR2\"> </span> </span> <div class=\"singlecolumn\"> <span class=\"paddedline\" itemprop=\"description\"> <span class=\"degree\" id=\"510479548DGRE2\" itemprop=\"name\"> Central Washington University\nExecutive Management Program, Evans School, University of Washington</span> <span> : </span> <span class=\"programline\" id=\"510479548STUY2\"> </span> </span> <span class=\"field\" id=\"510479548FRFM2\"> </span> </div> </div> </div> <div class=\"section\" id=\"SECTION_SKLL510479552\" style=\"\n      padding-top:0px;\n    \"> <div class=\"heading topborder\"> <div class=\"sectiontitle\" id=\"SECTNAME_SKLL510479552\"> Skills</div> </div> <div class=\"paragraph firstparagraph\" id=\"PARAGRAPH_510479552_1_333318465\"> <div class=\"field singlecolumn\" id=\"510479552FRFM1\"> arbitration, agency, budgets, Budget, continuous improvement, delivery, Executive Management, financial, functional, Government, graphics, graphic, human relations, Hyperion, I-90, Leadership, Director, Excel, PowerPoint, Microsoft Project, 3.1, Word, Negotiations, Oracle, performance management, Program Development, Program Management, real estate, Sound, strategic, Visio, workshops</div> </div> </div> <div class=\"section\" id=\"SECTION_ADDI510479553\" style=\"\n      padding-top:0px;\n    \"> <div class=\"heading topborder\"> <div class=\"sectiontitle\" id=\"SECTNAME_ADDI510479553\"> Additional Information</div> </div> <div class=\"paragraph firstparagraph\" id=\"PARAGRAPH_510479553_1_333318466\"> <div class=\"field singlecolumn\" id=\"510479553FRFM1\"> <ul> <li> Non-Profit and Community Support Neighborhood Youth Alliance, Founding Director Math and literacy outreach to homeless and children in poverty, Lynnwood, WA Campaign Manager in the successful election John Resha for Lake Forest Park City Council Precinct Campaign Officer, 46th Legislative District 2 </li> </ul> </div> </div> </div> </div>",
         "AVIATION"
        ],
        [
         "2481",
         "31605080",
         "         GEEK SQUAD AGENT         Professional Profile    IT support specialist with experience across multiple disciplines including technical\nsupport, customer service, computer repair, and military service. I am hard working,\nwilling to learn, team oriented, and comfortable working independently as well.      Qualifications        Windows / Mac / IOS / Android Technical Support \nHardware & Software Maintenance User Training \nMalware Detection & Removal  Customer Service \nEntry Level Active Directory & Ticketing Problem Solving & Research              Experience      Company Name     August 2014   to   October 2016     Geek Squad Agent   City  ,   State      Provided technical support in person and over the phone.  Performed hardware and software installation and repair.  Refurbished and setup PCs and peripheral devices.          Company Name     January 2013   to   January 2014     Shipping & Receiving Associate   City  ,   State      Performed shipping and receiving of product.  Assisted with inventory management.  General logistics and warehouse duties.          Company Name     January 2009   to   January 2012     Assembler/Shipping & Receiving Associate   City  ,   State      Assembled and tested tanks according to specifications.  Maintained inventory of tools and supplies.  Performed shipping and receiving duties.          Company Name     January 2005   to   January 2009     Aviation Electrician   City  ,   State      Performed troubleshooting and maintenance of aircraft.  Performed ground handling and marshalling of aircraft.  Performed daily safe for flight inspections.          Education      Purdue University     2014       B.S  :   Computer & Information Technology    City  ,   State      Computer & Information Technology          Skills    Active Directory, Hardware, Customer Service, inventory management, inventory, logistics, Mac, Windows, Problem Solving, receiving, Research, shipping, software installation, technical support, User Training, phone, troubleshooting   ",
         "<div class=\"fontsize fontface vmargins hmargins linespacing pagesize\" id=\"document\"> <div class=\"section firstsection\" id=\"SECTION_NAME927947889\" style=\"padding-top:0px;\"> <div class=\"paragraph PARAGRAPH_NAME firstparagraph\" id=\"PARAGRAPH_927947889_1_609980872\" style=\"padding-top:0px;\"> <div class=\"name bottomborder\" itemprop=\"name\"> <span class=\"field\" id=\"927947889FNAM1\"> </span> <span> </span> <span class=\"field\" id=\"927947889LNAM1\"> GEEK SQUAD AGENT</span> </div> <div class=\"lowerborder bottomborder\"> </div> </div> </div> <div class=\"section\" id=\"SECTION_SUMM927947900\" style=\"padding-top:0px;\"> <div class=\"heading\"> <div class=\"sectiontitle\" id=\"SECTNAME_SUMM927947900\"> Professional Profile</div> </div> <div class=\"paragraph firstparagraph\" id=\"PARAGRAPH_927947900_1_609980880\" style=\"padding-top:0px;\"> <div class=\"field singlecolumn\" id=\"927947900FRFM1\"> IT support specialist with experience across multiple disciplines including technical\nsupport, customer service, computer repair, and military service. I am hard working,\nwilling to learn, team oriented, and comfortable working independently as well.</div> </div> </div> <div class=\"section\" id=\"SECTION_HILT927947901\" style=\"padding-top:0px;\"> <div class=\"heading\"> <div class=\"sectiontitle\" id=\"SECTNAME_HILT927947901\"> Qualifications</div> </div> <div class=\"paragraph firstparagraph\" id=\"PARAGRAPH_927947901_1_609980881\" style=\"padding-top:0px;\"> <div class=\"singlecolumn maincolumn\"> <table class=\"twocol\"> <tbody> <tr> <td class=\"field twocol_1\" id=\"927947901SKC11\"> Windows / Mac / IOS / Android Technical Support \nHardware &amp; Software Maintenance User Training \nMalware Detection &amp; Removal  Customer Service \nEntry Level Active Directory &amp; Ticketing Problem Solving &amp; Research</td> <td class=\"field twocol_2\" id=\"927947901SKC21\"> </td> </tr> </tbody> </table> </div> </div> </div> <div class=\"section\" id=\"SECTION_ACCM927948163\" style=\"padding-top:0px;\"> </div> <div class=\"section\" id=\"SECTION_EXPR927947891\" style=\"padding-top:0px;\"> <div class=\"heading\"> <div class=\"sectiontitle\" id=\"SECTNAME_EXPR927947891\"> Experience</div> </div> <div class=\"paragraph firstparagraph\" id=\"PARAGRAPH_927947891_1_609980874\" itemscope=\"\" itemtype=\"https://schema.org/Organization\" style=\"padding-top:0px;\"> <div class=\"singlecolumn\"> <span class=\"paddedline\"> <span class=\"companyname\" id=\"927947891COMP1\" itemprop=\"name\"> Company Name</span> <span> </span> <span class=\"datesWrapper\"> <span class=\"jobdates\" format=\"%B %Y\" id=\"927947891JSTD1\"> August 2014</span> <span>  to </span> <span class=\"jobdates\" format=\"%B %Y\" id=\"927947891EDDT1\"> October 2016</span> </span> </span> <span class=\"paddedline\" itemscope=\"\" itemtype=\"https://schema.org/postalAddress\"> <span class=\"jobtitle\" id=\"927947891JTIT1\"> Geek Squad Agent</span> <br/> <span class=\"joblocation jobcity\" id=\"927947891JCIT1\" itemprop=\"addressLocality\"> City</span> <span> , </span> <span class=\"joblocation jobstate\" id=\"927947891JSTA1\" itemprop=\"addressRegion\"> State</span> </span> <span class=\"paddedline\"> <span class=\"jobline\" id=\"927947891JDES1\" itemprop=\"description\"> <ul> <li> Provided technical support in person and over the phone.</li> <li> Performed hardware and software installation and repair.</li> <li> Refurbished and setup PCs and peripheral devices.</li> </ul> </span> </span> </div> </div> <div class=\"paragraph\" id=\"PARAGRAPH_927947891_2_609980875\" itemscope=\"\" itemtype=\"https://schema.org/Organization\" style=\"padding-top:0px;\"> <div class=\"singlecolumn\"> <span class=\"paddedline\"> <span class=\"companyname\" id=\"927947891COMP2\" itemprop=\"name\"> Company Name</span> <span> </span> <span class=\"datesWrapper\"> <span class=\"jobdates\" format=\"%B %Y\" id=\"927947891JSTD2\"> January 2013</span> <span>  to </span> <span class=\"jobdates\" format=\"%B %Y\" id=\"927947891EDDT2\"> January 2014</span> </span> </span> <span class=\"paddedline\" itemscope=\"\" itemtype=\"https://schema.org/postalAddress\"> <span class=\"jobtitle\" id=\"927947891JTIT2\"> Shipping &amp; Receiving Associate</span> <br/> <span class=\"joblocation jobcity\" id=\"927947891JCIT2\" itemprop=\"addressLocality\"> City</span> <span> , </span> <span class=\"joblocation jobstate\" id=\"927947891JSTA2\" itemprop=\"addressRegion\"> State</span> </span> <span class=\"paddedline\"> <span class=\"jobline\" id=\"927947891JDES2\" itemprop=\"description\"> <ul> <li> Performed shipping and receiving of product.</li> <li> Assisted with inventory management.</li> <li> General logistics and warehouse duties.</li> </ul> </span> </span> </div> </div> <div class=\"paragraph\" id=\"PARAGRAPH_927947891_3_609980876\" itemscope=\"\" itemtype=\"https://schema.org/Organization\" style=\"padding-top:0px;\"> <div class=\"singlecolumn\"> <span class=\"paddedline\"> <span class=\"companyname\" id=\"927947891COMP3\" itemprop=\"name\"> Company Name</span> <span> </span> <span class=\"datesWrapper\"> <span class=\"jobdates\" format=\"%B %Y\" id=\"927947891JSTD3\"> January 2009</span> <span>  to </span> <span class=\"jobdates\" format=\"%B %Y\" id=\"927947891EDDT3\"> January 2012</span> </span> </span> <span class=\"paddedline\" itemscope=\"\" itemtype=\"https://schema.org/postalAddress\"> <span class=\"jobtitle\" id=\"927947891JTIT3\"> Assembler/Shipping &amp; Receiving Associate</span> <br/> <span class=\"joblocation jobcity\" id=\"927947891JCIT3\" itemprop=\"addressLocality\"> City</span> <span> , </span> <span class=\"joblocation jobstate\" id=\"927947891JSTA3\" itemprop=\"addressRegion\"> State</span> </span> <span class=\"paddedline\"> <span class=\"jobline\" id=\"927947891JDES3\" itemprop=\"description\"> <ul> <li> Assembled and tested tanks according to specifications.</li> <li> Maintained inventory of tools and supplies.</li> <li> Performed shipping and receiving duties.</li> </ul> </span> </span> </div> </div> <div class=\"paragraph\" id=\"PARAGRAPH_927947891_4_609980878\" itemscope=\"\" itemtype=\"https://schema.org/Organization\" style=\"padding-top:0px;\"> <div class=\"singlecolumn\"> <span class=\"paddedline\"> <span class=\"companyname\" id=\"927947891COMP4\" itemprop=\"name\"> Company Name</span> <span> </span> <span class=\"datesWrapper\"> <span class=\"jobdates\" format=\"%B %Y\" id=\"927947891JSTD4\"> January 2005</span> <span>  to </span> <span class=\"jobdates\" format=\"%B %Y\" id=\"927947891EDDT4\"> January 2009</span> </span> </span> <span class=\"paddedline\" itemscope=\"\" itemtype=\"https://schema.org/postalAddress\"> <span class=\"jobtitle\" id=\"927947891JTIT4\"> Aviation Electrician</span> <br/> <span class=\"joblocation jobcity\" id=\"927947891JCIT4\" itemprop=\"addressLocality\"> City</span> <span> , </span> <span class=\"joblocation jobstate\" id=\"927947891JSTA4\" itemprop=\"addressRegion\"> State</span> </span> <span class=\"paddedline\"> <span class=\"jobline\" id=\"927947891JDES4\" itemprop=\"description\"> <ul> <li> Performed troubleshooting and maintenance of aircraft.</li> <li> Performed ground handling and marshalling of aircraft.</li> <li> Performed daily safe for flight inspections.</li> </ul> </span> </span> </div> </div> </div> <div class=\"section\" id=\"SECTION_EDUC927947899\" style=\"padding-top:0px;\"> <div class=\"heading\"> <div class=\"sectiontitle\" id=\"SECTNAME_EDUC927947899\"> Education</div> </div> <div class=\"paragraph firstparagraph\" id=\"PARAGRAPH_927947899_1_609980879\" itemscope=\"\" itemtype=\"https://schema.org/EducationalOrganization\" style=\"padding-top:0px;\"> <div class=\"singlecolumn\"> <span class=\"paddedline\"> <span class=\"companyname companyname_educ\" id=\"927947899SCHO1\" itemprop=\"name\"> Purdue University</span> <span> </span> <span class=\"datesWrapper\"> <span class=\"jobdates\" id=\"927947899GRYR1\"> 2014</span> <span> </span> </span> </span> <span class=\"paddedline\" itemprop=\"description\"> <span class=\"degree\" id=\"927947899DGRE1\" itemprop=\"name\"> B.S</span> <span> : </span> <span class=\"programline\" id=\"927947899STUY1\"> Computer &amp; Information Technology</span> </span> <span class=\"paddedline\"> <span class=\"joblocation jobcity\" id=\"927947899SCIT1\"> City</span> <span> , </span> <span class=\"joblocation jobstate\" id=\"927947899SSTA1\"> State</span> <span class=\"joblocation jobstate\" id=\"927947899SCNT1\"> </span> </span> <span class=\"paddedline\"> <span class=\"field\" id=\"927947899FRFM1\"> Computer &amp; Information Technology</span> </span> </div> </div> </div> <div class=\"section\" id=\"SECTION_AFIL927947903\" style=\"padding-top:0px;\"> </div> <div class=\"section\" id=\"SECTION_SKLL927947902\" style=\"padding-top:0px;\"> <div class=\"heading\"> <div class=\"sectiontitle\" id=\"SECTNAME_SKLL927947902\"> Skills</div> </div> <div class=\"paragraph firstparagraph\" id=\"PARAGRAPH_927947902_1_609980882\" style=\"padding-top:0px;\"> <div class=\"field singlecolumn\" id=\"927947902FRFM1\"> Active Directory, Hardware, Customer Service, inventory management, inventory, logistics, Mac, Windows, Problem Solving, receiving, Research, shipping, software installation, technical support, User Training, phone, troubleshooting</div> </div> </div> </div>",
         "AVIATION"
        ],
        [
         "2482",
         "21190805",
         "         PROGRAM DIRECTOR / OFFICE MANAGER           Summary    Highly personable, tech savvy Professional with 9 plus years of experience in administrative and customer service roles including 5 years of non-profit experience. Demonstrated ability to develop and maintain relationships through dependability and exceptional service leading to increased repeat and referral business and support. Effectively communicates with the Executive & Advisory Board of Directors with the constant ongoing of daily operation. Job responsibilities include facili- tating monthly support group meetings, training volunteers for educational awareness programs within the community, maintaining donor data with use of Sage Fundraising 50 donor software, mailings of thank you letters and fliers to donors, creating marketing materials and social media postings, and maintaining website and calendar updates. Additional qualifications include use of       Highlights        crosoft Word, Excel, Outlook, PowerPoint, Access, Publisher, Adobe Pro, Operating Systems\nWindows XP, Vista and Mac, Skype, Facebook, YouTube, Twitter & LogMeIn Remote.              Experience      Program Director / Office Manager    March 2009   to   Current     Company Name   －   City  ,   State      Serve as director for a not-for-profit corporation tending to the needs of survivors diag- nosed with all forms of Gynecological cancers & their caregivers.  Raising awareness, fundraising, and hosting local lunch and learns and community events.  Implemented a program with third year medical students at U of L & U of K called \"Sur- vivors Teaching Students.\" Partnered with the James Graham Cancer Center & Norton Hospital in the design of a new High Risk Screening Clinic for Ovarian Cancer.  Facilitate monthly support group meetings to GYN Cancer Survivors and their Cargiv- er's.  Handle all of the day to day operations in keeping a Non-Profit Organization healthy and thriving.  Maintain donor mailing lists and send out thank you letters and fliers for upcoming events.  Maintain website and calendar updates.  Create marketing materials and social media postings.  Maintain donor data with use of Sage Fundraising 50 donor software and Virtual Termi- nal and Merchant Solutions software.          Personal Assistant to Director of Aviation     Company Name   －   City  ,   State      Assisted in all day-to-day needs of the Director.  Made travel arrangements, organized office space, and hosted meetings for clients to review veneer products.  Assisted in the Interior design and implementation of high end Private Jets: Personally designed Oprah Winfrey's & Cirque Du Soleil's RJ, UPS, Fed Ex, Gulfstream and Bom- dardiers corporate company jets.          Guest Services Representative     Company Name   －   City  ,   State            Flight Attendant     Company Name   －   City  ,   State      Collaborated with Customer Care / In-Flight Managers to create strategic plans to en- hance customer satisfaction.  Provided employees with tools to maintain and increase service levels to both internal and external customers.  Increased employee knowledge by assisting with development and implementation of product-awareness program.  Served as In-Flight Training Instructor.  Emergency Safety (First Aide, CPR & Automated External Defibrillator) ·     Emergency Procedures ·     Crew Resource Management to Line Holding Pilots & Flight Attendants ·     Security ·     Serving ·     Customer Service ·     Aircraft Specifics ·     I.O.E.  Qualified.          Education      Bachelor of Arts   :   Psychology Social Sciences      The University of Louisville   －   City  ,   State      Psychology Social Sciences        High School Diploma        Presentation Academy   －   City  ,   State              Interests    Enjoy playing Tennis, Skiing, Flying and Photography. Psi Chi Member: The National Honor So- ciety of Psychology - Secretary/Treasurer. The Louisville Science Center; Twinbrook Nursing Home, The Home of the Innocence; Meredith Dunn Day Care Center and Retreat Leader, Deaf Adult/Youth Community events, Mini Deaf Olympics, The Junior League of Louisville & Ovarian Awareness of Kentucky Advisory Board member.       Skills    Adobe, CPR, clients, customer satisfaction, Customer Service, Customer Care, forms, Fundraising, Instructor, Interior design, letters, Mac, Director, marketing materials, meetings, Access, Excel, office, Outlook, PowerPoint, Publisher, Windows XP, Word, Norton, Operating Systems, Profit, QuickBooks, Safety, Sage, strategic plans, Teaching, travel arrangements, Vista, website      Additional Information      HOBBIES AND VOLUNTEER SERVICES Enjoy playing Tennis, Skiing, Flying and Photography. Psi Chi Member: The National Honor So- ciety of Psychology - Secretary/Treasurer. The Louisville Science Center; Twinbrook Nursing Home, The Home of the Innocence; Meredith Dunn Day Care Center and Retreat Leader, Deaf Adult/Youth Community events, Mini Deaf Olympics, The Junior League of Louisville & Ovarian Awareness of Kentucky Advisory Board member.      ",
         "<div class=\"fontsize fontface vmargins hmargins linespacing pagesize\" id=\"document\"> <div class=\"section firstsection\" id=\"SECTION_NAME529790997\" style=\"\n      padding-top:0px;\n    \"> <div class=\"paragraph PARAGRAPH_NAME firstparagraph\" id=\"PARAGRAPH_529790997_1_346036720\" style=\"\n      padding-top:0px;\n    \"> <div class=\"name thinbottomborder\" itemprop=\"name\"> <span class=\"field\" id=\"529790997FNAM1\"> </span> <span> </span> <span class=\"field\" id=\"529790997LNAM1\"> PROGRAM DIRECTOR / OFFICE MANAGER</span> </div> <div class=\"myGap\"> </div> <div class=\"lowerborder thinbottomborder\"> </div> </div> </div> <div class=\"section\" id=\"SECTION_SUMM529790999\" style=\"\n      padding-top:0px;\n    \"> <div class=\"heading\"> <div class=\"sectiontitle thinbottomborder\" id=\"SECTNAME_SUMM529790999\"> Summary</div> </div> <div class=\"paragraph firstparagraph\" id=\"PARAGRAPH_529790999_1_346035644\" style=\"\n      padding-top:0px;\n    \"> <div class=\"field singlecolumn\" id=\"529790999FRFM1\"> Highly personable, tech savvy Professional with 9 plus years of experience in administrative and customer service roles including 5 years of non-profit experience. Demonstrated ability to develop and maintain relationships through dependability and exceptional service leading to increased repeat and referral business and support. Effectively communicates with the Executive &amp; Advisory Board of Directors with the constant ongoing of daily operation. Job responsibilities include facili- tating monthly support group meetings, training volunteers for educational awareness programs within the community, maintaining donor data with use of Sage Fundraising 50 donor software, mailings of thank you letters and fliers to donors, creating marketing materials and social media postings, and maintaining website and calendar updates. Additional qualifications include use of </div> </div> </div> <div class=\"section\" id=\"SECTION_HILT529791000\" style=\"\n      padding-top:0px;\n    \"> <div class=\"heading\"> <div class=\"sectiontitle thinbottomborder\" id=\"SECTNAME_HILT529791000\"> Highlights</div> </div> <div class=\"paragraph firstparagraph\" id=\"PARAGRAPH_529791000_1_346035646\" style=\"\n      padding-top:0px;\n    \"> <div class=\"singlecolumn maincolumn\"> <table class=\"twocol\"> <tbody> <tr> <td class=\"field twocol_1 charspace\" id=\"529791000SKC11\"> crosoft Word, Excel, Outlook, PowerPoint, Access, Publisher, Adobe Pro, Operating Systems\nWindows XP, Vista and Mac, Skype, Facebook, YouTube, Twitter &amp; LogMeIn Remote.</td> <td class=\"field twocol_2 charspace\" id=\"529791000SKC21\"> </td> </tr> </tbody> </table> </div> </div> </div> <div class=\"section\" id=\"SECTION_ACCM529791943\" style=\"\n      padding-top:0px;\n    \"> </div> <div class=\"section\" id=\"SECTION_EXPR529791001\" style=\"\n      padding-top:0px;\n    \"> <div class=\"heading\"> <div class=\"sectiontitle thinbottomborder\" id=\"SECTNAME_EXPR529791001\"> Experience</div> </div> <div class=\"paragraph firstparagraph\" id=\"PARAGRAPH_529791001_1_346035637\" itemscope=\"\" itemtype=\"https://schema.org/Organization\" style=\"\n      padding-top:0px;\n    \"> <div class=\"singlecolumn\"> <span class=\"paddedline\"> <span class=\"jobtitle\" id=\"529791001JTIT1\"> Program Director / Office Manager</span> <br/> <span> <span class=\"jobdates\" format=\"%B %Y\" id=\"529791001JSTD1\"> March 2009</span> <span>  to </span> <span class=\"jobdates\" format=\"%B %Y\" id=\"529791001EDDT1\"> Current</span> </span> </span> <span class=\"paddedline\" itemscope=\"\" itemtype=\"https://schema.org/postalAddress\"> <span class=\"companyname\" id=\"529791001COMP1\" itemprop=\"name\"> Company Name</span> <span>  － </span> <span class=\"joblocation jobcity\" id=\"529791001JCIT1\" itemprop=\"addressLocality\"> City</span> <span> , </span> <span class=\"joblocation jobstate\" id=\"529791001JSTA1\" itemprop=\"addressRegion\"> State</span> </span> <span class=\"paddedline\"> <span class=\"jobline\" id=\"529791001JDES1\" itemprop=\"description\"> <ul> <li> Serve as director for a not-for-profit corporation tending to the needs of survivors diag- nosed with all forms of Gynecological cancers &amp; their caregivers.</li> <li> Raising awareness, fundraising, and hosting local lunch and learns and community events.</li> <li> Implemented a program with third year medical students at U of L &amp; U of K called \"Sur- vivors Teaching Students.\" Partnered with the James Graham Cancer Center &amp; Norton Hospital in the design of a new High Risk Screening Clinic for Ovarian Cancer.</li> <li> Facilitate monthly support group meetings to GYN Cancer Survivors and their Cargiv- er's.</li> <li> Handle all of the day to day operations in keeping a Non-Profit Organization healthy and thriving.</li> <li> Maintain donor mailing lists and send out thank you letters and fliers for upcoming events.</li> <li> Maintain website and calendar updates.</li> <li> Create marketing materials and social media postings.</li> <li> Maintain donor data with use of Sage Fundraising 50 donor software and Virtual Termi- nal and Merchant Solutions software.</li> </ul> </span> </span> </div> </div> <div class=\"paragraph\" id=\"PARAGRAPH_529791001_2_346035639\" itemscope=\"\" itemtype=\"https://schema.org/Organization\" style=\"\n      padding-top:0px;\n    \"> <div class=\"singlecolumn\"> <span class=\"paddedline\"> <span class=\"jobtitle\" id=\"529791001JTIT2\"> Personal Assistant to Director of Aviation</span> <br/> </span> <span class=\"paddedline\" itemscope=\"\" itemtype=\"https://schema.org/postalAddress\"> <span class=\"companyname\" id=\"529791001COMP2\" itemprop=\"name\"> Company Name</span> <span>  － </span> <span class=\"joblocation jobcity\" id=\"529791001JCIT2\" itemprop=\"addressLocality\"> City</span> <span> , </span> <span class=\"joblocation jobstate\" id=\"529791001JSTA2\" itemprop=\"addressRegion\"> State</span> </span> <span class=\"paddedline\"> <span class=\"jobline\" id=\"529791001JDES2\" itemprop=\"description\"> <ul> <li> Assisted in all day-to-day needs of the Director.</li> <li> Made travel arrangements, organized office space, and hosted meetings for clients to review veneer products.</li> <li> Assisted in the Interior design and implementation of high end Private Jets: Personally designed Oprah Winfrey's &amp; Cirque Du Soleil's RJ, UPS, Fed Ex, Gulfstream and Bom- dardiers corporate company jets.</li> </ul> </span> </span> </div> </div> <div class=\"paragraph\" id=\"PARAGRAPH_529791001_3_346035640\" itemscope=\"\" itemtype=\"https://schema.org/Organization\" style=\"\n      padding-top:0px;\n    \"> <div class=\"singlecolumn\"> <span class=\"paddedline\"> <span class=\"jobtitle\" id=\"529791001JTIT3\"> Guest Services Representative</span> <br/> </span> <span class=\"paddedline\" itemscope=\"\" itemtype=\"https://schema.org/postalAddress\"> <span class=\"companyname\" id=\"529791001COMP3\" itemprop=\"name\"> Company Name</span> <span>  － </span> <span class=\"joblocation jobcity\" id=\"529791001JCIT3\" itemprop=\"addressLocality\"> City</span> <span> , </span> <span class=\"joblocation jobstate\" id=\"529791001JSTA3\" itemprop=\"addressRegion\"> State</span> </span> <span class=\"paddedline\"> <span class=\"jobline\" id=\"529791001JDES3\" itemprop=\"description\"> </span> </span> </div> </div> <div class=\"paragraph\" id=\"PARAGRAPH_529791001_4_346035641\" itemscope=\"\" itemtype=\"https://schema.org/Organization\" style=\"\n      padding-top:0px;\n    \"> <div class=\"singlecolumn\"> <span class=\"paddedline\"> <span class=\"jobtitle\" id=\"529791001JTIT4\"> Flight Attendant</span> <br/> </span> <span class=\"paddedline\" itemscope=\"\" itemtype=\"https://schema.org/postalAddress\"> <span class=\"companyname\" id=\"529791001COMP4\" itemprop=\"name\"> Company Name</span> <span>  － </span> <span class=\"joblocation jobcity\" id=\"529791001JCIT4\" itemprop=\"addressLocality\"> City</span> <span> , </span> <span class=\"joblocation jobstate\" id=\"529791001JSTA4\" itemprop=\"addressRegion\"> State</span> </span> <span class=\"paddedline\"> <span class=\"jobline\" id=\"529791001JDES4\" itemprop=\"description\"> <ul> <li> Collaborated with Customer Care / In-Flight Managers to create strategic plans to en- hance customer satisfaction.</li> <li> Provided employees with tools to maintain and increase service levels to both internal and external customers.</li> <li> Increased employee knowledge by assisting with development and implementation of product-awareness program.</li> <li> Served as In-Flight Training Instructor.</li> <li> Emergency Safety (First Aide, CPR &amp; Automated External Defibrillator) ·     Emergency Procedures ·     Crew Resource Management to Line Holding Pilots &amp; Flight Attendants ·     Security ·     Serving ·     Customer Service ·     Aircraft Specifics ·     I.O.E.</li> <li> Qualified.</li> </ul> </span> </span> </div> </div> </div> <div class=\"section\" id=\"SECTION_EDUC529791002\" style=\"\n      padding-top:0px;\n    \"> <div class=\"heading\"> <div class=\"sectiontitle thinbottomborder\" id=\"SECTNAME_EDUC529791002\"> Education</div> </div> <div class=\"paragraph firstparagraph\" id=\"PARAGRAPH_529791002_1_346035642\" itemscope=\"\" itemtype=\"https://schema.org/EducationalOrganization\" style=\"\n      padding-top:0px;\n    \"> <div class=\"singlecolumn\"> <span class=\"paddedline\" itemprop=\"description\"> <span class=\"degree\" dependency=\"DGRE\" id=\"529791002DGRE1\" itemprop=\"name\"> Bachelor of Arts</span> <span>  : </span> <span class=\"programline\" dependency=\"STUY\" id=\"529791002STUY1\"> Psychology Social Sciences</span> <span class=\"jobdates\" id=\"529791002GRYR1\"> </span> </span> <span class=\"paddedline\"> <span class=\"companyname companyname_educ\" dependency=\"SCHO\" id=\"529791002SCHO1\" itemprop=\"name\"> The University of Louisville</span> <span>  － </span> <span class=\"joblocation jobcity\" id=\"529791002SCIT1\"> City</span> <span> , </span> <span class=\"joblocation jobstate\" id=\"529791002SSTA1\"> State</span> <span class=\"joblocation jobstate\" id=\"529791002SCNT1\"> </span> </span> <span class=\"paddedline\"> <span class=\"field\" id=\"529791002FRFM1\"> Psychology Social Sciences</span> </span> </div> </div> <div class=\"paragraph\" id=\"PARAGRAPH_529791002_2_346035643\" itemscope=\"\" itemtype=\"https://schema.org/EducationalOrganization\" style=\"\n      padding-top:0px;\n    \"> <div class=\"singlecolumn\"> <span class=\"paddedline\" itemprop=\"description\"> <span class=\"degree\" dependency=\"DGRE\" id=\"529791002DGRE2\" itemprop=\"name\"> High School Diploma</span> <span class=\"programline\" dependency=\"STUY\" id=\"529791002STUY2\"> </span> <span class=\"jobdates\" id=\"529791002GRYR2\"> </span> </span> <span class=\"paddedline\"> <span class=\"companyname companyname_educ\" dependency=\"SCHO\" id=\"529791002SCHO2\" itemprop=\"name\"> Presentation Academy</span> <span>  － </span> <span class=\"joblocation jobcity\" id=\"529791002SCIT2\"> City</span> <span> , </span> <span class=\"joblocation jobstate\" id=\"529791002SSTA2\"> State</span> <span class=\"joblocation jobstate\" id=\"529791002SCNT2\"> </span> </span> <span class=\"paddedline\"> <span class=\"field\" id=\"529791002FRFM2\"> </span> </span> </div> </div> </div> <div class=\"section\" id=\"SECTION_INTR529791005\" style=\"\n      padding-top:0px;\n    \"> <div class=\"heading\"> <div class=\"sectiontitle thinbottomborder\" id=\"SECTNAME_INTR529791005\"> Interests</div> </div> <div class=\"paragraph firstparagraph\" id=\"PARAGRAPH_529791005_1_346035645\" style=\"\n      padding-top:0px;\n    \"> <div class=\"field singlecolumn\" id=\"529791005FRFM1\"> Enjoy playing Tennis, Skiing, Flying and Photography. Psi Chi Member: The National Honor So- ciety of Psychology - Secretary/Treasurer. The Louisville Science Center; Twinbrook Nursing Home, The Home of the Innocence; Meredith Dunn Day Care Center and Retreat Leader, Deaf Adult/Youth Community events, Mini Deaf Olympics, The Junior League of Louisville &amp; Ovarian Awareness of Kentucky Advisory Board member. </div> </div> </div> <div class=\"section\" id=\"SECTION_SKLL529791006\" style=\"\n      padding-top:0px;\n    \"> <div class=\"heading\"> <div class=\"sectiontitle thinbottomborder\" id=\"SECTNAME_SKLL529791006\"> Skills</div> </div> <div class=\"paragraph firstparagraph\" id=\"PARAGRAPH_529791006_1_346035647\" style=\"\n      padding-top:0px;\n    \"> <div class=\"field singlecolumn\" id=\"529791006FRFM1\"> Adobe, CPR, clients, customer satisfaction, Customer Service, Customer Care, forms, Fundraising, Instructor, Interior design, letters, Mac, Director, marketing materials, meetings, Access, Excel, office, Outlook, PowerPoint, Publisher, Windows XP, Word, Norton, Operating Systems, Profit, QuickBooks, Safety, Sage, strategic plans, Teaching, travel arrangements, Vista, website</div> </div> </div> <div class=\"section\" id=\"SECTION_ADDI529791007\" style=\"\n      padding-top:0px;\n    \"> <div class=\"heading\"> <div class=\"sectiontitle thinbottomborder\" id=\"SECTNAME_ADDI529791007\"> Additional Information</div> </div> <div class=\"paragraph firstparagraph\" id=\"PARAGRAPH_529791007_1_346035648\" style=\"\n      padding-top:0px;\n    \"> <div class=\"field singlecolumn\" id=\"529791007FRFM1\"> <ul> <li> HOBBIES AND VOLUNTEER SERVICES Enjoy playing Tennis, Skiing, Flying and Photography. Psi Chi Member: The National Honor So- ciety of Psychology - Secretary/Treasurer. The Louisville Science Center; Twinbrook Nursing Home, The Home of the Innocence; Meredith Dunn Day Care Center and Retreat Leader, Deaf Adult/Youth Community events, Mini Deaf Olympics, The Junior League of Louisville &amp; Ovarian Awareness of Kentucky Advisory Board member. </li> </ul> </div> </div> </div> </div>",
         "AVIATION"
        ],
        [
         "2483",
         "37473139",
         "         STOREKEEPER II       Professional Summary    The purpose of this document is to secure a responsible career position that fully utilizes educational knowledge and experience while contributing to the goals and values of this organization. Having a friendly attitude and worm personality is an appreciated strong point, as it aided in building positive relationships with customers. As a result, repeat and satisfied customers were well known during career at Pioneer Packaging as well as while working for City of Peoria. Helping people is one of my best characteristics. Obtaining several years experience contacting vendors, answering phones and face to face contact with the public and governmental personnel has honed my customer service abilities. Problem solving skills and a positive work ethic makes communication easier. I am devoted and dedicated to serving in any way possible, and strive to accomplish assigned tasks quickly and efficiently. Exceptional people skills allow the ability to manage personnel and take care of conflicts, disputes and other personal needs of employees. Procurement and Purchasing: Over 10 years processing purchase orders. Primary vendor contact for Inventory Control and Fleet parts room purchases. Highly proficient utilizing inventory procurement practices and procedures.       Skills                    Work History      STOREKEEPER II       |   January 2002   -   January 2013     Maintaining and reconciling inventory through clerical support, using PeopleSoft to procure and receive shipments obtained by purchase order.  Create excel spread sheets for reports, manage inventory files and research inventory problems.  Conduct inventory cycle counts, coordinate stock and document transactions.  CSR): Provide Customer Service to Departmental and Fleet Maintenance Personnel, process work orders and fill Fleet Purchase Requisitions, contact vendors to procure fuel, parts and other automobile and truck supplies for fleet services.  Trainer: Forklift Operator Safety.         Company Name     Shipping: Fulfill orders with use of Infrared Scanning System (IFR).  Forklift operator: Four-stage electronic single person picker for order pulling and staging.  Word processing: Input shipping orders for USPS, UPS, FedEx, and other common carriers.  Prepare overseas containers for shipment; verify quantities, shipment labels and paperwork.         Company Name    WAREHOUSE FLOOR SUPERVISOR       |   January 1996   -   January 2001     Performance areas include: Interviewing prospective employees for higher.  Providing daily instruction to warehouse personnel and dispatching drivers for deliveries and pickups.  Routine cycle counts of inventory insure and verify, proper placement of inventory.  Receive all incoming shipments and verify counts create stock locations.  Maintain inventory and quality control procedures.  ACCOMPLISHMENTS Personal: Due to specialized training and procurement practices the City of Peoria had an annual savings of $1500.00 annually on costs of goods acquired by purchase order during career.  By developing a spreadsheet to record material requisitions and receiving logs, our department was able to stop purchasing preprinted forms from local vendor, as a result monthly operational cost were reduced.  Man hours during cycle counts and order pulling were also reduced through consolidating bulk inventory into more manageable amounts with the use of poly-bags rather than just dumping items into bin boxes.  Note: The points mentioned above are a small portion of the ideas introduced during career at City of Peoria.         Company Name    Aviation Structural Mechanic   |   City  ,   State         Line division supervisor assistant, plain captain while in line division.  Worked as an aircraft hydraulic and structural systems mechanic as a member of Naval Aircraft Squadron VS-38.  Received General under Honorable Conditions Discharge.  NJROTC, (Navy Junior Recruit Officer Training Corps).         Education      Bachelor's Degree    Business Management Administration    Grand Canyon University    City  ,   State     Business Management Administration       Associate Degree        National Education Center    City  ,   State            Graduate        Naval Aviation A School    City  ,   State            Certified Trainer Forklift Truck Operator Safety\nAutoCAD Certificate in Architectural Drafting\nLlewellyn Technology, Certificate, Electro Mechanical Systems Repair        City  ,   State     Training also includes repair of Signode banding and tie wrapping machines, Synergy, Minipac-poly shrink film packaging systems, remove and replace damaged parts and components, and mechanical devices.       Skills    Architectural Drafting, AutoCAD, clerical, Customer Service, Data Entry, dispatching, drivers, film, Forklift, Forklift Operator, forms, instruction, inventory, Mechanical, mechanic, Excel, Microsoft Office, PowerPoint, Windows, Word, Navy, Naval, packaging, PeopleSoft, PeopleSoft 9.0, Personnel, presentations, procurement, purchasing, quality control, receiving, reconciling, research, Safety, Scanning, Shipping, spreadsheets, spread sheets, spreadsheet, supervisor, Trainer, Word Processing, Word Perfect   ",
         "<div class=\"fontsize fontface vmargins hmargins linespacing pagesize\" id=\"document\"> <div class=\"section firstsection\" id=\"SECTION_NAME515694141\" style=\"\n      padding-top:0px;\n    \"> <div class=\"paragraph PARAGRAPH_NAME firstparagraph\" id=\"PARAGRAPH_515694141_1_336694356\"> <div class=\"name\" itemprop=\"name\"> <span class=\"field\" id=\"515694141FNAM1\"> </span> <span> </span> <span class=\"field\" id=\"515694141LNAM1\"> STOREKEEPER II</span> </div> </div> </div> <div class=\"section\" id=\"SECTION_SUMM515694145\" style=\"\n      padding-top:0px;\n    \"> <div class=\"heading\"> <div class=\"sectiontitle\" id=\"SECTNAME_SUMM515694145\"> Professional Summary</div> </div> <div class=\"paragraph smry firstparagraph\" id=\"PARAGRAPH_515694145_1_336694366\"> <div class=\"field singlecolumn\" id=\"515694145FRFM1\"> The purpose of this document is to secure a responsible career position that fully utilizes educational knowledge and experience while contributing to the goals and values of this organization. Having a friendly attitude and worm personality is an appreciated strong point, as it aided in building positive relationships with customers. As a result, repeat and satisfied customers were well known during career at Pioneer Packaging as well as while working for City of Peoria. Helping people is one of my best characteristics. Obtaining several years experience contacting vendors, answering phones and face to face contact with the public and governmental personnel has honed my customer service abilities. Problem solving skills and a positive work ethic makes communication easier. I am devoted and dedicated to serving in any way possible, and strive to accomplish assigned tasks quickly and efficiently. Exceptional people skills allow the ability to manage personnel and take care of conflicts, disputes and other personal needs of employees. Procurement and Purchasing: Over 10 years processing purchase orders. Primary vendor contact for Inventory Control and Fleet parts room purchases. Highly proficient utilizing inventory procurement practices and procedures. </div> </div> </div> <div class=\"section\" id=\"SECTION_HILT515694524\" style=\"\n      padding-top:0px;\n    \"> <div class=\"heading\"> <div class=\"sectiontitle\" id=\"SECTNAME_HILT515694524\"> Skills</div> </div> <div class=\"paragraph firstparagraph\" id=\"PARAGRAPH_515694524_1\"> <div class=\"singlecolumn maincolumn\"> <table class=\"twocol\"> <tbody> <tr> <td class=\"field twocol_1\" id=\"515694524SKC11\"> </td> <td class=\"field twocol_2\" id=\"515694524SKC21\"> </td> </tr> </tbody> </table> </div> </div> </div> <div class=\"section\" id=\"SECTION_EXPR515694143\" style=\"\n      padding-top:0px;\n    \"> <div class=\"heading\"> <div class=\"sectiontitle\" id=\"SECTNAME_EXPR515694143\"> Work History</div> </div> <div class=\"paragraph firstparagraph\" id=\"PARAGRAPH_515694143_1_336694358\" itemscope=\"\" itemtype=\"https://schema.org/Organization\"> <div class=\"singlecolumn\"> <span class=\"paddedline grayItl\" itemscope=\"\" itemtype=\"https://schema.org/postalAddress\"> <span class=\"jobtitle\" id=\"515694143JTIT1\"> STOREKEEPER II</span> <span class=\"joblocation\" id=\"515694143JCIT1\" itemprop=\"addressLocality\"> </span> <span class=\"joblocation\" id=\"515694143JSTA1\" itemprop=\"addressRegion\"> </span> <span>  | </span> <span class=\"jobdates\" format=\"%B %Y\" id=\"515694143JSTD1\"> January 2002</span> <span>  - </span> <span class=\"jobdates\" format=\"%B %Y\" id=\"515694143EDDT1\"> January 2013</span> </span> <span class=\"jobline\" id=\"515694143JDES1\" itemprop=\"description\"> <ul> <li> Maintaining and reconciling inventory through clerical support, using PeopleSoft to procure and receive shipments obtained by purchase order.</li> <li> Create excel spread sheets for reports, manage inventory files and research inventory problems.</li> <li> Conduct inventory cycle counts, coordinate stock and document transactions.</li> <li> CSR): Provide Customer Service to Departmental and Fleet Maintenance Personnel, process work orders and fill Fleet Purchase Requisitions, contact vendors to procure fuel, parts and other automobile and truck supplies for fleet services.</li> <li> Trainer: Forklift Operator Safety.</li> </ul> </span> </div> </div> <div class=\"paragraph\" id=\"PARAGRAPH_515694143_2_336694359\"> <div class=\"singlecolumn\"> <span class=\"paddedline\"> <span class=\"companyname\" id=\"515694143COMP2\" itemprop=\"name\"> Company Name</span> </span> <span class=\"jobline\" id=\"515694143JDES2\" itemprop=\"description\"> <ul> <li> Shipping: Fulfill orders with use of Infrared Scanning System (IFR).</li> <li> Forklift operator: Four-stage electronic single person picker for order pulling and staging.</li> <li> Word processing: Input shipping orders for USPS, UPS, FedEx, and other common carriers.</li> <li> Prepare overseas containers for shipment; verify quantities, shipment labels and paperwork.</li> </ul> </span> </div> </div> <div class=\"paragraph\" id=\"PARAGRAPH_515694143_3_336694360\" itemscope=\"\" itemtype=\"https://schema.org/Organization\"> <div class=\"singlecolumn\"> <span class=\"paddedline\"> <span class=\"companyname\" id=\"515694143COMP3\" itemprop=\"name\"> Company Name</span> </span> <span class=\"paddedline grayItl\" itemscope=\"\" itemtype=\"https://schema.org/postalAddress\"> <span class=\"jobtitle\" id=\"515694143JTIT3\"> WAREHOUSE FLOOR SUPERVISOR</span> <span class=\"joblocation\" id=\"515694143JCIT3\" itemprop=\"addressLocality\"> </span> <span class=\"joblocation\" id=\"515694143JSTA3\" itemprop=\"addressRegion\"> </span> <span>  | </span> <span class=\"jobdates\" format=\"%B %Y\" id=\"515694143JSTD3\"> January 1996</span> <span>  - </span> <span class=\"jobdates\" format=\"%B %Y\" id=\"515694143EDDT3\"> January 2001</span> </span> <span class=\"jobline\" id=\"515694143JDES3\" itemprop=\"description\"> <ul> <li> Performance areas include: Interviewing prospective employees for higher.</li> <li> Providing daily instruction to warehouse personnel and dispatching drivers for deliveries and pickups.</li> <li> Routine cycle counts of inventory insure and verify, proper placement of inventory.</li> <li> Receive all incoming shipments and verify counts create stock locations.</li> <li> Maintain inventory and quality control procedures.</li> <li> ACCOMPLISHMENTS Personal: Due to specialized training and procurement practices the City of Peoria had an annual savings of $1500.00 annually on costs of goods acquired by purchase order during career.</li> <li> By developing a spreadsheet to record material requisitions and receiving logs, our department was able to stop purchasing preprinted forms from local vendor, as a result monthly operational cost were reduced.</li> <li> Man hours during cycle counts and order pulling were also reduced through consolidating bulk inventory into more manageable amounts with the use of poly-bags rather than just dumping items into bin boxes.</li> <li> Note: The points mentioned above are a small portion of the ideas introduced during career at City of Peoria.</li> </ul> </span> </div> </div> <div class=\"paragraph\" id=\"PARAGRAPH_515694143_4_336694361\" itemscope=\"\" itemtype=\"https://schema.org/Organization\"> <div class=\"singlecolumn\"> <span class=\"paddedline\"> <span class=\"companyname\" id=\"515694143COMP4\" itemprop=\"name\"> Company Name</span> </span> <span class=\"paddedline grayItl\" itemscope=\"\" itemtype=\"https://schema.org/postalAddress\"> <span class=\"jobtitle\" id=\"515694143JTIT4\"> Aviation Structural Mechanic</span> <span>  | </span> <span class=\"joblocation\" id=\"515694143JCIT4\" itemprop=\"addressLocality\"> City</span> <span> , </span> <span class=\"joblocation\" id=\"515694143JSTA4\" itemprop=\"addressRegion\"> State</span> <span class=\"jobdates\" format=\"%B %Y\" id=\"515694143JSTD4\"> </span> <span class=\"jobdates\" format=\"%B %Y\" id=\"515694143EDDT4\"> </span> </span> <span class=\"jobline\" id=\"515694143JDES4\" itemprop=\"description\"> <ul> <li> Line division supervisor assistant, plain captain while in line division.</li> <li> Worked as an aircraft hydraulic and structural systems mechanic as a member of Naval Aircraft Squadron VS-38.</li> <li> Received General under Honorable Conditions Discharge.</li> <li> NJROTC, (Navy Junior Recruit Officer Training Corps).</li> </ul> </span> </div> </div> </div> <div class=\"section\" id=\"SECTION_EDUC515694144\" style=\"\n      padding-top:0px;\n    \"> <div class=\"heading\"> <div class=\"sectiontitle\" id=\"SECTNAME_EDUC515694144\"> Education</div> </div> <div class=\"paragraph firstparagraph\" id=\"PARAGRAPH_515694144_1_336694362\" itemscope=\"\" itemtype=\"https://schema.org/EducationalOrganization\"> <div class=\"singlecolumn\"> <span class=\"paddedline\" itemprop=\"description\"> <span class=\"degree\" id=\"515694144DGRE1\" itemprop=\"name\"> Bachelor's Degree</span> <span> </span> <span class=\"programline\" id=\"515694144STUY1\"> Business Management Administration</span> </span> <span class=\"paddedline\"> <span id=\"515694144SCHO1\"> Grand Canyon University</span> </span> <span class=\"paddedline grayItl\"> <span id=\"515694144SCIT1\"> City</span> <span> , </span> <span id=\"515694144SSTA1\"> State</span> <span id=\"515694144GRYR1\"> </span> </span> <span class=\"field\" id=\"515694144FRFM1\"> Business Management Administration</span> </div> </div> <div class=\"paragraph\" id=\"PARAGRAPH_515694144_2_336694363\" itemscope=\"\" itemtype=\"https://schema.org/EducationalOrganization\"> <div class=\"singlecolumn\"> <span class=\"paddedline\" itemprop=\"description\"> <span class=\"degree\" id=\"515694144DGRE2\" itemprop=\"name\"> Associate Degree</span> <span> </span> <span class=\"programline\" id=\"515694144STUY2\"> </span> </span> <span class=\"paddedline\"> <span id=\"515694144SCHO2\"> National Education Center</span> </span> <span class=\"paddedline grayItl\"> <span id=\"515694144SCIT2\"> City</span> <span> , </span> <span id=\"515694144SSTA2\"> State</span> <span id=\"515694144GRYR2\"> </span> </span> <span class=\"field\" id=\"515694144FRFM2\"> </span> </div> </div> <div class=\"paragraph\" id=\"PARAGRAPH_515694144_3_336694364\" itemscope=\"\" itemtype=\"https://schema.org/EducationalOrganization\"> <div class=\"singlecolumn\"> <span class=\"paddedline\" itemprop=\"description\"> <span class=\"degree\" id=\"515694144DGRE3\" itemprop=\"name\"> Graduate</span> <span> </span> <span class=\"programline\" id=\"515694144STUY3\"> </span> </span> <span class=\"paddedline\"> <span id=\"515694144SCHO3\"> Naval Aviation A School</span> </span> <span class=\"paddedline grayItl\"> <span id=\"515694144SCIT3\"> City</span> <span> , </span> <span id=\"515694144SSTA3\"> State</span> <span id=\"515694144GRYR3\"> </span> </span> <span class=\"field\" id=\"515694144FRFM3\"> </span> </div> </div> <div class=\"paragraph\" id=\"PARAGRAPH_515694144_4_336694365\" itemscope=\"\" itemtype=\"https://schema.org/EducationalOrganization\"> <div class=\"singlecolumn\"> <span class=\"paddedline\" itemprop=\"description\"> <span class=\"degree\" id=\"515694144DGRE4\" itemprop=\"name\"> Certified Trainer Forklift Truck Operator Safety\nAutoCAD Certificate in Architectural Drafting\nLlewellyn Technology, Certificate, Electro Mechanical Systems Repair</span> <span> </span> <span class=\"programline\" id=\"515694144STUY4\"> </span> </span> <span class=\"paddedline grayItl\"> <span id=\"515694144SCIT4\"> City</span> <span> , </span> <span id=\"515694144SSTA4\"> State</span> <span id=\"515694144GRYR4\"> </span> </span> <span class=\"field\" id=\"515694144FRFM4\"> Training also includes repair of Signode banding and tie wrapping machines, Synergy, Minipac-poly shrink film packaging systems, remove and replace damaged parts and components, and mechanical devices.</span> </div> </div> </div> <div class=\"section\" id=\"SECTION_SKLL515694147\" style=\"\n      padding-top:0px;\n    \"> <div class=\"heading\"> <div class=\"sectiontitle\" id=\"SECTNAME_SKLL515694147\"> Skills</div> </div> <div class=\"paragraph firstparagraph\" id=\"PARAGRAPH_515694147_1_336694368\"> <div class=\"field singlecolumn\" id=\"515694147FRFM1\"> Architectural Drafting, AutoCAD, clerical, Customer Service, Data Entry, dispatching, drivers, film, Forklift, Forklift Operator, forms, instruction, inventory, Mechanical, mechanic, Excel, Microsoft Office, PowerPoint, Windows, Word, Navy, Naval, packaging, PeopleSoft, PeopleSoft 9.0, Personnel, presentations, procurement, purchasing, quality control, receiving, reconciling, research, Safety, Scanning, Shipping, spreadsheets, spread sheets, spreadsheet, supervisor, Trainer, Word Processing, Word Perfect</div> </div> </div> </div>",
         "AVIATION"
        ]
       ],
       "shape": {
        "columns": 4,
        "rows": 5
       }
      },
      "text/html": [
       "<div>\n",
       "<style scoped>\n",
       "    .dataframe tbody tr th:only-of-type {\n",
       "        vertical-align: middle;\n",
       "    }\n",
       "\n",
       "    .dataframe tbody tr th {\n",
       "        vertical-align: top;\n",
       "    }\n",
       "\n",
       "    .dataframe thead th {\n",
       "        text-align: right;\n",
       "    }\n",
       "</style>\n",
       "<table border=\"1\" class=\"dataframe\">\n",
       "  <thead>\n",
       "    <tr style=\"text-align: right;\">\n",
       "      <th></th>\n",
       "      <th>ID</th>\n",
       "      <th>Resume_str</th>\n",
       "      <th>Resume_html</th>\n",
       "      <th>Category</th>\n",
       "    </tr>\n",
       "  </thead>\n",
       "  <tbody>\n",
       "    <tr>\n",
       "      <th>2479</th>\n",
       "      <td>99416532</td>\n",
       "      <td>RANK: SGT/E-5 NON- COMMISSIONED OFFIC...</td>\n",
       "      <td>&lt;div class=\"fontsize fontface vmargins hmargin...</td>\n",
       "      <td>AVIATION</td>\n",
       "    </tr>\n",
       "    <tr>\n",
       "      <th>2480</th>\n",
       "      <td>24589765</td>\n",
       "      <td>GOVERNMENT RELATIONS, COMMUNICATIONS ...</td>\n",
       "      <td>&lt;div class=\"fontsize fontface vmargins hmargin...</td>\n",
       "      <td>AVIATION</td>\n",
       "    </tr>\n",
       "    <tr>\n",
       "      <th>2481</th>\n",
       "      <td>31605080</td>\n",
       "      <td>GEEK SQUAD AGENT         Professional...</td>\n",
       "      <td>&lt;div class=\"fontsize fontface vmargins hmargin...</td>\n",
       "      <td>AVIATION</td>\n",
       "    </tr>\n",
       "    <tr>\n",
       "      <th>2482</th>\n",
       "      <td>21190805</td>\n",
       "      <td>PROGRAM DIRECTOR / OFFICE MANAGER    ...</td>\n",
       "      <td>&lt;div class=\"fontsize fontface vmargins hmargin...</td>\n",
       "      <td>AVIATION</td>\n",
       "    </tr>\n",
       "    <tr>\n",
       "      <th>2483</th>\n",
       "      <td>37473139</td>\n",
       "      <td>STOREKEEPER II       Professional Sum...</td>\n",
       "      <td>&lt;div class=\"fontsize fontface vmargins hmargin...</td>\n",
       "      <td>AVIATION</td>\n",
       "    </tr>\n",
       "  </tbody>\n",
       "</table>\n",
       "</div>"
      ],
      "text/plain": [
       "            ID                                         Resume_str  \\\n",
       "2479  99416532           RANK: SGT/E-5 NON- COMMISSIONED OFFIC...   \n",
       "2480  24589765           GOVERNMENT RELATIONS, COMMUNICATIONS ...   \n",
       "2481  31605080           GEEK SQUAD AGENT         Professional...   \n",
       "2482  21190805           PROGRAM DIRECTOR / OFFICE MANAGER    ...   \n",
       "2483  37473139           STOREKEEPER II       Professional Sum...   \n",
       "\n",
       "                                            Resume_html  Category  \n",
       "2479  <div class=\"fontsize fontface vmargins hmargin...  AVIATION  \n",
       "2480  <div class=\"fontsize fontface vmargins hmargin...  AVIATION  \n",
       "2481  <div class=\"fontsize fontface vmargins hmargin...  AVIATION  \n",
       "2482  <div class=\"fontsize fontface vmargins hmargin...  AVIATION  \n",
       "2483  <div class=\"fontsize fontface vmargins hmargin...  AVIATION  "
      ]
     },
     "execution_count": 3,
     "metadata": {},
     "output_type": "execute_result"
    }
   ],
   "source": [
    "# Load the resumes data\n",
    "resumes = pd.read_csv(\"Resume.csv\")\n",
    "resumes.tail()"
   ]
  },
  {
   "cell_type": "markdown",
   "id": "bdcafde5",
   "metadata": {},
   "source": [
    "## 3. Data Preprocessing"
   ]
  },
  {
   "cell_type": "code",
   "execution_count": 4,
   "id": "c25b832f",
   "metadata": {},
   "outputs": [
    {
     "data": {
      "application/vnd.microsoft.datawrangler.viewer.v0+json": {
       "columns": [
        {
         "name": "category",
         "rawType": "object",
         "type": "string"
        },
        {
         "name": "count",
         "rawType": "int64",
         "type": "integer"
        }
       ],
       "ref": "5ef142db-7b17-42e5-ad95-e7063b127203",
       "rows": [
        [
         "Teaching Jobs",
         "127"
        ],
        [
         "Engineering Jobs",
         "50"
        ],
        [
         "IT Jobs",
         "39"
        ],
        [
         "Healthcare & Nursing Jobs",
         "37"
        ],
        [
         "Social work Jobs",
         "30"
        ],
        [
         "Legal Jobs",
         "29"
        ],
        [
         "Sales Jobs",
         "23"
        ],
        [
         "Customer Services Jobs",
         "23"
        ],
        [
         "Hospitality & Catering Jobs",
         "22"
        ],
        [
         "Logistics & Warehouse Jobs",
         "18"
        ],
        [
         "Trade & Construction Jobs",
         "15"
        ],
        [
         "Accounting & Finance Jobs",
         "13"
        ],
        [
         "Retail Jobs",
         "10"
        ],
        [
         "Graduate Jobs",
         "10"
        ],
        [
         "Manufacturing Jobs",
         "10"
        ],
        [
         "PR, Advertising & Marketing Jobs",
         "9"
        ],
        [
         "Domestic help & Cleaning Jobs",
         "8"
        ],
        [
         "HR & Recruitment Jobs",
         "6"
        ],
        [
         "Admin Jobs",
         "6"
        ],
        [
         "Part time Jobs",
         "4"
        ],
        [
         "Consultancy Jobs",
         "3"
        ],
        [
         "Maintenance Jobs",
         "3"
        ],
        [
         "Property Jobs",
         "2"
        ],
        [
         "Other/General Jobs",
         "2"
        ],
        [
         "Creative & Design Jobs",
         "1"
        ]
       ],
       "shape": {
        "columns": 1,
        "rows": 25
       }
      },
      "text/plain": [
       "category\n",
       "Teaching Jobs                       127\n",
       "Engineering Jobs                     50\n",
       "IT Jobs                              39\n",
       "Healthcare & Nursing Jobs            37\n",
       "Social work Jobs                     30\n",
       "Legal Jobs                           29\n",
       "Sales Jobs                           23\n",
       "Customer Services Jobs               23\n",
       "Hospitality & Catering Jobs          22\n",
       "Logistics & Warehouse Jobs           18\n",
       "Trade & Construction Jobs            15\n",
       "Accounting & Finance Jobs            13\n",
       "Retail Jobs                          10\n",
       "Graduate Jobs                        10\n",
       "Manufacturing Jobs                   10\n",
       "PR, Advertising & Marketing Jobs      9\n",
       "Domestic help & Cleaning Jobs         8\n",
       "HR & Recruitment Jobs                 6\n",
       "Admin Jobs                            6\n",
       "Part time Jobs                        4\n",
       "Consultancy Jobs                      3\n",
       "Maintenance Jobs                      3\n",
       "Property Jobs                         2\n",
       "Other/General Jobs                    2\n",
       "Creative & Design Jobs                1\n",
       "Name: count, dtype: int64"
      ]
     },
     "execution_count": 4,
     "metadata": {},
     "output_type": "execute_result"
    }
   ],
   "source": [
    "jobs_gb['category'].value_counts()"
   ]
  },
  {
   "cell_type": "code",
   "execution_count": 5,
   "id": "004c6f93",
   "metadata": {},
   "outputs": [
    {
     "data": {
      "application/vnd.microsoft.datawrangler.viewer.v0+json": {
       "columns": [
        {
         "name": "Category",
         "rawType": "object",
         "type": "string"
        },
        {
         "name": "count",
         "rawType": "int64",
         "type": "integer"
        }
       ],
       "ref": "b5015bfc-4876-48f2-8c59-ff7ab0b66d7b",
       "rows": [
        [
         "INFORMATION-TECHNOLOGY",
         "120"
        ],
        [
         "BUSINESS-DEVELOPMENT",
         "120"
        ],
        [
         "FINANCE",
         "118"
        ],
        [
         "ADVOCATE",
         "118"
        ],
        [
         "ACCOUNTANT",
         "118"
        ],
        [
         "ENGINEERING",
         "118"
        ],
        [
         "CHEF",
         "118"
        ],
        [
         "AVIATION",
         "117"
        ],
        [
         "FITNESS",
         "117"
        ],
        [
         "SALES",
         "116"
        ],
        [
         "BANKING",
         "115"
        ],
        [
         "HEALTHCARE",
         "115"
        ],
        [
         "CONSULTANT",
         "115"
        ],
        [
         "CONSTRUCTION",
         "112"
        ],
        [
         "PUBLIC-RELATIONS",
         "111"
        ],
        [
         "HR",
         "110"
        ],
        [
         "DESIGNER",
         "107"
        ],
        [
         "ARTS",
         "103"
        ],
        [
         "TEACHER",
         "102"
        ],
        [
         "APPAREL",
         "97"
        ],
        [
         "DIGITAL-MEDIA",
         "96"
        ],
        [
         "AGRICULTURE",
         "63"
        ],
        [
         "AUTOMOBILE",
         "36"
        ],
        [
         "BPO",
         "22"
        ]
       ],
       "shape": {
        "columns": 1,
        "rows": 24
       }
      },
      "text/plain": [
       "Category\n",
       "INFORMATION-TECHNOLOGY    120\n",
       "BUSINESS-DEVELOPMENT      120\n",
       "FINANCE                   118\n",
       "ADVOCATE                  118\n",
       "ACCOUNTANT                118\n",
       "ENGINEERING               118\n",
       "CHEF                      118\n",
       "AVIATION                  117\n",
       "FITNESS                   117\n",
       "SALES                     116\n",
       "BANKING                   115\n",
       "HEALTHCARE                115\n",
       "CONSULTANT                115\n",
       "CONSTRUCTION              112\n",
       "PUBLIC-RELATIONS          111\n",
       "HR                        110\n",
       "DESIGNER                  107\n",
       "ARTS                      103\n",
       "TEACHER                   102\n",
       "APPAREL                    97\n",
       "DIGITAL-MEDIA              96\n",
       "AGRICULTURE                63\n",
       "AUTOMOBILE                 36\n",
       "BPO                        22\n",
       "Name: count, dtype: int64"
      ]
     },
     "execution_count": 5,
     "metadata": {},
     "output_type": "execute_result"
    }
   ],
   "source": [
    "# Check the number of unique categories in the resumes dataset\n",
    "resumes['Category'].value_counts()"
   ]
  },
  {
   "cell_type": "code",
   "execution_count": 6,
   "id": "1f02a205",
   "metadata": {},
   "outputs": [
    {
     "data": {
      "image/png": "[encoded data removed]",
      "text/plain": [
       "<Figure size 1200x800 with 1 Axes>"
      ]
     },
     "metadata": {},
     "output_type": "display_data"
    }
   ],
   "source": [
    "# use heatmap to visualize the missing values in the jobs dataset\n",
    "plt.figure(figsize=(12, 8))\n",
    "sns.heatmap(jobs_gb.isnull(), cbar=False, cmap='viridis')\n",
    "plt.title(\"Missing Values in Jobs Dataset\")\n",
    "plt.show()"
   ]
  },
  {
   "cell_type": "code",
   "execution_count": 7,
   "id": "a52da5b9",
   "metadata": {},
   "outputs": [
    {
     "data": {
      "application/vnd.microsoft.datawrangler.viewer.v0+json": {
       "columns": [
        {
         "name": "index",
         "rawType": "object",
         "type": "string"
        },
        {
         "name": "0",
         "rawType": "int64",
         "type": "integer"
        }
       ],
       "ref": "ec0e6b55-41ab-49be-8058-baff4013c5d6",
       "rows": [
        [
         "id",
         "0"
        ],
        [
         "title",
         "0"
        ],
        [
         "company",
         "5"
        ],
        [
         "location",
         "0"
        ],
        [
         "category",
         "0"
        ],
        [
         "created",
         "0"
        ],
        [
         "url",
         "0"
        ],
        [
         "description",
         "0"
        ],
        [
         "salary_min",
         "0"
        ],
        [
         "salary_max",
         "1"
        ],
        [
         "contract_type",
         "183"
        ],
        [
         "contract_time",
         "169"
        ]
       ],
       "shape": {
        "columns": 1,
        "rows": 12
       }
      },
      "text/plain": [
       "id                 0\n",
       "title              0\n",
       "company            5\n",
       "location           0\n",
       "category           0\n",
       "created            0\n",
       "url                0\n",
       "description        0\n",
       "salary_min         0\n",
       "salary_max         1\n",
       "contract_type    183\n",
       "contract_time    169\n",
       "dtype: int64"
      ]
     },
     "execution_count": 7,
     "metadata": {},
     "output_type": "execute_result"
    }
   ],
   "source": [
    "#resumes.isnull().sum()  no missing values in the resumes dataset\n",
    "# check for missing values in the different columns\n",
    "jobs_gb.isnull().sum()"
   ]
  },
  {
   "cell_type": "code",
   "execution_count": 8,
   "id": "e07df995",
   "metadata": {},
   "outputs": [],
   "source": [
    "# Standardize column names\n",
    "resumes.columns = resumes.columns.str.strip().str.lower()\n",
    "jobs_gb.columns = jobs_gb.columns.str.strip().str.lower()"
   ]
  },
  {
   "cell_type": "code",
   "execution_count": 9,
   "id": "a49184af",
   "metadata": {},
   "outputs": [],
   "source": [
    "# Fill the missing values in contract type, contract time and company with 'unknown' and salary max with 0\n",
    "jobs_gb.fillna({'salary_max':0}, inplace=True)\n",
    "jobs_gb.fillna({'contract_type':'unknown'}, inplace=True)\n",
    "jobs_gb.fillna({'contract_time':'unknown'}, inplace=True)\n",
    "jobs_gb.fillna({'commpany':'unknown'}, inplace=True)"
   ]
  },
  {
   "cell_type": "code",
   "execution_count": 10,
   "id": "af887439",
   "metadata": {},
   "outputs": [],
   "source": [
    "# Drop url column in the jobs dataset and resume_html in resumes dataset\n",
    "jobs_gb.drop(columns='url', inplace=True)\n",
    "resumes.drop(columns='resume_html', inplace=True)"
   ]
  },
  {
   "cell_type": "code",
   "execution_count": 11,
   "id": "bf07daf0",
   "metadata": {},
   "outputs": [
    {
     "data": {
      "application/vnd.microsoft.datawrangler.viewer.v0+json": {
       "columns": [
        {
         "name": "index",
         "rawType": "object",
         "type": "string"
        },
        {
         "name": "0",
         "rawType": "object",
         "type": "unknown"
        }
       ],
       "ref": "af3f3d60-f37a-44bf-8068-e074f6fe7cbd",
       "rows": [
        [
         "id",
         "int64"
        ],
        [
         "title",
         "object"
        ],
        [
         "company",
         "object"
        ],
        [
         "location",
         "object"
        ],
        [
         "category",
         "object"
        ],
        [
         "created",
         "object"
        ],
        [
         "description",
         "object"
        ],
        [
         "salary_min",
         "float64"
        ],
        [
         "salary_max",
         "float64"
        ],
        [
         "contract_type",
         "object"
        ],
        [
         "contract_time",
         "object"
        ]
       ],
       "shape": {
        "columns": 1,
        "rows": 11
       }
      },
      "text/plain": [
       "id                 int64\n",
       "title             object\n",
       "company           object\n",
       "location          object\n",
       "category          object\n",
       "created           object\n",
       "description       object\n",
       "salary_min       float64\n",
       "salary_max       float64\n",
       "contract_type     object\n",
       "contract_time     object\n",
       "dtype: object"
      ]
     },
     "execution_count": 11,
     "metadata": {},
     "output_type": "execute_result"
    }
   ],
   "source": [
    "# chcek the data types of the columns\n",
    "jobs_gb.dtypes"
   ]
  },
  {
   "cell_type": "code",
   "execution_count": 12,
   "id": "fd5b6b17",
   "metadata": {},
   "outputs": [
    {
     "data": {
      "application/vnd.microsoft.datawrangler.viewer.v0+json": {
       "columns": [
        {
         "name": "index",
         "rawType": "object",
         "type": "string"
        },
        {
         "name": "salary_min",
         "rawType": "float64",
         "type": "float"
        },
        {
         "name": "salary_max",
         "rawType": "float64",
         "type": "float"
        }
       ],
       "ref": "4613534b-1805-4393-8a80-5226aeb7aba6",
       "rows": [
        [
         "count",
         "500.0",
         "500.0"
        ],
        [
         "mean",
         "36133.84566",
         "44346.55166"
        ],
        [
         "std",
         "22708.096318599633",
         "26237.799317123223"
        ],
        [
         "min",
         "0.0",
         "0.0"
        ],
        [
         "25%",
         "26436.0",
         "29120.0"
        ],
        [
         "50%",
         "31650.0",
         "40000.0"
        ],
        [
         "75%",
         "42050.0",
         "51179.0"
        ],
        [
         "max",
         "336000.0",
         "378000.0"
        ]
       ],
       "shape": {
        "columns": 2,
        "rows": 8
       }
      },
      "text/html": [
       "<div>\n",
       "<style scoped>\n",
       "    .dataframe tbody tr th:only-of-type {\n",
       "        vertical-align: middle;\n",
       "    }\n",
       "\n",
       "    .dataframe tbody tr th {\n",
       "        vertical-align: top;\n",
       "    }\n",
       "\n",
       "    .dataframe thead th {\n",
       "        text-align: right;\n",
       "    }\n",
       "</style>\n",
       "<table border=\"1\" class=\"dataframe\">\n",
       "  <thead>\n",
       "    <tr style=\"text-align: right;\">\n",
       "      <th></th>\n",
       "      <th>salary_min</th>\n",
       "      <th>salary_max</th>\n",
       "    </tr>\n",
       "  </thead>\n",
       "  <tbody>\n",
       "    <tr>\n",
       "      <th>count</th>\n",
       "      <td>500.000000</td>\n",
       "      <td>500.000000</td>\n",
       "    </tr>\n",
       "    <tr>\n",
       "      <th>mean</th>\n",
       "      <td>36133.845660</td>\n",
       "      <td>44346.551660</td>\n",
       "    </tr>\n",
       "    <tr>\n",
       "      <th>std</th>\n",
       "      <td>22708.096319</td>\n",
       "      <td>26237.799317</td>\n",
       "    </tr>\n",
       "    <tr>\n",
       "      <th>min</th>\n",
       "      <td>0.000000</td>\n",
       "      <td>0.000000</td>\n",
       "    </tr>\n",
       "    <tr>\n",
       "      <th>25%</th>\n",
       "      <td>26436.000000</td>\n",
       "      <td>29120.000000</td>\n",
       "    </tr>\n",
       "    <tr>\n",
       "      <th>50%</th>\n",
       "      <td>31650.000000</td>\n",
       "      <td>40000.000000</td>\n",
       "    </tr>\n",
       "    <tr>\n",
       "      <th>75%</th>\n",
       "      <td>42050.000000</td>\n",
       "      <td>51179.000000</td>\n",
       "    </tr>\n",
       "    <tr>\n",
       "      <th>max</th>\n",
       "      <td>336000.000000</td>\n",
       "      <td>378000.000000</td>\n",
       "    </tr>\n",
       "  </tbody>\n",
       "</table>\n",
       "</div>"
      ],
      "text/plain": [
       "          salary_min     salary_max\n",
       "count     500.000000     500.000000\n",
       "mean    36133.845660   44346.551660\n",
       "std     22708.096319   26237.799317\n",
       "min         0.000000       0.000000\n",
       "25%     26436.000000   29120.000000\n",
       "50%     31650.000000   40000.000000\n",
       "75%     42050.000000   51179.000000\n",
       "max    336000.000000  378000.000000"
      ]
     },
     "execution_count": 12,
     "metadata": {},
     "output_type": "execute_result"
    }
   ],
   "source": [
    "jobs_gb[['salary_min', 'salary_max']].describe()"
   ]
  },
  {
   "cell_type": "code",
   "execution_count": 13,
   "id": "462d5a77",
   "metadata": {},
   "outputs": [],
   "source": [
    "# Create a new column on the average salary\n",
    "jobs_gb['salary_avg'] = (jobs_gb['salary_min'] + jobs_gb['salary_max']) / 2"
   ]
  },
  {
   "cell_type": "code",
   "execution_count": 14,
   "id": "7ad64219",
   "metadata": {},
   "outputs": [],
   "source": [
    "# Standardize column names\n",
    "resumes.columns = resumes.columns.str.strip().str.lower()\n",
    "jobs_gb.columns = jobs_gb.columns.str.strip().str.lower()"
   ]
  },
  {
   "cell_type": "code",
   "execution_count": 16,
   "id": "85c25856",
   "metadata": {},
   "outputs": [],
   "source": [
    "# Remove extra whitespace and bullets\n",
    "def clean_text(text):\n",
    "    text = text.lower()  # convert to lowercase\n",
    "    text = re.sub(r'\\s+', ' ', text)  # collapse whitespace\n",
    "    text = text.replace('\\u2022', '')  # remove bullets\n",
    "    return text.strip()\n",
    "\n",
    "# Clean the 'description' column\n",
    "jobs_gb['description'] = jobs_gb['description'].apply(clean_text)\n",
    "resumes['resume_str'] = resumes['resume_str'].apply(clean_text)"
   ]
  },
  {
   "cell_type": "code",
   "execution_count": 17,
   "id": "8f55d968",
   "metadata": {},
   "outputs": [],
   "source": [
    "# convert to csv\n",
    "jobs_gb.to_csv('jobs_gb_cleaned.csv', index=False)\n",
    "resumes.to_csv('resumes.csv', index=False)"
   ]
  },
  {
   "cell_type": "code",
   "execution_count": null,
   "id": "3078f7fc",
   "metadata": {},
   "outputs": [],
   "source": []
  }
 ],
 "metadata": {
  "kernelspec": {
   "display_name": "myenv",
   "language": "python",
   "name": "python3"
  },
  "language_info": {
   "codemirror_mode": {
    "name": "ipython",
    "version": 3
   },
   "file_extension": ".py",
   "mimetype": "text/x-python",
   "name": "python",
   "nbconvert_exporter": "python",
   "pygments_lexer": "ipython3",
   "version": "3.12.11"
  }
 },
 "nbformat": 4,
 "nbformat_minor": 5
}
